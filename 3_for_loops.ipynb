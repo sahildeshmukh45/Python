{
 "cells": [
  {
   "cell_type": "raw",
   "id": "7462e4a6-5546-46d6-a9c4-5738e9695a0a",
   "metadata": {},
   "source": [
    "Loops\n",
    "there are two types of loop \n",
    "1. For Loop \n",
    "2. WHile Loop\n",
    "\n",
    "for loop is used for intreations\n",
    "while loop is used for repetations\n",
    "\n",
    "in for loops\n",
    "iteration perform on datatypes\n",
    "no need to add stop condition it automatically terminate the loop after execution  \n",
    "\n",
    "Iteration (procedure)\n",
    "Iterator  (the one who performs iteration)\n",
    "Iterable   (datatypes on which iteration can be performed)\n",
    "\n",
    "iteration is possible only on collection of elements\n",
    "iteration is perfromed only on datatypes which supports indexing\n",
    "\n"
   ]
  },
  {
   "cell_type": "code",
   "execution_count": 3,
   "id": "e4dc95e4-37ab-4514-8f9c-4b0de510f166",
   "metadata": {},
   "outputs": [
    {
     "name": "stdout",
     "output_type": "stream",
     "text": [
      "I\n",
      "T\n",
      "V\n",
      "e\n",
      "d\n",
      "a\n",
      "n\n",
      "t\n"
     ]
    }
   ],
   "source": [
    "s = \"ITVedant\"\n",
    "for i in s:\n",
    "    print(i)"
   ]
  },
  {
   "cell_type": "code",
   "execution_count": 8,
   "id": "8e4010d8-c1a9-46b8-b139-2680d8089ab8",
   "metadata": {},
   "outputs": [
    {
     "name": "stdout",
     "output_type": "stream",
     "text": [
      "1234h"
     ]
    }
   ],
   "source": [
    "l = [1,2,3,4,\"h\"]\n",
    "for i in l:\n",
    "    print(i, end=\"\") #for horizontal output"
   ]
  },
  {
   "cell_type": "raw",
   "id": "05087ff6-f44e-4d60-8061-318588af955f",
   "metadata": {},
   "source": [
    "output of range is gets stored in tuple ( )"
   ]
  },
  {
   "cell_type": "code",
   "execution_count": 1,
   "id": "bf7c00c6-f332-4223-b66a-a68819126da6",
   "metadata": {},
   "outputs": [
    {
     "name": "stdout",
     "output_type": "stream",
     "text": [
      "2\n",
      "3\n",
      "4\n",
      "5\n",
      "6\n",
      "7\n",
      "8\n",
      "9\n",
      "10\n",
      "11\n",
      "12\n",
      "13\n",
      "14\n",
      "15\n",
      "16\n",
      "17\n",
      "18\n",
      "19\n",
      "20\n"
     ]
    }
   ],
   "source": [
    "#print numbers from 2 to 20 \n",
    "for i in range(2,21):\n",
    "    print(i)"
   ]
  },
  {
   "cell_type": "code",
   "execution_count": 2,
   "id": "e4c82eb9-3e89-43fe-93bd-3de5382a6eda",
   "metadata": {},
   "outputs": [
    {
     "name": "stdin",
     "output_type": "stream",
     "text": [
      " 329\n"
     ]
    },
    {
     "name": "stdout",
     "output_type": "stream",
     "text": [
      "329 * 1 = 329\n",
      "329 * 2 = 658\n",
      "329 * 3 = 987\n",
      "329 * 4 = 1316\n",
      "329 * 5 = 1645\n",
      "329 * 6 = 1974\n",
      "329 * 7 = 2303\n",
      "329 * 8 = 2632\n",
      "329 * 9 = 2961\n",
      "329 * 10 = 3290\n"
     ]
    }
   ],
   "source": [
    "#accept number from user and print table for that number\n",
    "x= int(input())\n",
    "for i in range(1,11):\n",
    "    \n",
    "    print(x ,\"*\", i ,\"=\" , x*i)\n",
    "    \n",
    "\n",
    "\n",
    "\n"
   ]
  },
  {
   "cell_type": "code",
   "execution_count": null,
   "id": "711c6181-127d-4718-9c0a-23607756ec81",
   "metadata": {},
   "outputs": [],
   "source": []
  },
  {
   "cell_type": "code",
   "execution_count": 21,
   "id": "8b75bc4f-29c7-4dda-8109-2b851c273d3f",
   "metadata": {},
   "outputs": [
    {
     "name": "stdout",
     "output_type": "stream",
     "text": [
      "2\n",
      "4\n",
      "6\n",
      "8\n",
      "10\n"
     ]
    }
   ],
   "source": [
    "l = [1, 2, 4, 6, 8, 10, 13, 15]\n",
    "\n",
    "for i in l:\n",
    "    if i % 2 == 0:\n",
    "        print(i)"
   ]
  },
  {
   "cell_type": "code",
   "execution_count": 13,
   "id": "76d92fde-8258-425a-8ed3-d839d9145e33",
   "metadata": {},
   "outputs": [
    {
     "name": "stdout",
     "output_type": "stream",
     "text": [
      "I_n_d_i_a_"
     ]
    }
   ],
   "source": [
    "l = \"India\"\n",
    "\n",
    "for i in l:\n",
    "    print(i, end=\"_\")"
   ]
  },
  {
   "cell_type": "code",
   "execution_count": 14,
   "id": "01111199-9cb5-4884-8c34-d6385bf4ebb0",
   "metadata": {},
   "outputs": [
    {
     "name": "stdin",
     "output_type": "stream",
     "text": [
      " qwertyuiopasdfghjk\n"
     ]
    },
    {
     "name": "stdout",
     "output_type": "stream",
     "text": [
      "18\n"
     ]
    }
   ],
   "source": [
    "a = input()\n",
    "count = 0\n",
    "for i in a:\n",
    "    count = count + 1\n",
    "print(count)\n"
   ]
  },
  {
   "cell_type": "code",
   "execution_count": 12,
   "id": "37fdac62-6131-44bc-b35b-578143bd5408",
   "metadata": {},
   "outputs": [
    {
     "name": "stdin",
     "output_type": "stream",
     "text": [
      "enter number:  10\n"
     ]
    },
    {
     "name": "stdout",
     "output_type": "stream",
     "text": [
      "Factorial of 10 is:  3628800\n"
     ]
    }
   ],
   "source": [
    "#find out the factorial of given number \n",
    "\n",
    "a = int(input(\"enter number: \"))\n",
    "f = 1\n",
    "\n",
    "for i in range(1, a+1):\n",
    "    f = f * i\n",
    "\n",
    "print(\"Factorial of\",a,\"is: \",f)"
   ]
  },
  {
   "cell_type": "code",
   "execution_count": 90,
   "id": "853bd9e6-6dc4-4025-af22-3f2da6db962b",
   "metadata": {},
   "outputs": [
    {
     "name": "stdout",
     "output_type": "stream",
     "text": [
      "10 9 8 7 6 5 4 3 2 1 "
     ]
    }
   ],
   "source": [
    "for i in range(10,0,-1):\n",
    "    print(i,end=\" \")"
   ]
  },
  {
   "cell_type": "code",
   "execution_count": 89,
   "id": "e1608103-2cfd-4219-8171-3d6243739209",
   "metadata": {},
   "outputs": [
    {
     "name": "stdout",
     "output_type": "stream",
     "text": [
      "10 9 8 7 6 5 4 3 2 1 0 "
     ]
    }
   ],
   "source": [
    "for i in range(10,-1,-1):\n",
    "    print(i, end=\" \")"
   ]
  },
  {
   "cell_type": "code",
   "execution_count": 1,
   "id": "20bace05-0452-424e-877a-90ec6056b6eb",
   "metadata": {},
   "outputs": [
    {
     "name": "stdin",
     "output_type": "stream",
     "text": [
      "Enter number: 10\n"
     ]
    },
    {
     "name": "stdout",
     "output_type": "stream",
     "text": [
      "Summation of first 10 natural numbers is: 55\n"
     ]
    }
   ],
   "source": [
    "#summation of n natural numbers\n",
    "\n",
    "n = int(input(\"Enter number:\"))\n",
    "sum = 0\n",
    "\n",
    "for i in range(1,n+1):\n",
    "    sum = sum + i\n",
    "\n",
    "\n",
    "print(\"Summation of first\" , n , \"natural numbers is:\" ,sum)"
   ]
  },
  {
   "cell_type": "code",
   "execution_count": 152,
   "id": "5bf476dd-4ea8-4500-8221-86a8a6c09a07",
   "metadata": {},
   "outputs": [
    {
     "name": "stdin",
     "output_type": "stream",
     "text": [
      "Enter number: 12345\n"
     ]
    },
    {
     "name": "stdout",
     "output_type": "stream",
     "text": [
      "Reverse of 12345 is: 54321\n",
      "Addition of numbers: 15\n"
     ]
    }
   ],
   "source": [
    "#number entered by user in reverse order and addition of that digit\n",
    "\n",
    "a = (input(\"Enter number:\"))\n",
    "\n",
    "d = a[::-1]\n",
    "print(\"Reverse of\", a , \"is:\",d)\n",
    "ad = 0\n",
    "for i in a:\n",
    "    ad = ad + int(i)\n",
    "\n",
    "print(\"Addition of numbers:\",ad)\n"
   ]
  },
  {
   "cell_type": "code",
   "execution_count": 7,
   "id": "667ec05e-79c5-492e-8512-8de115a3e885",
   "metadata": {},
   "outputs": [
    {
     "name": "stdin",
     "output_type": "stream",
     "text": [
      " 32\n"
     ]
    },
    {
     "name": "stdout",
     "output_type": "stream",
     "text": [
      "5\n"
     ]
    }
   ],
   "source": [
    "a = (input())\n",
    "ad = 0 \n",
    "for i in(a):\n",
    "    ad = ad+int(i)\n",
    "\n",
    "print(ad)"
   ]
  },
  {
   "cell_type": "code",
   "execution_count": null,
   "id": "ee4d9340-ebfe-40af-b7df-fcda216303c4",
   "metadata": {},
   "outputs": [],
   "source": []
  },
  {
   "cell_type": "code",
   "execution_count": 303,
   "id": "323e8f5f-aa3c-44dd-97d8-3179a2c59d82",
   "metadata": {},
   "outputs": [
    {
     "name": "stdin",
     "output_type": "stream",
     "text": [
      " 153\n"
     ]
    },
    {
     "name": "stdout",
     "output_type": "stream",
     "text": [
      "153\n",
      "Entered number is an armstrong number\n"
     ]
    }
   ],
   "source": [
    "#check whtether the given number is armstrong or not\n",
    "a = (input())\n",
    "ar = 0\n",
    "d = len(a)\n",
    "\n",
    "for i in a:\n",
    "   ar = ar + int(i) ** d\n",
    "\n",
    "print(ar)\n",
    "\n",
    "if int(a) == ar:\n",
    "    print(\"Entered number is an armstrong number\")\n",
    "\n",
    "else:\n",
    "    print(\"Not an armstrong number\")\n",
    "    "
   ]
  },
  {
   "cell_type": "code",
   "execution_count": 1,
   "id": "0a03a121-3d6e-451a-a5c6-26a4bc06419e",
   "metadata": {},
   "outputs": [
    {
     "name": "stdin",
     "output_type": "stream",
     "text": [
      "Enter numbers: 4 5 6 \n"
     ]
    },
    {
     "name": "stdout",
     "output_type": "stream",
     "text": [
      "Summation is: 15\n"
     ]
    }
   ],
   "source": [
    "#Write a Python program to calculate the average of numbers in a list.\n",
    "\n",
    "a = (input(\"Enter numbers:\")).split()\n",
    "#b = a.split(\" \")\n",
    "\n",
    "sum = 0 \n",
    "for i in a:\n",
    "    sum = (sum + int(i))\n",
    "\n",
    "print(\"Summation is:\",sum)\n"
   ]
  },
  {
   "cell_type": "code",
   "execution_count": 239,
   "id": "35501370-7698-46cf-b99b-45b1bb86a2b9",
   "metadata": {},
   "outputs": [
    {
     "name": "stdout",
     "output_type": "stream",
     "text": [
      "z\n",
      "zz\n",
      "zzz\n"
     ]
    }
   ],
   "source": [
    "## Extract child from this variable\n",
    "\n",
    "j = {\"info\":{\"family1\": {\n",
    "              \"adult\":[\"a\",\"b\",\"c\"], \n",
    "              \"child\":[\"x\",\"y\",\"z\"],\n",
    "              \"senior\": [\"t\",\"u\",\"v\"]},\n",
    "             \n",
    "             \"family2\": {\n",
    "                 \"adult\":[\"aa\",\"bb\",\"cc\"],\n",
    "                 \"child\":[\"xx\",\"yy\",\"zz\"], \n",
    "                 \"senior\":[\"tt\",\"uu\",\"vv\"]},\n",
    "             \n",
    "             \"family3\": {\n",
    "                 \"adult\":[\"aaa\",\"bbb\",\"ccc\"],\n",
    "                 \"child\":[\"xxx\",\"yyy\",\"zzz\"], \n",
    "                 \"senior\":[\"ttt\",\"uuu\",\"vvv\"]}}}\n",
    "\n",
    "for i in j.values():\n",
    "    for l in i.values():\n",
    "        print(l[\"child\"][-1])\n",
    "\n",
    "\n",
    "    "
   ]
  },
  {
   "cell_type": "code",
   "execution_count": 305,
   "id": "258551f9-2ed0-4acd-aec3-35b4a8b4adf8",
   "metadata": {},
   "outputs": [
    {
     "name": "stdin",
     "output_type": "stream",
     "text": [
      " 1\n",
      " 2\n",
      " 3\n",
      " 4\n"
     ]
    },
    {
     "name": "stdout",
     "output_type": "stream",
     "text": [
      "[1, 2, 3, 4]\n",
      "10\n"
     ]
    }
   ],
   "source": [
    "l=[]\n",
    "\n",
    "for i in range(4):\n",
    "    a = int(input())\n",
    "    l.append(a)\n",
    "print(l)\n",
    "s = 0\n",
    "for i in l: \n",
    "        s = s + i\n",
    "print(s)\n"
   ]
  },
  {
   "cell_type": "code",
   "execution_count": 246,
   "id": "15b3f1c1-a3dd-46f9-9eaf-76a2c0c73edb",
   "metadata": {},
   "outputs": [
    {
     "name": "stdin",
     "output_type": "stream",
     "text": [
      " 2\n",
      " 3\n",
      " 4\n",
      " 5\n",
      " 6\n",
      " 7\n",
      " 423\n",
      " 45\n",
      " 5\n",
      " 654\n"
     ]
    },
    {
     "name": "stdout",
     "output_type": "stream",
     "text": [
      "List of age is:  [2, 3, 4, 5, 6, 7, 423, 45, 5, 654]\n",
      "maximum age is:  654\n",
      "Minimum age is:  2\n"
     ]
    }
   ],
   "source": [
    "l=[]\n",
    "\n",
    "for i in range(10):\n",
    "    a = int(input())\n",
    "    l.append(a)\n",
    "print(\"List of age is: \",l)\n",
    "print(\"maximum age is: \",max(l))\n",
    "print(\"Minimum age is: \",min(l))"
   ]
  },
  {
   "cell_type": "code",
   "execution_count": 249,
   "id": "5eeee82f-0d7f-47ff-a867-d17a997837d0",
   "metadata": {},
   "outputs": [
    {
     "name": "stdout",
     "output_type": "stream",
     "text": [
      "{'adult': ['a', 'b', 'c'], 'child': ['x', 'y', 'z'], 'senior': ['t', 'u', 'abc']}\n",
      "{'adult': ['aa', 'bb', 'cc'], 'child': ['xx', 'yy', 'zz'], 'senior': ['tt', 'uu', 'abc']}\n",
      "{'adult': ['aaa', 'bbb', 'ccc'], 'child': ['xxx', 'yyy', 'zzz'], 'senior': ['ttt', 'uuu', 'abc']}\n"
     ]
    }
   ],
   "source": [
    "j = {\"info\":{\"family1\": {\n",
    "              \"adult\":[\"a\",\"b\",\"c\"], \n",
    "              \"child\":[\"x\",\"y\",\"z\"],\n",
    "              \"senior\": [\"t\",\"u\",\"v\"]},\n",
    "             \n",
    "             \"family2\": {\n",
    "                 \"adult\":[\"aa\",\"bb\",\"cc\"],\n",
    "                 \"child\":[\"xx\",\"yy\",\"zz\"], \n",
    "                 \"senior\":[\"tt\",\"uu\",\"vv\"]},\n",
    "             \n",
    "             \"family3\": {\n",
    "                 \"adult\":[\"aaa\",\"bbb\",\"ccc\"],\n",
    "                 \"child\":[\"xxx\",\"yyy\",\"zzz\"], \n",
    "                 \"senior\":[\"ttt\",\"uuu\",\"vvv\"]}}}\n",
    "\n",
    "for i in j.values():\n",
    "    for l in i.values():\n",
    "        l[\"senior\"][-1]=\"abc\"\n",
    "        print(l)\n",
    "        "
   ]
  },
  {
   "cell_type": "code",
   "execution_count": 1,
   "id": "50ac5429-6f07-490a-bc28-7f6a8d44070b",
   "metadata": {},
   "outputs": [
    {
     "name": "stdin",
     "output_type": "stream",
     "text": [
      " 4\n"
     ]
    },
    {
     "name": "stdout",
     "output_type": "stream",
     "text": [
      "\n",
      "*\n",
      "**\n",
      "***\n",
      "****\n"
     ]
    }
   ],
   "source": [
    "a = int(input())\n",
    "for i in range(a+1):\n",
    "    print(int(i)*\"*\")"
   ]
  },
  {
   "cell_type": "code",
   "execution_count": 3,
   "id": "f038c312-09ff-41c7-b05f-5ac350a95eb4",
   "metadata": {},
   "outputs": [
    {
     "name": "stdin",
     "output_type": "stream",
     "text": [
      " 5\n"
     ]
    },
    {
     "name": "stdout",
     "output_type": "stream",
     "text": [
      "*\n",
      "**\n",
      "***\n",
      "****\n",
      "*****\n"
     ]
    }
   ],
   "source": [
    "a = int(input())\n",
    "for i in range(a):\n",
    "    for j in range(i+1):\n",
    "        print('*',end='')\n",
    "    print()\n",
    "    "
   ]
  },
  {
   "cell_type": "code",
   "execution_count": 291,
   "id": "3247393a-c1c5-49a2-b8b2-7e53704fdc41",
   "metadata": {},
   "outputs": [
    {
     "name": "stdin",
     "output_type": "stream",
     "text": [
      " 5\n"
     ]
    },
    {
     "name": "stdout",
     "output_type": "stream",
     "text": [
      "*\n",
      "**\n",
      "***\n",
      "****\n",
      "*****\n"
     ]
    }
   ],
   "source": [
    "a = int(input())\n",
    "\n",
    "for i in range(a):\n",
    "    for j in range(i+1):\n",
    "        print(\"*\",end=\"\")\n",
    "    print()"
   ]
  },
  {
   "cell_type": "code",
   "execution_count": 302,
   "id": "4614f455-23da-4c88-a427-1591d415263c",
   "metadata": {},
   "outputs": [
    {
     "name": "stdin",
     "output_type": "stream",
     "text": [
      " 5\n"
     ]
    },
    {
     "name": "stdout",
     "output_type": "stream",
     "text": [
      "    *\n",
      "   **\n",
      "  ***\n",
      " ****\n",
      "*****\n"
     ]
    }
   ],
   "source": [
    "a = int(input())\n",
    "for i in range(1,a+1):\n",
    "    for j in range(a-i):\n",
    "        print(\" \",end=\"\")\n",
    "    for k in range(i):\n",
    "        print(\"*\",end=\"\")\n",
    "    print()"
   ]
  },
  {
   "cell_type": "code",
   "execution_count": 306,
   "id": "309b35e4-e6a7-4104-a6c8-8fb57db5dc90",
   "metadata": {},
   "outputs": [
    {
     "name": "stdin",
     "output_type": "stream",
     "text": [
      " 5\n"
     ]
    },
    {
     "name": "stdout",
     "output_type": "stream",
     "text": [
      "1\n",
      "22\n",
      "333\n",
      "4444\n",
      "55555\n"
     ]
    }
   ],
   "source": [
    "a = int(input())\n",
    "\n",
    "for i in range(a):\n",
    "    for j in range(i+1):\n",
    "        print(i+1,end=\"\")\n",
    "    print()"
   ]
  },
  {
   "cell_type": "code",
   "execution_count": 286,
   "id": "ab708977-3a98-4a72-8651-d869a7e51c9c",
   "metadata": {},
   "outputs": [
    {
     "name": "stdin",
     "output_type": "stream",
     "text": [
      " 5\n"
     ]
    },
    {
     "name": "stdout",
     "output_type": "stream",
     "text": [
      "\n",
      "*****\n",
      "****\n",
      "***\n",
      "**\n",
      "*"
     ]
    }
   ],
   "source": [
    "a = int(input())\n",
    "\n",
    "for i in range(a):\n",
    "    print()\n",
    "    for j in range(i,a):\n",
    "        print(\"*\",end=\"\")"
   ]
  },
  {
   "cell_type": "code",
   "execution_count": 324,
   "id": "1d049763-4f2d-4e05-a3f0-20f317574b0d",
   "metadata": {},
   "outputs": [
    {
     "name": "stdin",
     "output_type": "stream",
     "text": [
      " 5\n"
     ]
    },
    {
     "name": "stdout",
     "output_type": "stream",
     "text": [
      "    1\n",
      "   22\n",
      "  333\n",
      " 4444\n",
      "55555\n"
     ]
    }
   ],
   "source": [
    "a = int(input())\n",
    "\n",
    "for i in range(1,a+1):\n",
    "    for j in range(a-i):\n",
    "        print(\" \",end=\"\")\n",
    "    for k in range(i):\n",
    "        print(i,end=\"\")\n",
    "    print()"
   ]
  },
  {
   "cell_type": "code",
   "execution_count": 325,
   "id": "064ae26e-b53b-4100-9ae1-b729d769caf8",
   "metadata": {},
   "outputs": [
    {
     "name": "stdin",
     "output_type": "stream",
     "text": [
      " 5\n"
     ]
    },
    {
     "name": "stdout",
     "output_type": "stream",
     "text": [
      "*****\n",
      "****\n",
      "***\n",
      "**\n",
      "*\n"
     ]
    }
   ],
   "source": [
    "a = int(input())\n",
    "\n",
    "for i in range (a,0,-1):\n",
    "    print(i*\"*\")"
   ]
  },
  {
   "cell_type": "code",
   "execution_count": 352,
   "id": "f7592cd8-e612-47d9-acc6-5cd493b9a1c3",
   "metadata": {},
   "outputs": [
    {
     "name": "stdin",
     "output_type": "stream",
     "text": [
      " 4\n"
     ]
    },
    {
     "name": "stdout",
     "output_type": "stream",
     "text": [
      "\n",
      "1 \n",
      "2 2 \n",
      "3 3 3 \n",
      "4 4 4 4 \n"
     ]
    }
   ],
   "source": [
    "a = int(input())\n",
    "\n",
    "for i in range(a+1):\n",
    "    for j in range(1,i+1):\n",
    "        print(i,end=\" \")\n",
    "    print()"
   ]
  },
  {
   "cell_type": "code",
   "execution_count": 344,
   "id": "dc5a7559-17b9-483b-b2c8-0571bf3f890f",
   "metadata": {},
   "outputs": [
    {
     "name": "stdin",
     "output_type": "stream",
     "text": [
      " 6\n"
     ]
    },
    {
     "name": "stdout",
     "output_type": "stream",
     "text": [
      "666666\n",
      "55555\n",
      "4444\n",
      "333\n",
      "22\n",
      "1\n"
     ]
    }
   ],
   "source": [
    "a = int(input())\n",
    "\n",
    "for i in range(a,0,-1):\n",
    "    for j in range(0,i):\n",
    "        print(i,end=\"\")\n",
    "    print()\n",
    "    "
   ]
  },
  {
   "cell_type": "code",
   "execution_count": 340,
   "id": "5d7fef88-987d-4d21-bacf-9ad1500cc140",
   "metadata": {},
   "outputs": [
    {
     "name": "stdin",
     "output_type": "stream",
     "text": [
      " 5\n"
     ]
    },
    {
     "name": "stdout",
     "output_type": "stream",
     "text": [
      "xxxxx\n",
      "xxxx\n",
      "xxx\n",
      "xx\n",
      "x\n"
     ]
    }
   ],
   "source": [
    "a = int(input())\n",
    "\n",
    "for i in range(a,0,-1):\n",
    "    for j in range(0,i):\n",
    "        print(\"x\",end=\"\")\n",
    "    print()\n",
    "    "
   ]
  },
  {
   "cell_type": "code",
   "execution_count": 361,
   "id": "84626a53-43e0-4539-b6c9-68ecf2098723",
   "metadata": {},
   "outputs": [
    {
     "name": "stdin",
     "output_type": "stream",
     "text": [
      " 5\n"
     ]
    },
    {
     "name": "stdout",
     "output_type": "stream",
     "text": [
      "1 \n",
      "1 2 \n",
      "1 2 3 \n",
      "1 2 3 4 \n",
      "1 2 3 4 5 \n"
     ]
    }
   ],
   "source": [
    "a = int(input())\n",
    "\n",
    "for i in range(1,a+1):\n",
    "    for j in range(1,i+1):\n",
    "        print(j,end=\" \")\n",
    "    print()\n",
    "    "
   ]
  },
  {
   "cell_type": "code",
   "execution_count": 369,
   "id": "a46ba1d1-c9d4-4d33-bb5a-5120e931d924",
   "metadata": {},
   "outputs": [
    {
     "name": "stdin",
     "output_type": "stream",
     "text": [
      " 5\n"
     ]
    },
    {
     "name": "stdout",
     "output_type": "stream",
     "text": [
      "1 2 3 4 5 \n",
      "1 2 3 4 \n",
      "1 2 3 \n",
      "1 2 \n",
      "1 \n"
     ]
    }
   ],
   "source": [
    "a = int(input())\n",
    "\n",
    "for i in range(a,0,-1):\n",
    "    for j in range(1,i+1):\n",
    "        print(j,end=\" \")\n",
    "    print()\n",
    "    "
   ]
  },
  {
   "cell_type": "code",
   "execution_count": 374,
   "id": "e52204e9-3c50-48fa-b618-3d8b7fafcd7e",
   "metadata": {},
   "outputs": [
    {
     "name": "stdout",
     "output_type": "stream",
     "text": [
      "xxxx\n",
      "xxxx\n",
      "xxxx\n",
      "xxxx\n"
     ]
    }
   ],
   "source": [
    "a = 4\n",
    "\n",
    "for i in range(1,a+1):\n",
    "    for j in range(a):\n",
    "        print(\"x\",end=\"\")\n",
    "    print()"
   ]
  },
  {
   "cell_type": "code",
   "execution_count": 487,
   "id": "0515ef88-b376-42ca-b600-710a599091b9",
   "metadata": {},
   "outputs": [
    {
     "name": "stdin",
     "output_type": "stream",
     "text": [
      " 10\n"
     ]
    },
    {
     "name": "stdout",
     "output_type": "stream",
     "text": [
      "* * * * * * * * * * \n",
      "* * * * * * * * * * \n",
      "* * * * * * * * * * \n",
      "* * * * * * * * * * \n",
      "* * * * * * * * * * \n",
      "* * * * * * * * * * \n",
      "* * * * * * * * * * \n",
      "* * * * * * * * * * \n",
      "* * * * * * * * * * \n",
      "* * * * * * * * * * \n"
     ]
    }
   ],
   "source": [
    "a = int(input())\n",
    "\n",
    "for i in range(1,a+1):\n",
    "    for j in range(a):\n",
    "        print(\"*\",end=\" \")\n",
    "    print()"
   ]
  },
  {
   "cell_type": "code",
   "execution_count": 486,
   "id": "0bd2cf2f-d387-49f0-b0ee-2a5025125020",
   "metadata": {},
   "outputs": [
    {
     "name": "stdin",
     "output_type": "stream",
     "text": [
      " 10\n"
     ]
    },
    {
     "name": "stdout",
     "output_type": "stream",
     "text": [
      "**********\n",
      "**********\n",
      "**********\n",
      "**********\n",
      "**********\n",
      "**********\n",
      "**********\n",
      "**********\n",
      "**********\n",
      "**********\n"
     ]
    }
   ],
   "source": [
    "a = int(input())\n",
    "\n",
    "for i in range(1,a+1):\n",
    "    for j in range(a):\n",
    "        print(\"*\",end=\"\")\n",
    "    print()"
   ]
  },
  {
   "cell_type": "code",
   "execution_count": 485,
   "id": "f798f395-1dbd-425e-9c15-4e1ecc3715c1",
   "metadata": {},
   "outputs": [
    {
     "name": "stdin",
     "output_type": "stream",
     "text": [
      " 53\n"
     ]
    },
    {
     "name": "stdout",
     "output_type": "stream",
     "text": [
      "even numbers [2, 4, 6, 8, 10, 12, 14, 16, 18, 20, 22, 24, 26, 28, 30, 32, 34, 36, 38, 40, 42, 44, 46, 48, 50, 52]\n",
      "count of even 26\n",
      "odd numbers [1, 3, 5, 7, 9, 11, 13, 15, 17, 19, 21, 23, 25, 27, 29, 31, 33, 35, 37, 39, 41, 43, 45, 47, 49, 51, 53]\n",
      "count of odd 27\n"
     ]
    }
   ],
   "source": [
    "a = int(input())\n",
    "count_even = 0\n",
    "count_odd = 0\n",
    "even = []\n",
    "odd = []\n",
    "for i in range(1,a+1):\n",
    "    if i%2==0:\n",
    "        even.append(i)\n",
    "        #print(i,end=\" \")\n",
    "        count_even = count_even + 1\n",
    "    else :\n",
    "        odd.append(i)\n",
    "        count_odd = count_odd + 1\n",
    "        \n",
    "print(\"even numbers\",even)\n",
    "print(\"count of even\",count_even)\n",
    "print(\"odd numbers\",odd)\n",
    "print(\"count of odd\",count_odd)\n",
    "\n",
    "        \n",
    "\n",
    "        \n",
    "    \n",
    "        "
   ]
  },
  {
   "cell_type": "code",
   "execution_count": 446,
   "id": "7be03ac4-0a26-4328-a5a2-2bc8102077b1",
   "metadata": {},
   "outputs": [
    {
     "name": "stdout",
     "output_type": "stream",
     "text": [
      "String: ['hello', 'abc', 'India']\n",
      "Integer: [1, 2, 3, 4]\n",
      "Boolean: [True, False]\n",
      "Float: [1.5, 3.5, 6.5]\n"
     ]
    }
   ],
   "source": [
    "l = [\"hello\", True, False, \"abc\", 1, 2, 3, 4, 1.5, 3.5, 6.5, \"India\"]\n",
    "l1 = []\n",
    "l2 = [] \n",
    "l3 = []\n",
    "l4 = [] \n",
    "\n",
    "for i in (l):\n",
    "    if type(i)== str:\n",
    "        l1.append(i)\n",
    "    elif type(i) == int:\n",
    "        l2.append(i)\n",
    "    elif type(i) == bool:\n",
    "        l3.append(i)\n",
    "    elif type(i) == float:\n",
    "        l4.append(i)\n",
    "        \n",
    "\n",
    "print(\"String:\",l1)\n",
    "print(\"Integer:\",l2)\n",
    "print(\"Boolean:\",l3)\n",
    "print(\"Float:\",l4)\n",
    "\n"
   ]
  },
  {
   "cell_type": "code",
   "execution_count": 483,
   "id": "5fd17ba5-9f19-4838-95b1-7e2097c4d7e2",
   "metadata": {},
   "outputs": [
    {
     "name": "stdout",
     "output_type": "stream",
     "text": [
      "[1, 2, 6, 10, 12]\n",
      "[3.5, 7.8, 6.9]\n"
     ]
    }
   ],
   "source": [
    "a = {\n",
    "    \"a\":[1,2,3.5,6],\n",
    "    \"b\":[7.8,6.9,10,12],\n",
    "}\n",
    "\n",
    "l1 = []\n",
    "l2 = []\n",
    "\n",
    "for i in a.values():\n",
    "    for j in i:\n",
    "        if type(j)==int:\n",
    "            l1.append(j)\n",
    "        else:\n",
    "            l2.append(j)\n",
    "print(l1)\n",
    "print(l2)"
   ]
  },
  {
   "cell_type": "code",
   "execution_count": 4,
   "id": "2643a70e-f756-40d3-985f-104f2751e945",
   "metadata": {},
   "outputs": [
    {
     "name": "stdout",
     "output_type": "stream",
     "text": [
      "a\n"
     ]
    }
   ],
   "source": [
    "x = 10\n",
    "if x>5:\n",
    "    print(\"a\")\n",
    "elif x>8:\n",
    "    print(\"b\")\n",
    "if x>12:\n",
    "    print(\"c\")\n",
    "else:\n",
    "    print(\"d\")"
   ]
  },
  {
   "cell_type": "code",
   "execution_count": null,
   "id": "d4033a62-8113-4933-9b09-71764686aceb",
   "metadata": {},
   "outputs": [],
   "source": [
    "x = 10\n",
    "if x>5:\n",
    "    print(\"a\")\n",
    "elif x>8:\n",
    "    print(\"b\")\n",
    "\n",
    "else:\n",
    "    print(\"d\")"
   ]
  },
  {
   "cell_type": "code",
   "execution_count": null,
   "id": "bb0b8388-d59a-4c32-a6b1-853782612293",
   "metadata": {},
   "outputs": [],
   "source": []
  },
  {
   "cell_type": "raw",
   "id": "4ad3028e-43dd-4328-9f91-51d07783d6c6",
   "metadata": {},
   "source": [
    "18 June 2024"
   ]
  },
  {
   "cell_type": "code",
   "execution_count": null,
   "id": "51e7790c-5069-46b0-a67a-dcba51c3c182",
   "metadata": {},
   "outputs": [],
   "source": []
  },
  {
   "cell_type": "code",
   "execution_count": 8,
   "id": "3004783d-812d-41e3-92fe-6dec54b6f9bc",
   "metadata": {},
   "outputs": [],
   "source": [
    "#pass means nothing but it will avoid the errors due to the incomplete program \n",
    "for i in range(5):\n",
    "    pass"
   ]
  },
  {
   "cell_type": "code",
   "execution_count": 10,
   "id": "7dbbab82-7b7c-4a05-8516-e08cf2698f4c",
   "metadata": {},
   "outputs": [
    {
     "name": "stdout",
     "output_type": "stream",
     "text": [
      "0\n",
      "1\n",
      "3\n",
      "4\n"
     ]
    }
   ],
   "source": [
    "#continue is used to skip a particular iteration or skip a particular step\n",
    "\n",
    "for i in range(5):\n",
    "    if i == 2:\n",
    "        continue\n",
    "    else:\n",
    "        print(i)"
   ]
  },
  {
   "cell_type": "code",
   "execution_count": 20,
   "id": "7968470e-7929-4bf4-aba4-d1b7c1391291",
   "metadata": {},
   "outputs": [
    {
     "name": "stdout",
     "output_type": "stream",
     "text": [
      "2\n"
     ]
    }
   ],
   "source": [
    "for i in range(5):\n",
    "    if i == 2:\n",
    "        pass\n",
    "        print(i)\n",
    "    "
   ]
  },
  {
   "cell_type": "code",
   "execution_count": 22,
   "id": "f17ccf1f-ee08-4b99-aa4e-a6f0edbd716b",
   "metadata": {},
   "outputs": [],
   "source": [
    "for i in range(5):\n",
    "    if i == 2:\n",
    "        continue\n",
    "        print(i)\n",
    "    "
   ]
  },
  {
   "cell_type": "code",
   "execution_count": 30,
   "id": "76efbd96-8a51-4cad-a45e-8bd48a85d8da",
   "metadata": {},
   "outputs": [
    {
     "name": "stdout",
     "output_type": "stream",
     "text": [
      "Hell wrld, Hw are yu?"
     ]
    }
   ],
   "source": [
    "s = \"Hello world, How are you?\"\n",
    "\n",
    "for i in s:\n",
    "    if i == \"o\":\n",
    "        continue\n",
    "    else:\n",
    "        print(i,end=\"\")"
   ]
  },
  {
   "cell_type": "code",
   "execution_count": 34,
   "id": "38478638-54c1-4451-8c3d-d0e9dd10313b",
   "metadata": {},
   "outputs": [
    {
     "name": "stdout",
     "output_type": "stream",
     "text": [
      "2 4 6 8 10 12 14 16 18 20 22 24 26 28 30 32 34 36 38 40 42 44 46 48 50 "
     ]
    }
   ],
   "source": [
    "for i in range(1,51):\n",
    "    if i%2 != 0:\n",
    "        continue\n",
    "    else:\n",
    "        print(i,end=\" \")"
   ]
  },
  {
   "cell_type": "code",
   "execution_count": 61,
   "id": "1d971f93-d725-4ce5-914a-c4cb414ec2e5",
   "metadata": {},
   "outputs": [
    {
     "name": "stdout",
     "output_type": "stream",
     "text": [
      "Hll wrld, Hw r y?\n"
     ]
    }
   ],
   "source": [
    "a = \"Hello world, How are you?\"\n",
    "v=[\"a\",\"e\",\"i\",\"o\",\"u\"]\n",
    "s = \"\"\n",
    "for i in a:\n",
    "    if i in v:\n",
    "        continue\n",
    "    else:\n",
    "        s = s + i\n",
    "\n",
    "print(s)\n",
    "\n",
    "    "
   ]
  },
  {
   "cell_type": "code",
   "execution_count": 2,
   "id": "140ce8dd-3584-4833-b19b-edfce03a00c7",
   "metadata": {},
   "outputs": [
    {
     "name": "stdout",
     "output_type": "stream",
     "text": [
      "0\n",
      "1\n",
      "2\n",
      "3\n",
      "4\n",
      "5\n"
     ]
    }
   ],
   "source": [
    "#break \n",
    "for i in range(100):\n",
    "    print(i)\n",
    "    if i ==5:\n",
    "        break"
   ]
  },
  {
   "cell_type": "code",
   "execution_count": 6,
   "id": "bcdbc830-5938-462c-ae77-8a70c4abb25f",
   "metadata": {},
   "outputs": [
    {
     "name": "stdout",
     "output_type": "stream",
     "text": [
      "0\n",
      "1\n",
      "2\n",
      "3\n",
      "4\n"
     ]
    }
   ],
   "source": [
    "#break \n",
    "for i in range(100):\n",
    "    if i == 5:\n",
    "        break\n",
    "    print(i)"
   ]
  },
  {
   "cell_type": "code",
   "execution_count": 8,
   "id": "3598e908-5287-4548-9e2d-d71515b37238",
   "metadata": {},
   "outputs": [
    {
     "name": "stdout",
     "output_type": "stream",
     "text": [
      "apple\n",
      "mango\n",
      "cherry\n",
      "lichi\n",
      "pineapple\n",
      "grapes\n"
     ]
    }
   ],
   "source": [
    "f = [\"apple\",\"mango\",\"cherry\",\"lichi\",\"banana\",\"pineapple\",\"grapes\"]\n",
    "\n",
    "for i in(f):\n",
    "    if i == \"banana\":\n",
    "        continue\n",
    "    else:\n",
    "        print(i)"
   ]
  },
  {
   "cell_type": "code",
   "execution_count": 9,
   "id": "80ec3144-1f3c-412c-9ed0-9e794077d7e2",
   "metadata": {},
   "outputs": [
    {
     "name": "stdout",
     "output_type": "stream",
     "text": [
      "apple\n",
      "mango\n",
      "cherry\n",
      "lichi\n",
      "banana\n"
     ]
    }
   ],
   "source": [
    "f = [\"apple\",\"mango\",\"cherry\",\"lichi\",\"banana\",\"pineapple\",\"grapes\"]\n",
    "\n",
    "for i in(f):\n",
    "    print(i)\n",
    "    if i == \"banana\":\n",
    "        break"
   ]
  },
  {
   "cell_type": "code",
   "execution_count": 10,
   "id": "233a4330-1600-4ed3-a5d7-f981f7f1c502",
   "metadata": {},
   "outputs": [
    {
     "name": "stdout",
     "output_type": "stream",
     "text": [
      "apple\n",
      "mango\n",
      "cherry\n",
      "lichi\n"
     ]
    }
   ],
   "source": [
    "f = [\"apple\",\"mango\",\"cherry\",\"lichi\",\"banana\",\"pineapple\",\"grapes\"]\n",
    "\n",
    "for i in(f):\n",
    "    \n",
    "    if i == \"banana\":\n",
    "        break\n",
    "    print(i)"
   ]
  },
  {
   "cell_type": "code",
   "execution_count": null,
   "id": "78051aa2-588f-4037-a02e-ad814bc213b9",
   "metadata": {},
   "outputs": [],
   "source": []
  }
 ],
 "metadata": {
  "kernelspec": {
   "display_name": "Python 3 (ipykernel)",
   "language": "python",
   "name": "python3"
  },
  "language_info": {
   "codemirror_mode": {
    "name": "ipython",
    "version": 3
   },
   "file_extension": ".py",
   "mimetype": "text/x-python",
   "name": "python",
   "nbconvert_exporter": "python",
   "pygments_lexer": "ipython3",
   "version": "3.11.7"
  }
 },
 "nbformat": 4,
 "nbformat_minor": 5
}
