{
 "cells": [
  {
   "cell_type": "raw",
   "id": "b5c1286a-29c0-4fe8-970b-ea9c4877121f",
   "metadata": {},
   "source": [
    "WHILE LOOP\n",
    "used for repetations"
   ]
  },
  {
   "cell_type": "raw",
   "id": "31b5df5b-0d79-45ab-87c8-569ee047516f",
   "metadata": {},
   "source": [
    "syntax:\n",
    "Initialization\n",
    "while condition:\n",
    "    Body\n",
    "    increment/decrement"
   ]
  },
  {
   "cell_type": "code",
   "execution_count": 2,
   "id": "89d6cb7d-f1c7-4e6a-b8ff-606668b9a90b",
   "metadata": {},
   "outputs": [
    {
     "name": "stdout",
     "output_type": "stream",
     "text": [
      "1 2 3 4 5 6 7 8 9 10 "
     ]
    }
   ],
   "source": [
    "i = 1\n",
    "while i<11:\n",
    "    print(i,end=\" \")\n",
    "    i = i + 1"
   ]
  },
  {
   "cell_type": "code",
   "execution_count": 3,
   "id": "801ebee8-842f-4d63-a106-7f6c02ba1c21",
   "metadata": {},
   "outputs": [
    {
     "name": "stdout",
     "output_type": "stream",
     "text": [
      "10 9 8 7 6 5 4 3 2 1 "
     ]
    }
   ],
   "source": [
    "i = 10\n",
    "while i>0:\n",
    "    print(i,end=\" \")\n",
    "    i = i-1"
   ]
  },
  {
   "cell_type": "code",
   "execution_count": 2,
   "id": "0df39a99-2e19-4c1b-8b45-8ec98be8edc7",
   "metadata": {},
   "outputs": [
    {
     "name": "stdout",
     "output_type": "stream",
     "text": [
      "10\n",
      "9\n",
      "8\n",
      "7\n",
      "6\n",
      "5\n",
      "3\n",
      "2\n",
      "1\n"
     ]
    }
   ],
   "source": [
    "i = 11\n",
    "while i > 1:\n",
    "    i = i-1\n",
    "    if i == 4:\n",
    "        continue\n",
    "    else:\n",
    "        print(i)"
   ]
  },
  {
   "cell_type": "raw",
   "id": "16751255-4ac5-43ba-9ddb-40d37014d4df",
   "metadata": {},
   "source": [
    "while using continue in while loop always use inc/dec operator befor conditional statement"
   ]
  },
  {
   "cell_type": "code",
   "execution_count": 7,
   "id": "6d62c819-35f9-4392-9e7b-f54271625169",
   "metadata": {},
   "outputs": [
    {
     "name": "stdout",
     "output_type": "stream",
     "text": [
      "0 1 2 3 4 5 6 7 8 9 10 11 12 13 14 15 "
     ]
    }
   ],
   "source": [
    "i = 0\n",
    "while i < 20:\n",
    "    print(i,end=\" \")\n",
    "    i = i + 1 \n",
    "    if i == 16:\n",
    "        break\n",
    "    "
   ]
  },
  {
   "cell_type": "code",
   "execution_count": 17,
   "id": "48ad85a7-7fdc-4d32-8b4c-c8fd1a9db655",
   "metadata": {},
   "outputs": [
    {
     "name": "stdin",
     "output_type": "stream",
     "text": [
      " 23\n"
     ]
    },
    {
     "name": "stdout",
     "output_type": "stream",
     "text": [
      "23 x 1 = 23\n",
      "23 x 2 = 46\n",
      "23 x 3 = 69\n",
      "23 x 4 = 92\n",
      "23 x 5 = 115\n",
      "23 x 6 = 138\n",
      "23 x 7 = 161\n",
      "23 x 8 = 184\n",
      "23 x 9 = 207\n",
      "23 x 10 = 230\n"
     ]
    }
   ],
   "source": [
    "a = int(input())\n",
    "i = 1\n",
    "while i<11:\n",
    "    print(a,\"x\",i,\"=\",a*i)\n",
    "    i = i+1"
   ]
  },
  {
   "cell_type": "code",
   "execution_count": 26,
   "id": "e78703b0-e38a-42e4-820a-f548ddfba982",
   "metadata": {},
   "outputs": [
    {
     "name": "stdin",
     "output_type": "stream",
     "text": [
      " 10\n"
     ]
    },
    {
     "name": "stdout",
     "output_type": "stream",
     "text": [
      "summation of first 10 natural numbers is: 55\n"
     ]
    }
   ],
   "source": [
    "n = int(input())\n",
    "sum = 0 \n",
    "i = 1\n",
    "while i < n+1:\n",
    "    sum = sum + i \n",
    "    i = i+1\n",
    "print(\"summation of first\",n,\"natural numbers is:\",sum)\n",
    "    "
   ]
  },
  {
   "cell_type": "code",
   "execution_count": null,
   "id": "8182e016-50ea-40ba-bfae-093f7a93e34c",
   "metadata": {},
   "outputs": [],
   "source": [
    "a = 100\n",
    "b = 200\n",
    "sum = 0\n",
    "i = 1\n",
    "while i < b+1:\n",
    "    sum = sum + i \n",
    "i = i + 1\n",
    "print(sum)"
   ]
  },
  {
   "cell_type": "code",
   "execution_count": null,
   "id": "3f63c198-56f7-490e-8105-67b83b737762",
   "metadata": {},
   "outputs": [],
   "source": [
    "n = int(input())\n",
    "f = 1 \n",
    "i = 1 \n",
    "while i < n+1:\n",
    "    f = f*i\n",
    "    i = i + 1\n",
    "print(\"factorial of\",f,\"is:\",f)"
   ]
  },
  {
   "cell_type": "code",
   "execution_count": 3,
   "id": "25a28ad1-711f-445b-8f53-cef87c315f10",
   "metadata": {},
   "outputs": [
    {
     "name": "stdin",
     "output_type": "stream",
     "text": [
      " 152\n"
     ]
    },
    {
     "name": "stdout",
     "output_type": "stream",
     "text": [
      "9\n"
     ]
    }
   ],
   "source": [
    "n = (input())\n",
    "arm = 0 \n",
    "i = 1 \n",
    "d = len(n)\n",
    "while i < len(n):\n",
    "    arm = arm + int(i)**d\n",
    "    i = i + 1\n",
    "print(arm)"
   ]
  },
  {
   "cell_type": "code",
   "execution_count": 2,
   "id": "0db82871-1ca7-4857-9a4b-28094f93ed0b",
   "metadata": {},
   "outputs": [
    {
     "name": "stdin",
     "output_type": "stream",
     "text": [
      " tomato\n"
     ]
    },
    {
     "name": "stdout",
     "output_type": "stream",
     "text": [
      "otamot\n"
     ]
    }
   ],
   "source": [
    "n = input()\n",
    "i = 0\n",
    "while i < len(n):\n",
    "    i = i+1\n",
    "print(n[::-1])"
   ]
  },
  {
   "cell_type": "raw",
   "id": "b1194d42-1e1b-4b2c-8730-0154c472cac0",
   "metadata": {},
   "source": [
    "prime \n",
    "check whether all the letters a to z alphabets present in string or not"
   ]
  },
  {
   "cell_type": "code",
   "execution_count": 82,
   "id": "3ef85e55-a21e-4954-8dda-a6eb5ab32059",
   "metadata": {},
   "outputs": [
    {
     "name": "stdin",
     "output_type": "stream",
     "text": [
      " 5\n"
     ]
    },
    {
     "name": "stdout",
     "output_type": "stream",
     "text": [
      "P\n"
     ]
    }
   ],
   "source": [
    "a = int(input())\n",
    "\n",
    "for i in range(2,a):\n",
    "        if a % i == 0 :\n",
    "            print(\"NP\")\n",
    "            break\n",
    "else:\n",
    "     print(\"P\")"
   ]
  },
  {
   "cell_type": "code",
   "execution_count": 57,
   "id": "4fef7d1e-a22d-4a92-ac2f-9579f41d815b",
   "metadata": {},
   "outputs": [
    {
     "name": "stdin",
     "output_type": "stream",
     "text": [
      "enter number to check whether it is prime or not:  8763\n"
     ]
    },
    {
     "name": "stdout",
     "output_type": "stream",
     "text": [
      "8763 is not a prime number\n"
     ]
    }
   ],
   "source": [
    "a = int(input(\"enter number to check whether it is prime or not: \"))\n",
    "f = 0 \n",
    "if a > 2:\n",
    "    for i in range(2,a+1):\n",
    "        if a % i == 0:\n",
    "            f = f + 1\n",
    "if  a == 2 :\n",
    "    print(a,\"is a prime number\")\n",
    "elif f == 2:\n",
    "    print(a,\"is a prime number\")\n",
    "else:\n",
    "    print(a,\"is not a prime number\")"
   ]
  },
  {
   "cell_type": "code",
   "execution_count": 35,
   "id": "3dcc7624-366b-4a81-a87a-39defdfbb998",
   "metadata": {},
   "outputs": [
    {
     "name": "stdin",
     "output_type": "stream",
     "text": [
      " 1\n"
     ]
    },
    {
     "name": "stdout",
     "output_type": "stream",
     "text": [
      "prime number\n"
     ]
    }
   ],
   "source": [
    "a = int(input())\n",
    "i = 2\n",
    "while i < a:\n",
    "    if a%i ==0:\n",
    "        print(\"It is not prime number\")\n",
    "        break\n",
    "        i = i + 1\n",
    "else:\n",
    "    print(\"prime number\")\n",
    "        "
   ]
  },
  {
   "cell_type": "code",
   "execution_count": 100,
   "id": "7a98f75f-8d70-4237-a860-ce87bd82cea1",
   "metadata": {},
   "outputs": [
    {
     "name": "stdin",
     "output_type": "stream",
     "text": [
      " 1\n",
      " 50\n"
     ]
    },
    {
     "name": "stdout",
     "output_type": "stream",
     "text": [
      "2 3 5 7 11 13 17 19 23 29 31 37 41 43 47 \n",
      "15\n"
     ]
    }
   ],
   "source": [
    "a = int(input())\n",
    "b = int(input())\n",
    "l = []\n",
    "for i in range(a,b+1):\n",
    "    if i > 1:\n",
    "        for j in range(2,i):\n",
    "            if i % j == 0:\n",
    "                break\n",
    "        else:\n",
    "            print(i,end=\" \")\n",
    "            l.append(i)\n",
    "print()\n",
    "print(len(l))\n",
    "\n",
    "            "
   ]
  },
  {
   "cell_type": "code",
   "execution_count": 135,
   "id": "d190bbfd-e429-4abc-a2a6-2536d052a223",
   "metadata": {},
   "outputs": [
    {
     "name": "stdin",
     "output_type": "stream",
     "text": [
      " How vexingly quick daft zebras jump\n"
     ]
    },
    {
     "name": "stdout",
     "output_type": "stream",
     "text": [
      "not\n"
     ]
    }
   ],
   "source": [
    "a = input()\n",
    "b = a.lower()\n",
    "l = [\"qwertyuiopasdfghjklzxcvbnm\"]\n",
    "for i in l:\n",
    "    if b in a :\n",
    "        print(\"panagram\")\n",
    "        break\n",
    "    else:\n",
    "        print(\"not\")\n",
    "        break\n",
    "          \n",
    "    \n"
   ]
  },
  {
   "cell_type": "code",
   "execution_count": 147,
   "id": "ef5855de-f23f-4e04-b92b-094c24244e85",
   "metadata": {},
   "outputs": [
    {
     "name": "stdin",
     "output_type": "stream",
     "text": [
      " How vexingly quick daft zebra\n"
     ]
    },
    {
     "name": "stdout",
     "output_type": "stream",
     "text": [
      "String is a Panagram\n"
     ]
    }
   ],
   "source": [
    "a = input()\n",
    "alphabets = \"abcdefghijklmnopqrstuvwxyz\"\n",
    "for i in alphabets:\n",
    "    if i.lower() in a:\n",
    "        print(\"String is a Panagram\")\n",
    "        break\n",
    "    else:\n",
    "        print(\"String is not a Panagram\")\n",
    "        break"
   ]
  },
  {
   "cell_type": "code",
   "execution_count": null,
   "id": "f078aa7b-c75b-4f70-884f-67193f99fe33",
   "metadata": {},
   "outputs": [],
   "source": []
  }
 ],
 "metadata": {
  "kernelspec": {
   "display_name": "Python 3 (ipykernel)",
   "language": "python",
   "name": "python3"
  },
  "language_info": {
   "codemirror_mode": {
    "name": "ipython",
    "version": 3
   },
   "file_extension": ".py",
   "mimetype": "text/x-python",
   "name": "python",
   "nbconvert_exporter": "python",
   "pygments_lexer": "ipython3",
   "version": "3.11.7"
  }
 },
 "nbformat": 4,
 "nbformat_minor": 5
}
