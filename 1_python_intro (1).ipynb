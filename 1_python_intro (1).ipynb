{
 "cells": [
  {
   "cell_type": "raw",
   "id": "cea2c3a0-1a35-4595-8704-7c9c3f606ec9",
   "metadata": {},
   "source": [
    "1.  Python first lecture\n",
    "2.  Introduction to python "
   ]
  },
  {
   "cell_type": "code",
   "execution_count": 1,
   "id": "29a5373d-861e-4ec2-9203-6d61b513e8f9",
   "metadata": {},
   "outputs": [
    {
     "name": "stdout",
     "output_type": "stream",
     "text": [
      "Hello\n"
     ]
    }
   ],
   "source": [
    "print(\"Hello\")"
   ]
  },
  {
   "cell_type": "code",
   "execution_count": 4,
   "id": "478e5a3e-88c4-44d3-b85d-97d99ba39a17",
   "metadata": {},
   "outputs": [
    {
     "data": {
      "text/plain": [
       "'hii\\nhello\\nhow are you?'"
      ]
     },
     "execution_count": 4,
     "metadata": {},
     "output_type": "execute_result"
    }
   ],
   "source": [
    "'''hii\n",
    "hello\n",
    "how are you?'''"
   ]
  },
  {
   "cell_type": "raw",
   "id": "e14a63b9-6d0d-4cc2-a1f9-38e7c805408b",
   "metadata": {},
   "source": [
    "#variable declaration rules\n",
    "    1. it can be a combination of A-Z, a-z , 0-9 , _ \n",
    "    2. it should start with alphabet\n",
    "    3. no other special symbol is allowed except _"
   ]
  },
  {
   "cell_type": "raw",
   "id": "7b3e4ade-f58d-44b3-9af5-8bff684afa7a",
   "metadata": {},
   "source": [
    "python is case sensitive language"
   ]
  },
  {
   "cell_type": "code",
   "execution_count": 6,
   "id": "8067fbf6-7f0b-467a-ba17-de9923efd22b",
   "metadata": {},
   "outputs": [],
   "source": [
    "a = 90 "
   ]
  },
  {
   "cell_type": "code",
   "execution_count": 8,
   "id": "a02e0dad-40f0-4fee-9d53-1bd00fb9fdfa",
   "metadata": {},
   "outputs": [
    {
     "data": {
      "text/plain": [
       "int"
      ]
     },
     "execution_count": 8,
     "metadata": {},
     "output_type": "execute_result"
    }
   ],
   "source": [
    "type(a)\n",
    "\n",
    "#type function is use to check the type of the variable"
   ]
  },
  {
   "cell_type": "code",
   "execution_count": 9,
   "id": "7b82626a-da41-4825-8b43-dc86359629bb",
   "metadata": {},
   "outputs": [],
   "source": [
    "c = \"Hello\""
   ]
  },
  {
   "cell_type": "code",
   "execution_count": 10,
   "id": "fcfd4a04-eb1a-4fd1-b8d0-06edd65ef331",
   "metadata": {},
   "outputs": [
    {
     "data": {
      "text/plain": [
       "str"
      ]
     },
     "execution_count": 10,
     "metadata": {},
     "output_type": "execute_result"
    }
   ],
   "source": [
    "type(c)"
   ]
  },
  {
   "cell_type": "code",
   "execution_count": 11,
   "id": "4f30916c-c72d-44f6-932b-628378afd47c",
   "metadata": {},
   "outputs": [],
   "source": [
    "A = 9 "
   ]
  },
  {
   "cell_type": "code",
   "execution_count": 12,
   "id": "fc94dc18-b37d-4d97-8187-d1279937d298",
   "metadata": {},
   "outputs": [
    {
     "name": "stdout",
     "output_type": "stream",
     "text": [
      "9\n"
     ]
    }
   ],
   "source": [
    "print(A)"
   ]
  },
  {
   "cell_type": "code",
   "execution_count": 13,
   "id": "62234fcf-0917-47dd-9451-b5cdd95a858f",
   "metadata": {},
   "outputs": [
    {
     "name": "stdout",
     "output_type": "stream",
     "text": [
      "2\n",
      "32\n"
     ]
    }
   ],
   "source": [
    "aA = 2\n",
    "Aa = 32\n",
    "print(aA)\n",
    "print(Aa)"
   ]
  },
  {
   "cell_type": "raw",
   "id": "a2909f1c-c50a-44a9-823c-af5f2b4262a5",
   "metadata": {},
   "source": [
    "two cases to write large names \n",
    "1. camel case eg. MyName\n",
    "2. Snake case eg My_name"
   ]
  },
  {
   "cell_type": "code",
   "execution_count": 15,
   "id": "211510c9-50ac-4a19-a6ce-f67c3af710a5",
   "metadata": {},
   "outputs": [
    {
     "data": {
      "text/plain": [
       "bool"
      ]
     },
     "execution_count": 15,
     "metadata": {},
     "output_type": "execute_result"
    }
   ],
   "source": [
    "aA = True \n",
    "type(aA)"
   ]
  },
  {
   "cell_type": "code",
   "execution_count": 16,
   "id": "8b44d485-e8ed-4466-9c3c-bfbcae9d6763",
   "metadata": {},
   "outputs": [
    {
     "name": "stdout",
     "output_type": "stream",
     "text": [
      "False\n"
     ]
    }
   ],
   "source": [
    "g = 34\n",
    "g = \"asd\"\n",
    "g = False \n",
    "\n",
    "print(g)"
   ]
  },
  {
   "cell_type": "raw",
   "id": "73afb56f-ae77-45af-9b9a-ad954eb58e4f",
   "metadata": {},
   "source": [
    "it will print recent entry "
   ]
  },
  {
   "cell_type": "code",
   "execution_count": 19,
   "id": "62454195-2a82-43d1-b713-6d4d30e2166e",
   "metadata": {},
   "outputs": [],
   "source": [
    "g = 3"
   ]
  },
  {
   "cell_type": "code",
   "execution_count": 21,
   "id": "43bbad3b-d7b3-4c48-83ec-b80d22d4dd82",
   "metadata": {},
   "outputs": [
    {
     "name": "stdout",
     "output_type": "stream",
     "text": [
      "The g is  3\n"
     ]
    }
   ],
   "source": [
    "print(\"The g is \" , g)\n"
   ]
  },
  {
   "cell_type": "markdown",
   "id": "fb90596a-18f6-42fc-bc9d-c3d33e5c37d7",
   "metadata": {},
   "source": [
    "prinitng message + value"
   ]
  },
  {
   "cell_type": "code",
   "execution_count": 27,
   "id": "30820e14-6efe-4ee4-b796-612ad101d827",
   "metadata": {},
   "outputs": [
    {
     "name": "stdout",
     "output_type": "stream",
     "text": [
      "the value of a is 90 the value of b is 29 the valie of c is 12\n"
     ]
    }
   ],
   "source": [
    "a = 90 \n",
    "b = 29\n",
    "c = 12\n",
    "\n",
    "print(\"the value of a is\" , a , \n",
    "     \"the value of b is\" , b , \n",
    "     \"the valie of c is\" , c) "
   ]
  },
  {
   "cell_type": "code",
   "execution_count": 31,
   "id": "e56e0e50-ddd1-43d8-a8a7-81a63d6383ae",
   "metadata": {},
   "outputs": [
    {
     "name": "stdout",
     "output_type": "stream",
     "text": [
      "10 5 5\n"
     ]
    }
   ],
   "source": [
    "a = 10 \n",
    "b = 5\n",
    "c = a + b\n",
    "c = b\n",
    "a = c + b\n",
    "\n",
    "print (a,b,c)\n"
   ]
  },
  {
   "cell_type": "code",
   "execution_count": 32,
   "id": "0890e156-d11f-4fb7-b9ef-ae0f15fc3d10",
   "metadata": {},
   "outputs": [],
   "source": [
    "a,b,c = 5 , 20 , 59"
   ]
  },
  {
   "cell_type": "code",
   "execution_count": 33,
   "id": "ef4fa2e0-240d-4efe-9653-cbbc06be4b80",
   "metadata": {},
   "outputs": [
    {
     "name": "stdout",
     "output_type": "stream",
     "text": [
      "12\n",
      "rohan\n",
      "99\n"
     ]
    }
   ],
   "source": [
    "age , name , marks = 12 , \"rohan\" , 99\n",
    "\n",
    "print(age)\n",
    "print(name)\n",
    "print(marks)"
   ]
  },
  {
   "cell_type": "code",
   "execution_count": 38,
   "id": "6026053c-4ee5-461e-a3c1-334094431c7b",
   "metadata": {},
   "outputs": [
    {
     "name": "stdout",
     "output_type": "stream",
     "text": [
      "20 10\n"
     ]
    }
   ],
   "source": [
    "a = 10 \n",
    "b = 20 \n",
    "\n",
    "a, b = b , a \n",
    " \n",
    "print( a , b) \n",
    "\n",
    "\n",
    "\n"
   ]
  },
  {
   "cell_type": "markdown",
   "id": "87bed06e-cdbb-4575-9cf7-6b2e9ef8e92f",
   "metadata": {},
   "source": [
    "conversion of one data type to another is known as **typecasting"
   ]
  },
  {
   "cell_type": "code",
   "execution_count": 5,
   "id": "1e6f5932-749a-46a7-a470-8b5928b5b91a",
   "metadata": {},
   "outputs": [
    {
     "data": {
      "text/plain": [
       "int"
      ]
     },
     "execution_count": 5,
     "metadata": {},
     "output_type": "execute_result"
    }
   ],
   "source": [
    "a = \"10\"\n",
    "b=int(a)\n",
    "#str to int \n",
    "type(b)"
   ]
  },
  {
   "cell_type": "code",
   "execution_count": 6,
   "id": "60c5543c-d642-4e23-b3fc-1681e30088ae",
   "metadata": {},
   "outputs": [
    {
     "data": {
      "text/plain": [
       "int"
      ]
     },
     "execution_count": 6,
     "metadata": {},
     "output_type": "execute_result"
    }
   ],
   "source": [
    "type(b)"
   ]
  },
  {
   "cell_type": "code",
   "execution_count": 44,
   "id": "a789afd4-d5b8-4d77-b400-4045ca333e52",
   "metadata": {},
   "outputs": [],
   "source": [
    "d = bool(a)"
   ]
  },
  {
   "cell_type": "code",
   "execution_count": 45,
   "id": "57c97571-2519-4317-b13c-7daf6745e2fc",
   "metadata": {},
   "outputs": [
    {
     "data": {
      "text/plain": [
       "True"
      ]
     },
     "execution_count": 45,
     "metadata": {},
     "output_type": "execute_result"
    }
   ],
   "source": [
    "d"
   ]
  },
  {
   "cell_type": "code",
   "execution_count": 46,
   "id": "bb59bffa-f5b5-40f7-b3c1-ecff8f072ff2",
   "metadata": {},
   "outputs": [],
   "source": [
    "g = -10 \n"
   ]
  },
  {
   "cell_type": "code",
   "execution_count": 47,
   "id": "f4666bda-7e24-4e3a-b624-79aeab5fff85",
   "metadata": {},
   "outputs": [
    {
     "data": {
      "text/plain": [
       "True"
      ]
     },
     "execution_count": 47,
     "metadata": {},
     "output_type": "execute_result"
    }
   ],
   "source": [
    "bool(g)"
   ]
  },
  {
   "cell_type": "code",
   "execution_count": 48,
   "id": "0bd5b363-b469-45d0-a764-7ba4f3b66fb7",
   "metadata": {},
   "outputs": [
    {
     "data": {
      "text/plain": [
       "False"
      ]
     },
     "execution_count": 48,
     "metadata": {},
     "output_type": "execute_result"
    }
   ],
   "source": [
    "h = 0 \n",
    "bool(h) "
   ]
  },
  {
   "cell_type": "markdown",
   "id": "1c9f9df3-abd2-4065-affd-ace26a3d9bd6",
   "metadata": {},
   "source": [
    "29 April 2024 "
   ]
  },
  {
   "cell_type": "code",
   "execution_count": 4,
   "id": "609f862f-2929-480c-85d6-53d25bec5020",
   "metadata": {},
   "outputs": [
    {
     "name": "stdout",
     "output_type": "stream",
     "text": [
      "25\n"
     ]
    }
   ],
   "source": [
    "a = 5 ; b = 20 ; c = a + b ; print(c)"
   ]
  },
  {
   "cell_type": "code",
   "execution_count": 5,
   "id": "6506a3f6-3d1c-4d5d-a86b-65025ccb956c",
   "metadata": {},
   "outputs": [
    {
     "name": "stdout",
     "output_type": "stream",
     "text": [
      "25\n"
     ]
    }
   ],
   "source": [
    "a , b , c = 4 ,54, a+b ; print(c)"
   ]
  },
  {
   "cell_type": "markdown",
   "id": "d71cd46b-5cdd-45e3-91fa-c108b7be1cca",
   "metadata": {},
   "source": [
    "#take input from user"
   ]
  },
  {
   "cell_type": "code",
   "execution_count": 6,
   "id": "278877d2-72e6-4d5c-916c-9a4b15bc50bb",
   "metadata": {},
   "outputs": [
    {
     "name": "stdin",
     "output_type": "stream",
     "text": [
      "enter value for a: 43\n"
     ]
    }
   ],
   "source": [
    "a = input(\"enter value for a:\")"
   ]
  },
  {
   "cell_type": "code",
   "execution_count": 8,
   "id": "46c27c19-a05c-4900-b926-7c8fbfd3b133",
   "metadata": {},
   "outputs": [
    {
     "data": {
      "text/plain": [
       "str"
      ]
     },
     "execution_count": 8,
     "metadata": {},
     "output_type": "execute_result"
    }
   ],
   "source": [
    "#innput funnction always take a string value \n",
    "\n",
    "type(a)"
   ]
  },
  {
   "cell_type": "code",
   "execution_count": 13,
   "id": "cf720566-e0c4-4d99-8e61-3a2c1e6fe993",
   "metadata": {},
   "outputs": [
    {
     "name": "stdin",
     "output_type": "stream",
     "text": [
      "Enter your first number:  10\n",
      "Enter your second number:  20\n"
     ]
    },
    {
     "name": "stdout",
     "output_type": "stream",
     "text": [
      "sum of given two numbers is:  30\n",
      "subtraction of given two numbers is:  -10\n",
      "Division of given numbers is:  0.5\n",
      "Modulo of given two numbers is:  10\n"
     ]
    }
   ],
   "source": [
    "a = input(\"Enter your first number: \")\n",
    "b = input(\"Enter your second number: \")\n",
    "\n",
    "sum = int(a) + int(b)\n",
    "print(\"sum of given two numbers is: \" , sum)\n",
    "\n",
    "sub = int(a) - int(b)\n",
    "print(\"subtraction of given two numbers is: \" , sub)\n",
    "\n",
    "div = int(a) / int(b)\n",
    "print(\"Division of given numbers is: \" , div)\n",
    "\n",
    "mod = int(a)%int(b)\n",
    "print(\"Modulo of given two numbers is: \" , mod)\n",
    "\n"
   ]
  },
  {
   "cell_type": "code",
   "execution_count": 23,
   "id": "960f9265-2fe9-4c29-b147-6ea77811a183",
   "metadata": {},
   "outputs": [
    {
     "name": "stdin",
     "output_type": "stream",
     "text": [
      "enter value for a:  50\n",
      "Enter value for b:  10\n"
     ]
    },
    {
     "name": "stdout",
     "output_type": "stream",
     "text": [
      "Addition of 50 and 10 is 60\n",
      "subtraction of 50 and 10 is 40\n",
      "division of 50 and 10 is 5.0\n",
      "multiplication of 50 and 10 is 500\n",
      "exponential of 50 and 10 is 97656250000000000\n"
     ]
    }
   ],
   "source": [
    "a = int(input(\"enter value for a: \"))\n",
    "b = int(input(\"Enter value for b: \"))\n",
    "print(\"Addition of\" ,a ,\"and\" ,b, \"is\" , a+b)\n",
    "print(\"subtraction of\", a ,\"and\", b, \"is\" , a-b)\n",
    "print(\"division of\", a, \"and\", b, \"is\" , a/b)\n",
    "print(\"multiplication of\", a, \"and\" ,b ,\"is\" , a*b)\n",
    "print(\"exponential of\" ,a, \"and\", b, \"is\" , a**b)"
   ]
  },
  {
   "cell_type": "code",
   "execution_count": 33,
   "id": "dbab0afa-4538-41cd-ac8a-4e24c4712214",
   "metadata": {},
   "outputs": [
    {
     "name": "stdin",
     "output_type": "stream",
     "text": [
      "enter the length of radius of circle:  5\n"
     ]
    },
    {
     "name": "stdout",
     "output_type": "stream",
     "text": [
      "circumference of the circle with radius 5 is 31.400000000000002\n",
      "area of circle with radius 5 is  78.5\n"
     ]
    },
    {
     "name": "stdin",
     "output_type": "stream",
     "text": [
      "enter the length of the square:  5\n"
     ]
    },
    {
     "name": "stdout",
     "output_type": "stream",
     "text": [
      "area of the square having length 5 is 25\n",
      "perimeter of the square having length 5 is 20\n"
     ]
    },
    {
     "name": "stdin",
     "output_type": "stream",
     "text": [
      "enter the length of the rectangle:  4\n",
      "enter the breadth of the rectangle:  5\n"
     ]
    },
    {
     "name": "stdout",
     "output_type": "stream",
     "text": [
      "area of the rectangle having length 4 and breadth 5 is 20\n",
      "perimeter of the rectangle is:  18\n"
     ]
    }
   ],
   "source": [
    "pi = 3.14 \n",
    "r = int(input(\"enter the length of radius of circle: \"))\n",
    "\n",
    "print(\"circumference of the circle with radius\" , r , \"is\" , 2*pi*r)\n",
    "print(\"area of circle with radius\" , r , \"is \" , pi * r**2)\n",
    "\n",
    "a = int(input(\"enter the length of the square: \"))\n",
    "\n",
    "print(\"area of the square having length\" , a , \"is\" , a**2)\n",
    "print(\"perimeter of the square having length\" , a , \"is\" , 4*a)\n",
    "\n",
    "l = int(input(\"enter the length of the rectangle: \"))\n",
    "b = int(input(\"enter the breadth of the rectangle: \"))\n",
    "\n",
    "print(\"area of the rectangle having length\" , l , \"and breadth\" , b , \"is\" , l*b)\n",
    "print(\"perimeter of the rectangle is: \" , 2*(l+b))\n"
   ]
  },
  {
   "cell_type": "code",
   "execution_count": 37,
   "id": "80426733-bc32-41a7-ba78-cde6899fb293",
   "metadata": {},
   "outputs": [
    {
     "name": "stdin",
     "output_type": "stream",
     "text": [
      "enter your first name:  abc\n",
      "enter your last name:  xuy\\\n",
      "enter yout birth year:  2000\n"
     ]
    },
    {
     "name": "stdout",
     "output_type": "stream",
     "text": [
      "Full name:  abc xuy\\\n",
      "your age:  24\n"
     ]
    }
   ],
   "source": [
    "a = input(\"enter your first name: \")\n",
    "b = input(\"enter your last name: \")\n",
    "c = int(input(\"enter yout birth year: \"))\n",
    "\n",
    "print(\"Full name: \" , a,b)\n",
    "print(\"your age: \", 2024 - c )"
   ]
  },
  {
   "cell_type": "code",
   "execution_count": 42,
   "id": "37305426-5f2e-4d7e-b7e7-1be25fc61531",
   "metadata": {},
   "outputs": [
    {
     "name": "stdin",
     "output_type": "stream",
     "text": [
      "Enter yout first number:  5\n",
      "Enter your second number:  3\n"
     ]
    },
    {
     "name": "stdout",
     "output_type": "stream",
     "text": [
      "Average of two numbers is:  4.0\n"
     ]
    }
   ],
   "source": [
    "#find average of two numbers entered by the users\n",
    "\n",
    "a = int(input(\"Enter yout first number: \"))\n",
    "b = int(input(\"Enter your second number: \"))\n",
    "\n",
    "print(\"Average of two numbers is: \" , (a+b)/2)\n",
    "\n"
   ]
  },
  {
   "cell_type": "code",
   "execution_count": 44,
   "id": "cf81271e-fdc1-441e-b451-a6e9fcb9cc94",
   "metadata": {},
   "outputs": [
    {
     "name": "stdin",
     "output_type": "stream",
     "text": [
      "enter a number:  2\n"
     ]
    },
    {
     "name": "stdout",
     "output_type": "stream",
     "text": [
      "square of your number:  4 Cube of youe entered number is:  8\n"
     ]
    }
   ],
   "source": [
    "#find out square and cube of the number entered by the user \n",
    "\n",
    "a = int(input(\"enter a number: \"))\n",
    "print(\"square of your number: \" , a**2 , \"Cube of youe entered number is: \" , a**3)"
   ]
  },
  {
   "cell_type": "code",
   "execution_count": 45,
   "id": "3489d0b7-8579-4827-99c0-bdc4e90ba011",
   "metadata": {},
   "outputs": [
    {
     "name": "stdin",
     "output_type": "stream",
     "text": [
      "enter a number to findout remainder if it is divided by 2:  10\n"
     ]
    },
    {
     "name": "stdout",
     "output_type": "stream",
     "text": [
      "remainder of a given number is:  5.0\n"
     ]
    }
   ],
   "source": [
    "#find out reminder of number divided by 2 \n",
    "\n",
    "a = int(input(\"enter a number to findout remainder if it is divided by 2: \"))\n",
    "\n",
    "print(\"remainder of a given number is: \" , a/2)"
   ]
  },
  {
   "cell_type": "code",
   "execution_count": null,
   "id": "5013cb84-a370-4d7a-95ab-cf3879b19c6a",
   "metadata": {},
   "outputs": [],
   "source": []
  },
  {
   "cell_type": "code",
   "execution_count": null,
   "id": "d76c5931-6d8e-4ac8-b3b6-31115b34386b",
   "metadata": {},
   "outputs": [],
   "source": []
  },
  {
   "cell_type": "markdown",
   "id": "9b337f37-1a16-462b-afd3-48714b3ae99a",
   "metadata": {},
   "source": [
    "30 May 2024"
   ]
  },
  {
   "cell_type": "code",
   "execution_count": null,
   "id": "2a5f2ebf-f78d-4676-8f57-b23abd329f10",
   "metadata": {},
   "outputs": [],
   "source": []
  },
  {
   "cell_type": "markdown",
   "id": "d0c3f61a-9088-409b-ba86-aef6aad31588",
   "metadata": {},
   "source": [
    "string is a sequence of characters enclosed in either single quotes, double quotes or tripple quotes\n",
    "\n"
   ]
  },
  {
   "cell_type": "code",
   "execution_count": 74,
   "id": "c3a19792-794a-4cc8-a8d8-c5da80d20189",
   "metadata": {},
   "outputs": [
    {
     "data": {
      "text/plain": [
       "'r'"
      ]
     },
     "execution_count": 74,
     "metadata": {},
     "output_type": "execute_result"
    }
   ],
   "source": [
    "a= \"certifications\"\n",
    "a[2]\n",
    "a[-12]\n"
   ]
  },
  {
   "cell_type": "code",
   "execution_count": 72,
   "id": "e9ad5b00-25e7-41b8-a51c-ae49f7f62bd3",
   "metadata": {},
   "outputs": [
    {
     "name": "stdin",
     "output_type": "stream",
     "text": [
      "enter a string to reverse it:  1223\n"
     ]
    },
    {
     "name": "stdout",
     "output_type": "stream",
     "text": [
      "Your reversed string is:  1223\n"
     ]
    }
   ],
   "source": [
    "a = input(\"enter a string to reverse it: \")\n",
    "\n",
    "print(\"Your reversed string is: \" , a[0:5])"
   ]
  },
  {
   "cell_type": "code",
   "execution_count": 75,
   "id": "e6026657-049d-40b3-81e5-db1391e0e1e7",
   "metadata": {},
   "outputs": [],
   "source": [
    "a= \"certifications\"\n"
   ]
  },
  {
   "cell_type": "code",
   "execution_count": 76,
   "id": "6ebfab73-afa8-4e26-b512-5df2488fcb3b",
   "metadata": {},
   "outputs": [
    {
     "data": {
      "text/plain": [
       "'r'"
      ]
     },
     "execution_count": 76,
     "metadata": {},
     "output_type": "execute_result"
    }
   ],
   "source": [
    "a[2]"
   ]
  },
  {
   "cell_type": "code",
   "execution_count": 105,
   "id": "3c7f1c04-c59c-4809-a93a-8442ae40d8c6",
   "metadata": {},
   "outputs": [
    {
     "data": {
      "text/plain": [
       "'r'"
      ]
     },
     "execution_count": 105,
     "metadata": {},
     "output_type": "execute_result"
    }
   ],
   "source": [
    "a[-12]"
   ]
  },
  {
   "cell_type": "code",
   "execution_count": 106,
   "id": "3c590621-1695-4906-a171-c13017fc1400",
   "metadata": {},
   "outputs": [
    {
     "data": {
      "text/plain": [
       "'rti'"
      ]
     },
     "execution_count": 106,
     "metadata": {},
     "output_type": "execute_result"
    }
   ],
   "source": [
    "a[2:5]"
   ]
  },
  {
   "cell_type": "code",
   "execution_count": 107,
   "id": "43c97402-14d7-4e5e-834a-251a2e03b376",
   "metadata": {},
   "outputs": [
    {
     "data": {
      "text/plain": [
       "'rti'"
      ]
     },
     "execution_count": 107,
     "metadata": {},
     "output_type": "execute_result"
    }
   ],
   "source": [
    "a[-12:-9]"
   ]
  },
  {
   "cell_type": "code",
   "execution_count": 108,
   "id": "e40c80e6-b79c-41af-a6d1-fb42d48d7cc7",
   "metadata": {},
   "outputs": [
    {
     "data": {
      "text/plain": [
       "'tions'"
      ]
     },
     "execution_count": 108,
     "metadata": {},
     "output_type": "execute_result"
    }
   ],
   "source": [
    "a[9:]"
   ]
  },
  {
   "cell_type": "code",
   "execution_count": 84,
   "id": "aa0622a4-0c44-4637-b3d4-b279f6b6c6fd",
   "metadata": {},
   "outputs": [
    {
     "data": {
      "text/plain": [
       "'tions'"
      ]
     },
     "execution_count": 84,
     "metadata": {},
     "output_type": "execute_result"
    }
   ],
   "source": [
    "a[-5:]"
   ]
  },
  {
   "cell_type": "code",
   "execution_count": 88,
   "id": "e2e0b56c-f697-4acb-a8c3-a40d9d7f84cf",
   "metadata": {},
   "outputs": [
    {
     "data": {
      "text/plain": [
       "'cri'"
      ]
     },
     "execution_count": 88,
     "metadata": {},
     "output_type": "execute_result"
    }
   ],
   "source": [
    "a[0:6:2]"
   ]
  },
  {
   "cell_type": "code",
   "execution_count": 89,
   "id": "0b589577-eeed-4f7d-a97a-70ec323fd5d9",
   "metadata": {},
   "outputs": [
    {
     "data": {
      "text/plain": [
       "'cri'"
      ]
     },
     "execution_count": 89,
     "metadata": {},
     "output_type": "execute_result"
    }
   ],
   "source": [
    "a[-14:6:2]"
   ]
  },
  {
   "cell_type": "code",
   "execution_count": 91,
   "id": "98c2a348-8790-47db-98c5-38d72550708c",
   "metadata": {},
   "outputs": [
    {
     "data": {
      "text/plain": [
       "'fao'"
      ]
     },
     "execution_count": 91,
     "metadata": {},
     "output_type": "execute_result"
    }
   ],
   "source": [
    "a[5:12:3]"
   ]
  },
  {
   "cell_type": "code",
   "execution_count": 93,
   "id": "12922f9b-c5e1-49c7-9647-07f6294bf1e3",
   "metadata": {},
   "outputs": [
    {
     "data": {
      "text/plain": [
       "'fao'"
      ]
     },
     "execution_count": 93,
     "metadata": {},
     "output_type": "execute_result"
    }
   ],
   "source": [
    "a[-9:12:3]"
   ]
  },
  {
   "cell_type": "code",
   "execution_count": 94,
   "id": "dfc4dc19-71d7-4453-b74e-b24949163180",
   "metadata": {},
   "outputs": [
    {
     "data": {
      "text/plain": [
       "'cian'"
      ]
     },
     "execution_count": 94,
     "metadata": {},
     "output_type": "execute_result"
    }
   ],
   "source": [
    "a[0:13:4]"
   ]
  },
  {
   "cell_type": "code",
   "execution_count": 95,
   "id": "f1a23258-e9ba-484b-89da-ad121374bb19",
   "metadata": {},
   "outputs": [
    {
     "data": {
      "text/plain": [
       "'cian'"
      ]
     },
     "execution_count": 95,
     "metadata": {},
     "output_type": "execute_result"
    }
   ],
   "source": [
    "a[-15:13:4]"
   ]
  },
  {
   "cell_type": "code",
   "execution_count": 116,
   "id": "1a918be3-ea33-4e07-8475-ed3448329a1b",
   "metadata": {},
   "outputs": [
    {
     "data": {
      "text/plain": [
       "'snoitacifitrec'"
      ]
     },
     "execution_count": 116,
     "metadata": {},
     "output_type": "execute_result"
    }
   ],
   "source": [
    "#how to reverse a string\n",
    "a[::-1]"
   ]
  },
  {
   "cell_type": "code",
   "execution_count": 119,
   "id": "b240de19-b59d-4ced-bab6-d2b3c7b5762d",
   "metadata": {},
   "outputs": [
    {
     "name": "stdin",
     "output_type": "stream",
     "text": [
      "enter a string to reverse:  INDIA\n"
     ]
    },
    {
     "name": "stdout",
     "output_type": "stream",
     "text": [
      "your reversed string is:  AIDNI\n"
     ]
    }
   ],
   "source": [
    "a = input(\"enter a string to reverse: \")\n",
    "print(\"your reversed string is: \" , a[::-1])"
   ]
  },
  {
   "cell_type": "code",
   "execution_count": 123,
   "id": "b186bc04-16f7-4ff4-b788-8574201754f5",
   "metadata": {},
   "outputs": [
    {
     "name": "stdout",
     "output_type": "stream",
     "text": [
      "5\n",
      "26\n"
     ]
    }
   ],
   "source": [
    "#to count characters in string\n",
    "\n",
    "s = 'India'\n",
    "print(len(s))\n",
    "\n",
    "a = \"qwertyuiopasdfghjklzxcvbnm\"\n",
    "print(len(a))"
   ]
  },
  {
   "cell_type": "code",
   "execution_count": 143,
   "id": "8b454461-6bf0-4829-bb22-ccc31bd160c6",
   "metadata": {},
   "outputs": [
    {
     "data": {
      "text/plain": [
       "['hello everyone!How are you', '']"
      ]
     },
     "execution_count": 143,
     "metadata": {},
     "output_type": "execute_result"
    }
   ],
   "source": [
    "#split function\n",
    "d = \"hello everyone!How are you?\"\n",
    "d.split(\"?\")\n"
   ]
  },
  {
   "cell_type": "code",
   "execution_count": 146,
   "id": "c0aea62d-7b5b-4aad-9cf1-ca9d81e200ba",
   "metadata": {},
   "outputs": [
    {
     "data": {
      "text/plain": [
       "'Hello everyone!how are you?'"
      ]
     },
     "execution_count": 146,
     "metadata": {},
     "output_type": "execute_result"
    }
   ],
   "source": [
    "#capitalize \n",
    "#title (only first letter gets capitalize and all other are in lower case\n",
    "d.capitalize()"
   ]
  },
  {
   "cell_type": "code",
   "execution_count": 147,
   "id": "49d2941e-e9df-480d-923f-540741a7c008",
   "metadata": {},
   "outputs": [
    {
     "data": {
      "text/plain": [
       "'HELLO EVERYONE!HOW ARE YOU?'"
      ]
     },
     "execution_count": 147,
     "metadata": {},
     "output_type": "execute_result"
    }
   ],
   "source": [
    "#for uppercase\n",
    "d.upper()"
   ]
  },
  {
   "cell_type": "code",
   "execution_count": 152,
   "id": "bb1151e7-a5bf-41b7-b1ba-e77dbdf02682",
   "metadata": {},
   "outputs": [
    {
     "data": {
      "text/plain": [
       "'hello everyone!how are you?'"
      ]
     },
     "execution_count": 152,
     "metadata": {},
     "output_type": "execute_result"
    }
   ],
   "source": [
    "#for lower case\n",
    "d.lower()"
   ]
  },
  {
   "cell_type": "code",
   "execution_count": 3,
   "id": "01eb3e48-6a0e-44ec-bfa1-e85495fd6c1a",
   "metadata": {},
   "outputs": [
    {
     "name": "stdout",
     "output_type": "stream",
     "text": [
      "10\n",
      "5\n"
     ]
    }
   ],
   "source": [
    "#find function it will find appearance of that word in given string in the form of index\n",
    "d = \"hello everyone how are you\"\n",
    "print(d.find(\"y\"))\n",
    "print(d.find(\" \"))"
   ]
  },
  {
   "cell_type": "code",
   "execution_count": 167,
   "id": "300dc772-ab3f-4c7e-a305-a0b7bc48a705",
   "metadata": {},
   "outputs": [
    {
     "data": {
      "text/plain": [
       "2"
      ]
     },
     "execution_count": 167,
     "metadata": {},
     "output_type": "execute_result"
    }
   ],
   "source": [
    "#count founction counts that how many times specific character occured in string\n",
    "d.count(\"l\")"
   ]
  },
  {
   "cell_type": "code",
   "execution_count": 168,
   "id": "fa7573b6-3bb2-4819-805d-72a94b972ee7",
   "metadata": {},
   "outputs": [
    {
     "data": {
      "text/plain": [
       "'hello everyone how is you'"
      ]
     },
     "execution_count": 168,
     "metadata": {},
     "output_type": "execute_result"
    }
   ],
   "source": [
    "#replace function \n",
    "d.replace(\"are\" , \"is\")"
   ]
  },
  {
   "cell_type": "code",
   "execution_count": 169,
   "id": "5444563c-935b-47fa-9923-ab6dd656a874",
   "metadata": {},
   "outputs": [
    {
     "data": {
      "text/plain": [
       "'hello_everyone_how_are_you'"
      ]
     },
     "execution_count": 169,
     "metadata": {},
     "output_type": "execute_result"
    }
   ],
   "source": [
    "d.replace(\" \" , \"_\")"
   ]
  },
  {
   "cell_type": "code",
   "execution_count": 170,
   "id": "e16878c6-4236-4d2f-93c9-4fe65ebea866",
   "metadata": {},
   "outputs": [
    {
     "data": {
      "text/plain": [
       "False"
      ]
     },
     "execution_count": 170,
     "metadata": {},
     "output_type": "execute_result"
    }
   ],
   "source": [
    "#endswith to check whether our string ending with desired character / output is always in boolean \n",
    "\n",
    "d.endswith(\"?\")"
   ]
  },
  {
   "cell_type": "code",
   "execution_count": 173,
   "id": "41761420-2257-43e2-9009-9bc27e596a07",
   "metadata": {},
   "outputs": [
    {
     "name": "stdin",
     "output_type": "stream",
     "text": [
      "enter your name:  Rushikesh\n"
     ]
    },
    {
     "name": "stdout",
     "output_type": "stream",
     "text": [
      "Good Morning Rushikesh\n"
     ]
    }
   ],
   "source": [
    "#write a program to accept one name from user and display with it followed by good morning \n",
    "\n",
    "a = input(\"enter your name: \")\n",
    "print(\"Good Morning\" , a)"
   ]
  },
  {
   "cell_type": "code",
   "execution_count": 3,
   "id": "170d25c1-2f0e-434a-9ccc-c15bca988b44",
   "metadata": {},
   "outputs": [
    {
     "name": "stdin",
     "output_type": "stream",
     "text": [
      " hello\n"
     ]
    },
    {
     "name": "stdout",
     "output_type": "stream",
     "text": [
      "two space removed:  hi\n"
     ]
    }
   ],
   "source": [
    "#write a program to accept string having two spaces between words and display by removing one space \n",
    "\n",
    "a = input()\n",
    "print(\"two space removed: \" , a.replace(\"hello\" , \"hi\"))"
   ]
  },
  {
   "cell_type": "code",
   "execution_count": 180,
   "id": "6c19d1c6-669a-4c37-a19c-42c763fef15e",
   "metadata": {},
   "outputs": [
    {
     "name": "stdin",
     "output_type": "stream",
     "text": [
      " python is a fun to learn i like to code in python\n"
     ]
    },
    {
     "name": "stdout",
     "output_type": "stream",
     "text": [
      "nohtyp ni edoc ot ekil i nrael ot nuf a si nohtyp\n",
      " in python\n",
      "4\n",
      "python is a fun to learn i like to code in python\n",
      "PYTHON IS A FUN TO LEARN I LIKE TO CODE IN PYTHON\n",
      "Python is a fun to learn i like to code in python\n",
      "27\n",
      "sql is a fun to learn i like to code in sql\n"
     ]
    }
   ],
   "source": [
    "#write a prorgam to accept string from user and diplay the string(input string: python is a fun to learn i like to code in python)\n",
    "#in reverse order\n",
    "#display last 10 characters\n",
    "#no of times \"i\" occured\n",
    "#in lower case\n",
    "#in upper case\n",
    "#only first haracter in capital\n",
    "#location \"like\"\n",
    "#replcae python with sql\n",
    "\n",
    "a = input()\n",
    "\n",
    "print( a[::-1])\n",
    "print(a[-10:])\n",
    "print(a.count(\"i\"))\n",
    "print(a.lower())\n",
    "print(a.upper())\n",
    "print(a.capitalize())\n",
    "print(a.find(\"like\"))\n",
    "print(a.replace(\"python\" , \"sql\"))"
   ]
  },
  {
   "cell_type": "code",
   "execution_count": 185,
   "id": "1e833ddc-54d2-4750-8377-e323514b7434",
   "metadata": {},
   "outputs": [
    {
     "name": "stdout",
     "output_type": "stream",
     "text": [
      "True\n",
      "False\n",
      "False\n"
     ]
    }
   ],
   "source": [
    "#more functions\n",
    "#to check contents of string\n",
    "q = \"Hello2\"\n",
    "print(q.isalnum())\n",
    "print(q.islower())\n",
    "print(q.isdigit())"
   ]
  },
  {
   "cell_type": "code",
   "execution_count": null,
   "id": "93056cc4-7ed0-45e8-84cd-16a5cb115fd9",
   "metadata": {},
   "outputs": [],
   "source": []
  },
  {
   "cell_type": "markdown",
   "id": "6b528155-af09-4d89-a471-89b6dc04af0d",
   "metadata": {},
   "source": [
    "31 may 2024"
   ]
  },
  {
   "cell_type": "raw",
   "id": "1cf87004-c70d-4734-9bc9-1d89a8897051",
   "metadata": {},
   "source": [
    "DataType: Tuple \n",
    "defined with ()\n",
    "it is Immutable (cant add, update and delete) \n",
    "it is ordered , indexed and heterogeneous "
   ]
  },
  {
   "cell_type": "code",
   "execution_count": 186,
   "id": "0e288ee8-3252-4770-9be6-d7dd73e4d3ac",
   "metadata": {},
   "outputs": [
    {
     "data": {
      "text/plain": [
       "tuple"
      ]
     },
     "execution_count": 186,
     "metadata": {},
     "output_type": "execute_result"
    }
   ],
   "source": [
    "t = ()\n",
    "type(t)"
   ]
  },
  {
   "cell_type": "code",
   "execution_count": 193,
   "id": "78a63cde-736a-43b2-a1d6-e01b18416fdf",
   "metadata": {},
   "outputs": [
    {
     "data": {
      "text/plain": [
       "tuple"
      ]
     },
     "execution_count": 193,
     "metadata": {},
     "output_type": "execute_result"
    }
   ],
   "source": [
    "t = (1,)\n",
    "type(t)\n",
    "#while defining tuple of one element enter single element and add comma after it"
   ]
  },
  {
   "cell_type": "code",
   "execution_count": 5,
   "id": "c857ff9f-bda6-4a43-a73b-1772b4c7faf5",
   "metadata": {},
   "outputs": [
    {
     "data": {
      "text/plain": [
       "('Hello', True, 6.4, 78, 'raam')"
      ]
     },
     "execution_count": 5,
     "metadata": {},
     "output_type": "execute_result"
    }
   ],
   "source": [
    "j = (\"raam\" , 78 , 6.4 , True , \"Hello\")\n",
    "j[::-1]"
   ]
  },
  {
   "cell_type": "code",
   "execution_count": 24,
   "id": "dd4fa6ce-3e7c-48f6-a759-ebd3eeabc863",
   "metadata": {},
   "outputs": [
    {
     "data": {
      "text/plain": [
       "(True, 'Hello')"
      ]
     },
     "execution_count": 24,
     "metadata": {},
     "output_type": "execute_result"
    }
   ],
   "source": [
    "j[3:]"
   ]
  },
  {
   "cell_type": "code",
   "execution_count": 30,
   "id": "9b2482af-be2c-40b1-85c4-d2f85cb89b82",
   "metadata": {},
   "outputs": [
    {
     "data": {
      "text/plain": [
       "('raam', 6.4, 'Hello')"
      ]
     },
     "execution_count": 30,
     "metadata": {},
     "output_type": "execute_result"
    }
   ],
   "source": [
    "j[0 : 5 : 2] "
   ]
  },
  {
   "cell_type": "code",
   "execution_count": 26,
   "id": "b4ce439c-6119-475a-a7cc-0e819b011231",
   "metadata": {},
   "outputs": [
    {
     "data": {
      "text/plain": [
       "('raam', 78, 6.4, True, 'Hello')"
      ]
     },
     "execution_count": 26,
     "metadata": {},
     "output_type": "execute_result"
    }
   ],
   "source": [
    "j[:5]"
   ]
  },
  {
   "cell_type": "code",
   "execution_count": 201,
   "id": "79500ed9-045f-40f8-95a1-07df81265518",
   "metadata": {},
   "outputs": [
    {
     "data": {
      "text/plain": [
       "(78, 'Hello')"
      ]
     },
     "execution_count": 201,
     "metadata": {},
     "output_type": "execute_result"
    }
   ],
   "source": [
    "j[1:  :3 ]"
   ]
  },
  {
   "cell_type": "code",
   "execution_count": 206,
   "id": "d96d31b6-7930-44de-8705-242cfab3c14b",
   "metadata": {},
   "outputs": [
    {
     "data": {
      "text/plain": [
       "tuple"
      ]
     },
     "execution_count": 206,
     "metadata": {},
     "output_type": "execute_result"
    }
   ],
   "source": [
    "k=(\"itvedant\",89,(\"india\",67,8.7,(\"hello\",True),False),78,0.5,(\"ramesh\",(\"divya\",(56,89,(66,50)))))\n",
    "type(k)"
   ]
  },
  {
   "cell_type": "code",
   "execution_count": 209,
   "id": "d60b621f-f060-4e9b-a33a-a6627a158b2d",
   "metadata": {},
   "outputs": [
    {
     "data": {
      "text/plain": [
       "('india', 67, 8.7, ('hello', True), False)"
      ]
     },
     "execution_count": 209,
     "metadata": {},
     "output_type": "execute_result"
    }
   ],
   "source": [
    "k[2]"
   ]
  },
  {
   "cell_type": "code",
   "execution_count": 213,
   "id": "1488a594-3f76-4d48-8b5c-f92f9c32decb",
   "metadata": {},
   "outputs": [
    {
     "data": {
      "text/plain": [
       "6"
      ]
     },
     "execution_count": 213,
     "metadata": {},
     "output_type": "execute_result"
    }
   ],
   "source": [
    "len(k)"
   ]
  },
  {
   "cell_type": "code",
   "execution_count": 214,
   "id": "8cd18f16-6017-4dd7-a271-9e0095fe5a2f",
   "metadata": {},
   "outputs": [
    {
     "data": {
      "text/plain": [
       "('ramesh', ('divya', (56, 89, (66, 50))))"
      ]
     },
     "execution_count": 214,
     "metadata": {},
     "output_type": "execute_result"
    }
   ],
   "source": [
    "k[5]"
   ]
  },
  {
   "cell_type": "code",
   "execution_count": 218,
   "id": "3c80cced-a546-4737-a4d8-a63daf296bd6",
   "metadata": {},
   "outputs": [
    {
     "data": {
      "text/plain": [
       "(56, 89, (66, 50))"
      ]
     },
     "execution_count": 218,
     "metadata": {},
     "output_type": "execute_result"
    }
   ],
   "source": [
    "k[5][1][1]"
   ]
  },
  {
   "cell_type": "code",
   "execution_count": 312,
   "id": "55e5f0ae-2e56-422a-864b-4d5a3a89c7bf",
   "metadata": {},
   "outputs": [
    {
     "name": "stdout",
     "output_type": "stream",
     "text": [
      "False\n",
      "ayvid\n",
      "6\n",
      "(89, (66, 50))\n",
      "78\n",
      "llo\n",
      "ida\n",
      "((56, 89, (66, 50)), 'divya')\n",
      "Hi\n",
      "2\n",
      "abc\n",
      "itvedant\n"
     ]
    }
   ],
   "source": [
    "m=(\"itvedant\",89,(\"india\",67,8.7,(\"hello\",True),False),78,0.5,(\"ramesh\",(\"divya\",(56,89,(66,50)))))\n",
    "\n",
    "print(m[2][4])\n",
    "print(m[5][1][0][::-1])\n",
    "print((len(m[5][0])))\n",
    "print(m[5][1][1][1:])\n",
    "print(m[3])\n",
    "print(m[2][3][0][2:5])\n",
    "print(m[2][0][::2])\n",
    "print(m[5][1][::-1])\n",
    "print(m[2][3][0].replace(\"hello\",\"Hi\"))\n",
    "print((m[2][0]).count(\"i\"))\n",
    "print(m[0][5:].replace(\"ant\" , \"abc\"))\n",
    "\n"
   ]
  },
  {
   "cell_type": "code",
   "execution_count": 315,
   "id": "3a563d96-1546-4cdd-8afe-289140b14f3c",
   "metadata": {},
   "outputs": [],
   "source": [
    "l =(2,3,4,6,2,7,2,9,4,2,6,8,2,4,6)"
   ]
  },
  {
   "cell_type": "code",
   "execution_count": 317,
   "id": "cd0158b7-214f-460e-90ea-69b155bba315",
   "metadata": {},
   "outputs": [
    {
     "data": {
      "text/plain": [
       "5"
      ]
     },
     "execution_count": 317,
     "metadata": {},
     "output_type": "execute_result"
    }
   ],
   "source": [
    "l.count(2)"
   ]
  },
  {
   "cell_type": "code",
   "execution_count": 318,
   "id": "cd62d16a-471c-4ff0-a8c0-4169fb0192d9",
   "metadata": {},
   "outputs": [
    {
     "data": {
      "text/plain": [
       "7"
      ]
     },
     "execution_count": 318,
     "metadata": {},
     "output_type": "execute_result"
    }
   ],
   "source": [
    "l.index(9)"
   ]
  },
  {
   "cell_type": "code",
   "execution_count": null,
   "id": "fd351a32-3c4a-426f-b092-d35b4877f327",
   "metadata": {},
   "outputs": [],
   "source": [
    "\n"
   ]
  },
  {
   "cell_type": "markdown",
   "id": "573bc884-7751-4f71-ba88-90f24575100b",
   "metadata": {},
   "source": [
    "LIST"
   ]
  },
  {
   "cell_type": "raw",
   "id": "96648bc2-fb23-4690-b9a4-cba7385ef8b2",
   "metadata": {},
   "source": [
    "[]\n",
    "mutable\n",
    "indexed \n",
    "ordered\n",
    "heterogeneous"
   ]
  },
  {
   "cell_type": "code",
   "execution_count": 319,
   "id": "4a971811-1a3c-436a-b26c-cc2ffe8f262d",
   "metadata": {},
   "outputs": [],
   "source": [
    "g = []"
   ]
  },
  {
   "cell_type": "code",
   "execution_count": 320,
   "id": "919c1187-6192-4bf2-8ac7-d7d1d38f9b9f",
   "metadata": {},
   "outputs": [
    {
     "data": {
      "text/plain": [
       "list"
      ]
     },
     "execution_count": 320,
     "metadata": {},
     "output_type": "execute_result"
    }
   ],
   "source": [
    "type(g)"
   ]
  },
  {
   "cell_type": "code",
   "execution_count": 321,
   "id": "6444e4d3-254b-4381-ad04-0f93d64b6c1f",
   "metadata": {},
   "outputs": [],
   "source": [
    "h=[23,56,89,(\"hello\",80),[\"raam\",\"rahul\",[88,99,True]],7.6,8.9]"
   ]
  },
  {
   "cell_type": "code",
   "execution_count": 323,
   "id": "594cdef5-fa66-4662-b078-e0ab9f10fd3a",
   "metadata": {},
   "outputs": [
    {
     "data": {
      "text/plain": [
       "7"
      ]
     },
     "execution_count": 323,
     "metadata": {},
     "output_type": "execute_result"
    }
   ],
   "source": [
    "len(h)"
   ]
  },
  {
   "cell_type": "code",
   "execution_count": 325,
   "id": "4964839e-ef90-4020-b84b-6796e3d9608b",
   "metadata": {},
   "outputs": [],
   "source": [
    "#mutable operations \n",
    "#1.add 2. remove 3. update #insert"
   ]
  },
  {
   "cell_type": "code",
   "execution_count": 328,
   "id": "72ca1802-7a01-4a64-ba05-a05a81778cd0",
   "metadata": {},
   "outputs": [],
   "source": [
    "#add (add element in end of the list)\n",
    "h.append(100)"
   ]
  },
  {
   "cell_type": "code",
   "execution_count": 329,
   "id": "e8f20279-0de0-4e0c-9bcb-6ae09be393e7",
   "metadata": {},
   "outputs": [
    {
     "data": {
      "text/plain": [
       "[23,\n",
       " 56,\n",
       " 89,\n",
       " ('hello', 80),\n",
       " ['raam', 'rahul', [88, 99, True]],\n",
       " 7.6,\n",
       " 8.9,\n",
       " 100,\n",
       " 100]"
      ]
     },
     "execution_count": 329,
     "metadata": {},
     "output_type": "execute_result"
    }
   ],
   "source": [
    "h"
   ]
  },
  {
   "cell_type": "code",
   "execution_count": 330,
   "id": "44ca3d53-4bb7-4aca-a98e-f4747f02f792",
   "metadata": {},
   "outputs": [],
   "source": [
    "#insert\n",
    "h.insert(1,50)"
   ]
  },
  {
   "cell_type": "code",
   "execution_count": 331,
   "id": "f4a4ea3f-dba0-4892-935e-e784eda9e387",
   "metadata": {},
   "outputs": [
    {
     "data": {
      "text/plain": [
       "[23,\n",
       " 50,\n",
       " 56,\n",
       " 89,\n",
       " ('hello', 80),\n",
       " ['raam', 'rahul', [88, 99, True]],\n",
       " 7.6,\n",
       " 8.9,\n",
       " 100,\n",
       " 100]"
      ]
     },
     "execution_count": 331,
     "metadata": {},
     "output_type": "execute_result"
    }
   ],
   "source": [
    "h"
   ]
  },
  {
   "cell_type": "code",
   "execution_count": 332,
   "id": "867b76da-ddd0-4724-8b87-822a85372f42",
   "metadata": {},
   "outputs": [],
   "source": [
    "h.remove(100)"
   ]
  },
  {
   "cell_type": "code",
   "execution_count": 333,
   "id": "e771acbc-ad0e-4fde-97b4-668b32ae8a37",
   "metadata": {},
   "outputs": [
    {
     "data": {
      "text/plain": [
       "[23,\n",
       " 50,\n",
       " 56,\n",
       " 89,\n",
       " ('hello', 80),\n",
       " ['raam', 'rahul', [88, 99, True]],\n",
       " 7.6,\n",
       " 8.9,\n",
       " 100]"
      ]
     },
     "execution_count": 333,
     "metadata": {},
     "output_type": "execute_result"
    }
   ],
   "source": [
    "h"
   ]
  },
  {
   "cell_type": "code",
   "execution_count": 334,
   "id": "aa6a73e4-ecf6-4fb5-b129-7de61d133f56",
   "metadata": {},
   "outputs": [],
   "source": [
    "#update\n",
    "j = [23 , \"Hello\" , 90 , True , 5.6]"
   ]
  },
  {
   "cell_type": "code",
   "execution_count": null,
   "id": "3a7c9b4b-d98d-45a2-a9e5-8abc50d6fe8d",
   "metadata": {},
   "outputs": [],
   "source": []
  },
  {
   "cell_type": "code",
   "execution_count": 345,
   "id": "6dbfe81d-4f26-4fbf-8a01-38f1b937055d",
   "metadata": {},
   "outputs": [
    {
     "data": {
      "text/plain": [
       "[23,\n",
       " 23,\n",
       " 50,\n",
       " False,\n",
       " 89,\n",
       " ('hello', 80),\n",
       " ['raam', 'rahul', [88, 99, True]],\n",
       " 7.6,\n",
       " 8.9,\n",
       " 100,\n",
       " 89,\n",
       " ('hello', 80),\n",
       " ['raam', 'rahul', [88, 99, True]],\n",
       " 7.6,\n",
       " 8.9,\n",
       " 100,\n",
       " 5.6]"
      ]
     },
     "execution_count": 345,
     "metadata": {},
     "output_type": "execute_result"
    }
   ],
   "source": []
  },
  {
   "cell_type": "code",
   "execution_count": 343,
   "id": "41295744-13db-4f29-a313-fd62e6456da0",
   "metadata": {},
   "outputs": [],
   "source": [
    "j[3] = False"
   ]
  },
  {
   "cell_type": "code",
   "execution_count": null,
   "id": "62717296-aa1f-4dc3-b24b-5d582956fadc",
   "metadata": {},
   "outputs": [],
   "source": []
  },
  {
   "cell_type": "code",
   "execution_count": 13,
   "id": "d83e4936-c34a-4887-84f9-04e9483da427",
   "metadata": {},
   "outputs": [],
   "source": [
    "#delete\n",
    "z = [23 , \"Hello\" , 90 , True , 5.6,\"x\",54,233]"
   ]
  },
  {
   "cell_type": "code",
   "execution_count": 14,
   "id": "da3430eb-d9b4-4a5d-af5a-23ef785ba9a3",
   "metadata": {},
   "outputs": [
    {
     "data": {
      "text/plain": [
       "list"
      ]
     },
     "execution_count": 14,
     "metadata": {},
     "output_type": "execute_result"
    }
   ],
   "source": [
    "type(z)"
   ]
  },
  {
   "cell_type": "code",
   "execution_count": 15,
   "id": "8e3506ea-5b10-4c53-83f1-4caa6a0f2ece",
   "metadata": {},
   "outputs": [
    {
     "data": {
      "text/plain": [
       "233"
      ]
     },
     "execution_count": 15,
     "metadata": {},
     "output_type": "execute_result"
    }
   ],
   "source": [
    "z.pop()"
   ]
  },
  {
   "cell_type": "code",
   "execution_count": 16,
   "id": "d3f22290-fd11-4225-b051-9c5de93f6b19",
   "metadata": {},
   "outputs": [],
   "source": [
    "z.remove(23)"
   ]
  },
  {
   "cell_type": "code",
   "execution_count": 18,
   "id": "b6a4cd7f-2dcd-4851-9de9-27673ae2ad07",
   "metadata": {},
   "outputs": [
    {
     "data": {
      "text/plain": [
       "'Hello'"
      ]
     },
     "execution_count": 18,
     "metadata": {},
     "output_type": "execute_result"
    }
   ],
   "source": [
    "z.pop(0)"
   ]
  },
  {
   "cell_type": "code",
   "execution_count": 354,
   "id": "9c9c39aa-542d-4505-bac2-d106ea690a9d",
   "metadata": {},
   "outputs": [
    {
     "data": {
      "text/plain": [
       "['Hello', 90, True]"
      ]
     },
     "execution_count": 354,
     "metadata": {},
     "output_type": "execute_result"
    }
   ],
   "source": [
    "z"
   ]
  },
  {
   "cell_type": "code",
   "execution_count": null,
   "id": "474172ad-5ddc-4808-89ec-5b8344723999",
   "metadata": {},
   "outputs": [],
   "source": []
  },
  {
   "cell_type": "code",
   "execution_count": 361,
   "id": "d7384532-ed9b-4e5c-9551-fae095317a9f",
   "metadata": {},
   "outputs": [
    {
     "data": {
      "text/plain": [
       "[23, 56, 89, 20, ['raam', 'rahul', [88, 99, True]], 7.6, 8.9]"
      ]
     },
     "execution_count": 361,
     "metadata": {},
     "output_type": "execute_result"
    }
   ],
   "source": [
    "#update 80 with 20\n",
    "\n",
    "x=[23,56,89,(\"hello\",80),[\"raam\",\"rahul\",[88,99,True]],7.6,8.9]\n",
    "\n",
    "x[3] = 20\n",
    "x"
   ]
  },
  {
   "cell_type": "code",
   "execution_count": 370,
   "id": "10f3a742-5d64-49c7-809b-00dff8719281",
   "metadata": {},
   "outputs": [],
   "source": [
    "y= [33,43,13,423,5,6,2,35,42,4]"
   ]
  },
  {
   "cell_type": "code",
   "execution_count": 372,
   "id": "ce5862c0-d06e-4d5a-b9dc-05b3024c82c4",
   "metadata": {},
   "outputs": [],
   "source": [
    "y.sort()"
   ]
  },
  {
   "cell_type": "code",
   "execution_count": 373,
   "id": "6a0ea31c-dba7-438e-bb25-c7a6c5935198",
   "metadata": {},
   "outputs": [
    {
     "data": {
      "text/plain": [
       "[2, 4, 5, 6, 13, 33, 35, 42, 43, 423]"
      ]
     },
     "execution_count": 373,
     "metadata": {},
     "output_type": "execute_result"
    }
   ],
   "source": [
    "y"
   ]
  },
  {
   "cell_type": "code",
   "execution_count": 374,
   "id": "1479ab6c-bf26-4f6f-beb5-ec67b18b7c48",
   "metadata": {},
   "outputs": [],
   "source": [
    "y.sort(reverse = True)"
   ]
  },
  {
   "cell_type": "code",
   "execution_count": 375,
   "id": "e8cd58e7-4d0a-449f-bcf1-acbdb12df044",
   "metadata": {},
   "outputs": [
    {
     "data": {
      "text/plain": [
       "[423, 43, 42, 35, 33, 13, 6, 5, 4, 2]"
      ]
     },
     "execution_count": 375,
     "metadata": {},
     "output_type": "execute_result"
    }
   ],
   "source": [
    "y"
   ]
  },
  {
   "cell_type": "code",
   "execution_count": 20,
   "id": "326580e6-63d0-4868-aecd-2115bf089e3e",
   "metadata": {},
   "outputs": [
    {
     "name": "stdout",
     "output_type": "stream",
     "text": [
      "<class 'list'>\n",
      "None\n",
      "None\n"
     ]
    }
   ],
   "source": [
    "m = [\"fd\",\"f3wq\",\"jn\",\"ngd\",\"gfw\",\"waSZ\"]\n",
    "print(type(m))\n",
    "print(m.sort())\n",
    "print(m.sort(reverse = True))"
   ]
  },
  {
   "cell_type": "code",
   "execution_count": 11,
   "id": "2dd7fb95-b7e6-4ffd-818b-49ce340d6cc9",
   "metadata": {},
   "outputs": [],
   "source": [
    "h1=m.copy()"
   ]
  },
  {
   "cell_type": "code",
   "execution_count": 12,
   "id": "d8acddeb-e660-47f7-a95a-6a96cc8de875",
   "metadata": {},
   "outputs": [
    {
     "data": {
      "text/plain": [
       "['waSZ', 'ngd', 'jn', 'gfw', 'fd', 'f3wq']"
      ]
     },
     "execution_count": 12,
     "metadata": {},
     "output_type": "execute_result"
    }
   ],
   "source": [
    "h1"
   ]
  },
  {
   "cell_type": "code",
   "execution_count": 13,
   "id": "fe5c8c35-293a-4f64-bd7c-a14790819dcd",
   "metadata": {},
   "outputs": [],
   "source": [
    "m.sort()"
   ]
  },
  {
   "cell_type": "code",
   "execution_count": 14,
   "id": "3b58a70d-6461-4d6f-926c-05b41b4b035c",
   "metadata": {},
   "outputs": [
    {
     "data": {
      "text/plain": [
       "['f3wq', 'fd', 'gfw', 'jn', 'ngd', 'waSZ']"
      ]
     },
     "execution_count": 14,
     "metadata": {},
     "output_type": "execute_result"
    }
   ],
   "source": [
    "m"
   ]
  },
  {
   "cell_type": "code",
   "execution_count": 15,
   "id": "65931178-84e6-4940-a3c8-0b278bd728d5",
   "metadata": {},
   "outputs": [],
   "source": [
    "m.clear()"
   ]
  },
  {
   "cell_type": "code",
   "execution_count": 16,
   "id": "8b1c61fb-dad5-4b96-8c92-93365229e955",
   "metadata": {},
   "outputs": [
    {
     "data": {
      "text/plain": [
       "[]"
      ]
     },
     "execution_count": 16,
     "metadata": {},
     "output_type": "execute_result"
    }
   ],
   "source": [
    "m"
   ]
  },
  {
   "cell_type": "code",
   "execution_count": null,
   "id": "7b55b01b-edb7-464f-af6c-b9580a019622",
   "metadata": {},
   "outputs": [],
   "source": []
  },
  {
   "cell_type": "code",
   "execution_count": null,
   "id": "21309a25-22b6-4694-886c-3ea64f1071d6",
   "metadata": {},
   "outputs": [],
   "source": []
  },
  {
   "cell_type": "raw",
   "id": "bc364e30-8423-4073-896d-65271af252e9",
   "metadata": {},
   "source": [
    "04 June 2024"
   ]
  },
  {
   "cell_type": "raw",
   "id": "dad3b400-942c-4896-b59d-04204a5bcc23",
   "metadata": {},
   "source": [
    "Dictionary \n",
    "{}\n",
    "key value pair\n",
    "mutable\n",
    "indexed\n",
    "Unordered\n",
    "key should be unique"
   ]
  },
  {
   "cell_type": "code",
   "execution_count": 2,
   "id": "40bdb0a4-b687-4a7c-a067-8536e9176513",
   "metadata": {},
   "outputs": [],
   "source": [
    "d = { 'name' : \"Ramesh\" , 'Age' : 23}\n",
    "#     -----item1------   ---item2---"
   ]
  },
  {
   "cell_type": "code",
   "execution_count": 3,
   "id": "72feb9c2-e482-4d05-b96d-1795a8d3175d",
   "metadata": {},
   "outputs": [
    {
     "data": {
      "text/plain": [
       "dict"
      ]
     },
     "execution_count": 3,
     "metadata": {},
     "output_type": "execute_result"
    }
   ],
   "source": [
    "t = { 'Name' : [\"ramesh\" , \"Divya\"] , 'Age' : [23 , 45]}\n",
    "type(t)"
   ]
  },
  {
   "cell_type": "code",
   "execution_count": 4,
   "id": "6dbd8010-d8a2-43cd-8aa0-8c4479940671",
   "metadata": {},
   "outputs": [
    {
     "data": {
      "text/plain": [
       "['Name', 'Age']"
      ]
     },
     "execution_count": 4,
     "metadata": {},
     "output_type": "execute_result"
    }
   ],
   "source": [
    "list(t)"
   ]
  },
  {
   "cell_type": "code",
   "execution_count": 6,
   "id": "0e45f35d-f5f3-45eb-a236-19e99e4df07e",
   "metadata": {},
   "outputs": [],
   "source": [
    "#tuple list\n",
    "#tuple list -----> dict (X)\n",
    "#dict-----> tuple, list (here only keys  are visible in output)"
   ]
  },
  {
   "cell_type": "code",
   "execution_count": 7,
   "id": "3deefbc9-7b5d-4263-8401-19c542a299cf",
   "metadata": {},
   "outputs": [
    {
     "data": {
      "text/plain": [
       "{}"
      ]
     },
     "execution_count": 7,
     "metadata": {},
     "output_type": "execute_result"
    }
   ],
   "source": [
    "k = {} #(emty dict)\n",
    "k"
   ]
  },
  {
   "cell_type": "code",
   "execution_count": 8,
   "id": "08414120-a9ed-423a-93ea-a9ece01a018a",
   "metadata": {},
   "outputs": [
    {
     "data": {
      "text/plain": [
       "dict"
      ]
     },
     "execution_count": 8,
     "metadata": {},
     "output_type": "execute_result"
    }
   ],
   "source": [
    "type(k)"
   ]
  },
  {
   "cell_type": "code",
   "execution_count": 10,
   "id": "bce10f1a-d7ed-4b36-82ba-3f11b138048f",
   "metadata": {},
   "outputs": [
    {
     "data": {
      "text/plain": [
       "dict_keys(['Name', 'Age'])"
      ]
     },
     "execution_count": 10,
     "metadata": {},
     "output_type": "execute_result"
    }
   ],
   "source": [
    "#for finding keys of dict\n",
    "t.keys()"
   ]
  },
  {
   "cell_type": "code",
   "execution_count": 12,
   "id": "892b09d2-7cf8-4549-af63-346494fdb724",
   "metadata": {},
   "outputs": [
    {
     "data": {
      "text/plain": [
       "dict_values([['ramesh', 'Divya'], [23, 45]])"
      ]
     },
     "execution_count": 12,
     "metadata": {},
     "output_type": "execute_result"
    }
   ],
   "source": [
    "#for extracting values from dict\n",
    "t.values()"
   ]
  },
  {
   "cell_type": "code",
   "execution_count": 14,
   "id": "fea61927-c50c-4c9c-9d71-ba07b2a1d1c2",
   "metadata": {},
   "outputs": [
    {
     "data": {
      "text/plain": [
       "dict_items([('Name', ['ramesh', 'Divya']), ('Age', [23, 45])])"
      ]
     },
     "execution_count": 14,
     "metadata": {},
     "output_type": "execute_result"
    }
   ],
   "source": [
    "#for extracting items\n",
    "t.items()"
   ]
  },
  {
   "cell_type": "code",
   "execution_count": 45,
   "id": "69adfb6d-aebd-43b7-bd8b-d56d834cefdb",
   "metadata": {},
   "outputs": [],
   "source": [
    "k = {\"name\":[\"divya\",\"ramesh\",\"geeta\",\"anjali\"],\"age\":[23,34,45,56], 0:[34,98,76,54]}"
   ]
  },
  {
   "cell_type": "code",
   "execution_count": 46,
   "id": "87be3640-fdf9-4cc6-a6d2-83084af54986",
   "metadata": {},
   "outputs": [
    {
     "data": {
      "text/plain": [
       "dict"
      ]
     },
     "execution_count": 46,
     "metadata": {},
     "output_type": "execute_result"
    }
   ],
   "source": [
    "type(k)"
   ]
  },
  {
   "cell_type": "code",
   "execution_count": 47,
   "id": "abc73741-9d74-4860-8291-a54bd64a91fe",
   "metadata": {},
   "outputs": [
    {
     "data": {
      "text/plain": [
       "dict_keys(['name', 'age', 0])"
      ]
     },
     "execution_count": 47,
     "metadata": {},
     "output_type": "execute_result"
    }
   ],
   "source": [
    "k.keys()"
   ]
  },
  {
   "cell_type": "code",
   "execution_count": 48,
   "id": "ec17c52b-9e1e-42dc-9c92-990dddcf4433",
   "metadata": {},
   "outputs": [
    {
     "data": {
      "text/plain": [
       "dict_values([['divya', 'ramesh', 'geeta', 'anjali'], [23, 34, 45, 56], [34, 98, 76, 54]])"
      ]
     },
     "execution_count": 48,
     "metadata": {},
     "output_type": "execute_result"
    }
   ],
   "source": [
    "k.values()"
   ]
  },
  {
   "cell_type": "code",
   "execution_count": 49,
   "id": "fd8a0771-97de-4ff8-98f9-854037df19d4",
   "metadata": {},
   "outputs": [
    {
     "data": {
      "text/plain": [
       "dict_items([('name', ['divya', 'ramesh', 'geeta', 'anjali']), ('age', [23, 34, 45, 56]), (0, [34, 98, 76, 54])])"
      ]
     },
     "execution_count": 49,
     "metadata": {},
     "output_type": "execute_result"
    }
   ],
   "source": [
    "k.items()"
   ]
  },
  {
   "cell_type": "code",
   "execution_count": 50,
   "id": "d9b025b1-d332-4566-8850-2fd934701cdf",
   "metadata": {},
   "outputs": [],
   "source": [
    "k.update({\"address\":[\"pune\",\"mumbai\",\"nashik\",\"amravati\"]})"
   ]
  },
  {
   "cell_type": "code",
   "execution_count": 51,
   "id": "68be05d9-ebd1-4a6b-b092-875894cf20ab",
   "metadata": {},
   "outputs": [
    {
     "data": {
      "text/plain": [
       "{'name': ['divya', 'ramesh', 'geeta', 'anjali'],\n",
       " 'age': [23, 34, 45, 56],\n",
       " 0: [34, 98, 76, 54],\n",
       " 'address': ['pune', 'mumbai', 'nashik', 'amravati']}"
      ]
     },
     "execution_count": 51,
     "metadata": {},
     "output_type": "execute_result"
    }
   ],
   "source": [
    "k"
   ]
  },
  {
   "cell_type": "code",
   "execution_count": 25,
   "id": "6ff3e685-f906-44c4-92d5-5a21ab28bb16",
   "metadata": {},
   "outputs": [
    {
     "data": {
      "text/plain": [
       "{'name': ['divya', 'ramesh', 'geeta', 'anjali'],\n",
       " 'age': [23, 34, 45, 56],\n",
       " 0: [34, 98, 76, 54],\n",
       " 'address': ['pune', 'mumbai', 'nashik', 'amravati'],\n",
       " 'marks': 78,\n",
       " 'grade': 'A'}"
      ]
     },
     "execution_count": 25,
     "metadata": {},
     "output_type": "execute_result"
    }
   ],
   "source": [
    "k.update({\"marks\":78,\"grade\":\"A\"})\n",
    "k"
   ]
  },
  {
   "cell_type": "code",
   "execution_count": 27,
   "id": "41f1cee3-9fd0-421e-8afa-a0bde8b05ae9",
   "metadata": {},
   "outputs": [],
   "source": [
    "k[\"grade\"]=[\"A\",\"B\",\"c\",\"D\"]"
   ]
  },
  {
   "cell_type": "code",
   "execution_count": 28,
   "id": "c92bb747-95f0-48a5-ad1a-9b10f4c79f55",
   "metadata": {},
   "outputs": [
    {
     "data": {
      "text/plain": [
       "{'name': ['divya', 'ramesh', 'geeta', 'anjali'],\n",
       " 'age': [23, 34, 45, 56],\n",
       " 0: [34, 98, 76, 54],\n",
       " 'address': ['pune', 'mumbai', 'nashik', 'amravati'],\n",
       " 'marks': 78,\n",
       " 'grade': ['A', 'B', 'c', 'D']}"
      ]
     },
     "execution_count": 28,
     "metadata": {},
     "output_type": "execute_result"
    }
   ],
   "source": [
    "k"
   ]
  },
  {
   "cell_type": "code",
   "execution_count": 29,
   "id": "30f93bb5-643a-442b-b645-7af0d48843bb",
   "metadata": {},
   "outputs": [],
   "source": [
    "k[1]=7"
   ]
  },
  {
   "cell_type": "code",
   "execution_count": 48,
   "id": "89803af6-7401-4b7c-958c-b4f9faa688ff",
   "metadata": {},
   "outputs": [
    {
     "data": {
      "text/plain": [
       "{'name': ['divya', 'ramesh', 'geeta', 'anjali'],\n",
       " 'age': [23, 4, 45, 56],\n",
       " 0: [34, 98, 76, 54],\n",
       " 'address': ['pune', 'mumbai', 'nashik', 'amravati'],\n",
       " 'marks': 78,\n",
       " 'grade': ['A', 'B', 'c', 'D'],\n",
       " 1: 78}"
      ]
     },
     "execution_count": 48,
     "metadata": {},
     "output_type": "execute_result"
    }
   ],
   "source": [
    "k[\"age\"][1]=4\n",
    "k"
   ]
  },
  {
   "cell_type": "code",
   "execution_count": 31,
   "id": "b1546e8d-b214-4307-9f51-a2c31e669c33",
   "metadata": {},
   "outputs": [
    {
     "data": {
      "text/plain": [
       "{}"
      ]
     },
     "execution_count": 31,
     "metadata": {},
     "output_type": "execute_result"
    }
   ],
   "source": [
    "x = {}\n",
    "x"
   ]
  },
  {
   "cell_type": "code",
   "execution_count": 34,
   "id": "d8740d41-a708-481a-8c92-a2c9b451f6e6",
   "metadata": {},
   "outputs": [
    {
     "data": {
      "text/plain": [
       "{'G': ['A', 'B', 'c']}"
      ]
     },
     "execution_count": 34,
     "metadata": {},
     "output_type": "execute_result"
    }
   ],
   "source": [
    "x[\"G\"] = ['A','B','c']\n",
    "x"
   ]
  },
  {
   "cell_type": "code",
   "execution_count": 37,
   "id": "5ea7de18-8bd8-4f8f-8d32-a33f6f913930",
   "metadata": {},
   "outputs": [
    {
     "data": {
      "text/plain": [
       "{'G': ['A', 'B', 'c'], 1: 7}"
      ]
     },
     "execution_count": 37,
     "metadata": {},
     "output_type": "execute_result"
    }
   ],
   "source": [
    "x[1] = 7\n",
    "x"
   ]
  },
  {
   "cell_type": "code",
   "execution_count": 49,
   "id": "7f12dd55-5f9b-43b9-98ae-46fd84b8d5e0",
   "metadata": {},
   "outputs": [
    {
     "data": {
      "text/plain": [
       "{'G': ['A', 'B', 'd'], 1: 7}"
      ]
     },
     "execution_count": 49,
     "metadata": {},
     "output_type": "execute_result"
    }
   ],
   "source": [
    "x['G'][2]='d'\n",
    "x"
   ]
  },
  {
   "cell_type": "code",
   "execution_count": 50,
   "id": "95f00ad2-411b-4ca4-b0b0-6d3680e15652",
   "metadata": {},
   "outputs": [
    {
     "data": {
      "text/plain": [
       "{'G': ['A', 'B', 'd'], 1: 7, 'name': ['abc', 'xyz']}"
      ]
     },
     "execution_count": 50,
     "metadata": {},
     "output_type": "execute_result"
    }
   ],
   "source": [
    "x[\"name\"] = [\"abc\", \"xyz\"]\n",
    "x"
   ]
  },
  {
   "cell_type": "code",
   "execution_count": 51,
   "id": "9be30589-486b-4436-b6fd-bc6f75885aad",
   "metadata": {},
   "outputs": [
    {
     "data": {
      "text/plain": [
       "{'G': ['A', 'B', 'd'], 1: 7, 'name': ['abc', 'xyz']}"
      ]
     },
     "execution_count": 51,
     "metadata": {},
     "output_type": "execute_result"
    }
   ],
   "source": [
    "x"
   ]
  },
  {
   "cell_type": "code",
   "execution_count": null,
   "id": "772cc410-b519-4d9a-a7e9-1326f2367e35",
   "metadata": {},
   "outputs": [],
   "source": []
  },
  {
   "cell_type": "code",
   "execution_count": 71,
   "id": "7821d40d-3138-488e-bb6a-865a462b28ea",
   "metadata": {},
   "outputs": [],
   "source": [
    "j = {\n",
    "    \"info\": {\n",
    "        \"family\": {\n",
    "            \"adult\": [\"a\", \"b\", \"c\"],\n",
    "            \"child\": [\"x\", \"y\", \"z\"],\n",
    "            \"senior\": [\"t\", \"u\", \"v\"]\n",
    "        },\n",
    "        \"family2\": {\n",
    "            \"adult\": [\"aa\", \"bb\", \"cc\"],\n",
    "            \"child\": [\"xx\", \"yy\", \"zz\"],\n",
    "            \"senior\": [\"tt\", \"uu\", \"vv\"]\n",
    "        },\n",
    "        \"family3\": {\n",
    "            \"adult\": [\"aaa\", \"bbb\", \"ccc\"],\n",
    "            \"child\": [\"xxx\", \"yyy\", \"zzz\"],\n",
    "            \"senior\": [\"ttt\", \"uuu\", \"vvv\"]\n",
    "        }\n",
    "    }\n",
    "}\n"
   ]
  },
  {
   "cell_type": "code",
   "execution_count": 72,
   "id": "0be12616-ff85-4106-bd35-1fc78652ea35",
   "metadata": {},
   "outputs": [
    {
     "data": {
      "text/plain": [
       "{'info': {'family': {'adult': ['a', 'b', 'c'],\n",
       "   'child': ['x', 'y', 'z'],\n",
       "   'senior': ['t', 'u', 'v']},\n",
       "  'family2': {'adult': ['aa', 'bb', 'cc'],\n",
       "   'child': ['xx', 'yy', 'zz'],\n",
       "   'senior': ['tt', 'uu', 'vv']},\n",
       "  'family3': {'adult': ['aaa', 'bbb', 'ccc'],\n",
       "   'child': ['xxx', 'yyy', 'zzz'],\n",
       "   'senior': ['ttt', 'uuu', 'vvv']}}}"
      ]
     },
     "execution_count": 72,
     "metadata": {},
     "output_type": "execute_result"
    }
   ],
   "source": [
    "j"
   ]
  },
  {
   "cell_type": "code",
   "execution_count": 74,
   "id": "106c5e91-1843-4ca8-a85a-1f8351ea09fe",
   "metadata": {},
   "outputs": [
    {
     "data": {
      "text/plain": [
       "['t', 'u', 'v']"
      ]
     },
     "execution_count": 74,
     "metadata": {},
     "output_type": "execute_result"
    }
   ],
   "source": [
    "j[\"info\"][\"family\"][\"senior\"]"
   ]
  },
  {
   "cell_type": "code",
   "execution_count": 76,
   "id": "f3e32c3d-799f-4a68-8bc3-66148672da8b",
   "metadata": {},
   "outputs": [
    {
     "data": {
      "text/plain": [
       "['bbb', 'ccc']"
      ]
     },
     "execution_count": 76,
     "metadata": {},
     "output_type": "execute_result"
    }
   ],
   "source": [
    "j[\"info\"][\"family3\"][\"adult\"][1:]"
   ]
  },
  {
   "cell_type": "code",
   "execution_count": 78,
   "id": "2757f031-47f9-4096-9b3c-675d9bcd2b1f",
   "metadata": {},
   "outputs": [
    {
     "data": {
      "text/plain": [
       "{'info': {'family': {'adult': ['a', 'b', 'c'],\n",
       "   'child': ['x', 'y', 'z'],\n",
       "   'senior': ['t', 'u', 'v']},\n",
       "  'family2': {'adult': ['aa', 'mm', 'cc'],\n",
       "   'child': ['xx', 'yy', 'zz'],\n",
       "   'senior': ['tt', 'uu', 'vv']},\n",
       "  'family3': {'adult': ['aaa', 'bbb', 'ccc'],\n",
       "   'child': ['xxx', 'yyy', 'zzz'],\n",
       "   'senior': ['ttt', 'uuu', 'vvv']}}}"
      ]
     },
     "execution_count": 78,
     "metadata": {},
     "output_type": "execute_result"
    }
   ],
   "source": [
    "j[\"info\"][\"family2\"][\"adult\"][1] = \"mm\"\n",
    "j"
   ]
  },
  {
   "cell_type": "code",
   "execution_count": 79,
   "id": "b3fcdd27-41c6-4b31-9b1d-1784ac4e981c",
   "metadata": {},
   "outputs": [
    {
     "data": {
      "text/plain": [
       "['aa', 'mm', 'cc']"
      ]
     },
     "execution_count": 79,
     "metadata": {},
     "output_type": "execute_result"
    }
   ],
   "source": [
    "j[\"info\"][\"family2\"][\"adult\"]"
   ]
  },
  {
   "cell_type": "code",
   "execution_count": 88,
   "id": "c07eddac-9ba7-402d-83fd-2469f68612a6",
   "metadata": {},
   "outputs": [
    {
     "data": {
      "text/plain": [
       "{'info': {'family': {'adult': ['a', 'b', 'c', 'ZZ'],\n",
       "   'child': ['x', 'y', 'z', 'ZZ'],\n",
       "   'senior': ['t', 'u', 'v']},\n",
       "  'family2': {'adult': ['aa', 'mm', 'cc'],\n",
       "   'child': ['xx', 'yy', 'zz', 'ZZ', 'ZZ'],\n",
       "   'senior': ['tt', 'uu', 'vv']},\n",
       "  'family3': {'adult': ['aaa', 'bbb', 'ccc'],\n",
       "   'child': ['xxx', 'yyy', 'zzz'],\n",
       "   'senior': ['ttt', 'uuu', 'vvv']}}}"
      ]
     },
     "execution_count": 88,
     "metadata": {},
     "output_type": "execute_result"
    }
   ],
   "source": [
    "j[\"info\"][\"family\"][\"adult\"].append(\"ZZ\")\n",
    "j"
   ]
  },
  {
   "cell_type": "code",
   "execution_count": 89,
   "id": "192bdd5e-ccb2-468a-bc18-e512aa94915c",
   "metadata": {},
   "outputs": [
    {
     "data": {
      "text/plain": [
       "{'name': ['divya', 'ramesh', 'geeta', 'anjali'],\n",
       " 'age': [23, 4, 45, 56],\n",
       " 0: [34, 98, 76, 54],\n",
       " 'address': ['pune', 'mumbai', 'nashik', 'amravati'],\n",
       " 'marks': 78,\n",
       " 'grade': ['A', 'B', 'c', 'D'],\n",
       " 1: 78}"
      ]
     },
     "execution_count": 89,
     "metadata": {},
     "output_type": "execute_result"
    }
   ],
   "source": [
    "k"
   ]
  },
  {
   "cell_type": "code",
   "execution_count": 94,
   "id": "9c82f7a2-ecd4-4d91-9ff4-31da59808db1",
   "metadata": {},
   "outputs": [
    {
     "data": {
      "text/plain": [
       "{'name': ['divya', 'ramesh', 'geeta', 'anjali'],\n",
       " 'age': [23, 4, 45, 56],\n",
       " 0: [34, 98, 76, 54],\n",
       " 'address': ['pune', 'mumbai', 'nashik', 'amravati'],\n",
       " 'marks': 78,\n",
       " 1: 78}"
      ]
     },
     "execution_count": 94,
     "metadata": {},
     "output_type": "execute_result"
    }
   ],
   "source": [
    "k"
   ]
  },
  {
   "cell_type": "code",
   "execution_count": 95,
   "id": "c2cdc361-7865-4aec-be9a-77e435013af3",
   "metadata": {},
   "outputs": [
    {
     "data": {
      "text/plain": [
       "[34, 98, 76, 54]"
      ]
     },
     "execution_count": 95,
     "metadata": {},
     "output_type": "execute_result"
    }
   ],
   "source": [
    "k.pop(0)"
   ]
  },
  {
   "cell_type": "code",
   "execution_count": 96,
   "id": "2d4f4ab2-49a4-4a2a-9fc2-2faffdbef23a",
   "metadata": {},
   "outputs": [],
   "source": [
    "del(k)"
   ]
  },
  {
   "cell_type": "code",
   "execution_count": 98,
   "id": "354467f3-943a-4543-ab36-95451213ec9f",
   "metadata": {},
   "outputs": [
    {
     "name": "stdout",
     "output_type": "stream",
     "text": [
      "[12, 80, 4]\n"
     ]
    }
   ],
   "source": [
    " a=[12 ,3,4]\n",
    "b=a\n",
    "b[1]=80\n",
    "print(a) #deepcopy"
   ]
  },
  {
   "cell_type": "code",
   "execution_count": 99,
   "id": "1709b998-4456-442a-81cf-a57f4ae85aef",
   "metadata": {},
   "outputs": [
    {
     "name": "stdout",
     "output_type": "stream",
     "text": [
      "[12, 3, 4]\n"
     ]
    }
   ],
   "source": [
    " a=[12 ,3,4]\n",
    "b=a.copy()\n",
    "b[1]=80\n",
    "print(a) #shallow_copy"
   ]
  },
  {
   "cell_type": "code",
   "execution_count": 100,
   "id": "afeda14b-4f27-456e-b6bc-363ef330c636",
   "metadata": {},
   "outputs": [
    {
     "data": {
      "text/plain": [
       "{'name': ['divya', 'ramesh', 'geeta', 'anjali'],\n",
       " 'age': [23, 34, 45, 56],\n",
       " 0: [34, 98, 76, 54]}"
      ]
     },
     "execution_count": 100,
     "metadata": {},
     "output_type": "execute_result"
    }
   ],
   "source": [
    "k = {\"name\":[\"divya\",\"ramesh\",\"geeta\",\"anjali\"],\"age\":[23,34,45,56], 0:[34,98,76,54]}\n",
    "k"
   ]
  },
  {
   "cell_type": "code",
   "execution_count": 102,
   "id": "2d5d3d82-c634-4e59-9d06-9bda0a52e654",
   "metadata": {},
   "outputs": [
    {
     "data": {
      "text/plain": [
       "'anjali'"
      ]
     },
     "execution_count": 102,
     "metadata": {},
     "output_type": "execute_result"
    }
   ],
   "source": [
    "k[\"name\"].pop(3)"
   ]
  },
  {
   "cell_type": "code",
   "execution_count": 103,
   "id": "cc161301-a3bf-465b-8b39-78a103074217",
   "metadata": {},
   "outputs": [],
   "source": [
    "k[\"name\"].remove(\"ramesh\")"
   ]
  },
  {
   "cell_type": "code",
   "execution_count": 104,
   "id": "01ec7c38-20ca-49f3-9f10-adc394ab43c0",
   "metadata": {},
   "outputs": [
    {
     "data": {
      "text/plain": [
       "{'name': ['divya', 'geeta'], 'age': [23, 34, 45, 56], 0: [34, 98, 76, 54]}"
      ]
     },
     "execution_count": 104,
     "metadata": {},
     "output_type": "execute_result"
    }
   ],
   "source": [
    "k"
   ]
  },
  {
   "cell_type": "code",
   "execution_count": null,
   "id": "d11a32eb-8b89-4b19-895f-664ba2a42add",
   "metadata": {},
   "outputs": [],
   "source": []
  },
  {
   "cell_type": "code",
   "execution_count": null,
   "id": "f0a4966e-2f98-4fd0-8b80-60d78ddcf45e",
   "metadata": {},
   "outputs": [],
   "source": []
  },
  {
   "cell_type": "raw",
   "id": "4300eedb-735b-4c5f-b1ac-aaced0fb4854",
   "metadata": {},
   "source": [
    "SET\n",
    "\n",
    "{}\n",
    "unindexed \n",
    "unnordered\n",
    "mutable (add, delete)\n",
    "there is no way to extract elements or change elements inside a set \n",
    "duplicate values are not allowed"
   ]
  },
  {
   "cell_type": "code",
   "execution_count": 107,
   "id": "ccfc9bf6-d1ea-49fe-ac34-caaae57009c4",
   "metadata": {},
   "outputs": [
    {
     "data": {
      "text/plain": [
       "set"
      ]
     },
     "execution_count": 107,
     "metadata": {},
     "output_type": "execute_result"
    }
   ],
   "source": [
    "s = set()\n",
    "type(s)"
   ]
  },
  {
   "cell_type": "code",
   "execution_count": 4,
   "id": "a8d4e4c6-7c86-4b4c-bdec-7aa0e71ac097",
   "metadata": {},
   "outputs": [
    {
     "data": {
      "text/plain": [
       "{39, 329, 392}"
      ]
     },
     "execution_count": 4,
     "metadata": {},
     "output_type": "execute_result"
    }
   ],
   "source": [
    "j = {39 , 329 ,392, 329, 39}\n",
    "j"
   ]
  },
  {
   "cell_type": "code",
   "execution_count": 5,
   "id": "c700c9ac-4053-430c-8cd8-2ad9c67a62e4",
   "metadata": {},
   "outputs": [],
   "source": [
    "j.add(40)"
   ]
  },
  {
   "cell_type": "code",
   "execution_count": 6,
   "id": "2920d739-d17f-4a6b-92ab-552b72cf2b88",
   "metadata": {},
   "outputs": [
    {
     "data": {
      "text/plain": [
       "{39, 40, 329, 392}"
      ]
     },
     "execution_count": 6,
     "metadata": {},
     "output_type": "execute_result"
    }
   ],
   "source": [
    "j"
   ]
  },
  {
   "cell_type": "code",
   "execution_count": 7,
   "id": "e88cbdf3-6f15-423a-ba68-d08f4dec16f1",
   "metadata": {},
   "outputs": [],
   "source": [
    "j.add(330)"
   ]
  },
  {
   "cell_type": "code",
   "execution_count": 8,
   "id": "cabdce0b-800c-48a8-a067-d4f29baacc01",
   "metadata": {},
   "outputs": [
    {
     "data": {
      "text/plain": [
       "{39, 40, 329, 330, 392}"
      ]
     },
     "execution_count": 8,
     "metadata": {},
     "output_type": "execute_result"
    }
   ],
   "source": [
    "j"
   ]
  },
  {
   "cell_type": "code",
   "execution_count": 9,
   "id": "af3785a0-ac38-4501-8a8b-618e731f1739",
   "metadata": {},
   "outputs": [
    {
     "data": {
      "text/plain": [
       "{39, 40, 329, 330, 392, 832}"
      ]
     },
     "execution_count": 9,
     "metadata": {},
     "output_type": "execute_result"
    }
   ],
   "source": [
    "j1 =j.union({39,832}) \n",
    "j1"
   ]
  },
  {
   "cell_type": "code",
   "execution_count": 10,
   "id": "938fd4c4-2b23-4dca-9904-7a8bc4203c7e",
   "metadata": {},
   "outputs": [
    {
     "data": {
      "text/plain": [
       "{39, 40, 48, 90, 329, 330, 392, 832, 2084}"
      ]
     },
     "execution_count": 10,
     "metadata": {},
     "output_type": "execute_result"
    }
   ],
   "source": [
    "j2 = j1.union({48,90,2084})\n",
    "j2"
   ]
  },
  {
   "cell_type": "code",
   "execution_count": 11,
   "id": "7218a780-0465-44d9-89ae-9e8adba96a3d",
   "metadata": {},
   "outputs": [
    {
     "data": {
      "text/plain": [
       "{48, 329, 392}"
      ]
     },
     "execution_count": 11,
     "metadata": {},
     "output_type": "execute_result"
    }
   ],
   "source": [
    "j2.intersection({10 , 20, 439, 48, 329, 392})"
   ]
  },
  {
   "cell_type": "code",
   "execution_count": 1,
   "id": "ec0d48d9-9815-477f-a9c3-f7ad03ca6dd7",
   "metadata": {},
   "outputs": [
    {
     "ename": "NameError",
     "evalue": "name 'j2' is not defined",
     "output_type": "error",
     "traceback": [
      "\u001b[1;31m---------------------------------------------------------------------------\u001b[0m",
      "\u001b[1;31mNameError\u001b[0m                                 Traceback (most recent call last)",
      "Cell \u001b[1;32mIn[1], line 1\u001b[0m\n\u001b[1;32m----> 1\u001b[0m j2\n",
      "\u001b[1;31mNameError\u001b[0m: name 'j2' is not defined"
     ]
    }
   ],
   "source": [
    "j2"
   ]
  },
  {
   "cell_type": "code",
   "execution_count": 14,
   "id": "a3bb7e4b-83fd-42ff-8a43-d702101a422d",
   "metadata": {},
   "outputs": [
    {
     "ename": "KeyError",
     "evalue": "90",
     "output_type": "error",
     "traceback": [
      "\u001b[1;31m---------------------------------------------------------------------------\u001b[0m",
      "\u001b[1;31mKeyError\u001b[0m                                  Traceback (most recent call last)",
      "Cell \u001b[1;32mIn[14], line 1\u001b[0m\n\u001b[1;32m----> 1\u001b[0m j2\u001b[38;5;241m.\u001b[39mremove(\u001b[38;5;241m90\u001b[39m)\n",
      "\u001b[1;31mKeyError\u001b[0m: 90"
     ]
    }
   ],
   "source": [
    "j2.remove(90)"
   ]
  },
  {
   "cell_type": "code",
   "execution_count": 16,
   "id": "75730529-0070-4083-8616-5d8309e7dd53",
   "metadata": {},
   "outputs": [],
   "source": [
    "j2.discard(2084)"
   ]
  },
  {
   "cell_type": "code",
   "execution_count": 132,
   "id": "18fd45d4-5bac-4cef-9cfe-1bd7daf1ac33",
   "metadata": {},
   "outputs": [
    {
     "data": {
      "text/plain": [
       "{39, 40, 330, 392, 832}"
      ]
     },
     "execution_count": 132,
     "metadata": {},
     "output_type": "execute_result"
    }
   ],
   "source": [
    "j2"
   ]
  },
  {
   "cell_type": "code",
   "execution_count": 133,
   "id": "8ec286b1-702b-4ea5-913e-af93fa46c648",
   "metadata": {},
   "outputs": [],
   "source": [
    "#we can not add mutable elemnts in set "
   ]
  },
  {
   "cell_type": "code",
   "execution_count": null,
   "id": "a14632f0-49dc-46ff-ad48-f3381e13dc8b",
   "metadata": {},
   "outputs": [],
   "source": [
    "\n"
   ]
  }
 ],
 "metadata": {
  "kernelspec": {
   "display_name": "Python 3 (ipykernel)",
   "language": "python",
   "name": "python3"
  },
  "language_info": {
   "codemirror_mode": {
    "name": "ipython",
    "version": 3
   },
   "file_extension": ".py",
   "mimetype": "text/x-python",
   "name": "python",
   "nbconvert_exporter": "python",
   "pygments_lexer": "ipython3",
   "version": "3.11.7"
  }
 },
 "nbformat": 4,
 "nbformat_minor": 5
}
