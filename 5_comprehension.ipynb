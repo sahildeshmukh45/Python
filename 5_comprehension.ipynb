{
 "cells": [
  {
   "cell_type": "raw",
   "id": "6ae0969d-ea61-4d52-bb04-0b1d9be48c4e",
   "metadata": {},
   "source": [
    "List comprehension"
   ]
  },
  {
   "cell_type": "code",
   "execution_count": 1,
   "id": "140ac51f-d99a-466e-901f-992e7b59b8e1",
   "metadata": {},
   "outputs": [
    {
     "name": "stdout",
     "output_type": "stream",
     "text": [
      "<zip object at 0x000001D6A11A99C0>\n"
     ]
    }
   ],
   "source": [
    "x = ['a','b','c']\n",
    "y = [1,2,3] \n",
    "z = zip(x,y)\n",
    "print(z)\n"
   ]
  },
  {
   "cell_type": "code",
   "execution_count": 2,
   "id": "8a325803-a8bb-4856-b88b-a8ee3cd7c5b5",
   "metadata": {},
   "outputs": [
    {
     "name": "stdout",
     "output_type": "stream",
     "text": [
      "[('a', 1), ('b', 2), ('c', 3)]\n"
     ]
    }
   ],
   "source": [
    "x = ['a','b','c']\n",
    "y = [1,2,3] \n",
    "z = list(zip(x,y))\n",
    "print(z)\n"
   ]
  },
  {
   "cell_type": "code",
   "execution_count": 12,
   "id": "94f6e397-176f-49ac-96a0-a357d7aba577",
   "metadata": {},
   "outputs": [
    {
     "name": "stdout",
     "output_type": "stream",
     "text": [
      "[1, 4, 9, 16, 25, 36, 49, 64, 81, 100, 121, 144, 169, 196, 225, 256, 289, 324, 361, 400]\n"
     ]
    }
   ],
   "source": [
    "#square of 1 to 20 numbers in list\n",
    "l = [] \n",
    "for i in range(1,21):\n",
    "    l.append(i**2)\n",
    "    \n",
    "print(l)"
   ]
  },
  {
   "cell_type": "code",
   "execution_count": 13,
   "id": "4c1e739d-de5f-40e1-9953-7da93102bf29",
   "metadata": {},
   "outputs": [
    {
     "name": "stdout",
     "output_type": "stream",
     "text": [
      "[1, 4, 9, 16, 25, 36, 49, 64, 81, 100, 121, 144, 169, 196, 225, 256, 289, 324, 361, 400]\n"
     ]
    }
   ],
   "source": [
    "#range operation\n",
    "squares = [ x**2 for x in range(1,21)]\n",
    "print(squares)"
   ]
  },
  {
   "cell_type": "code",
   "execution_count": 24,
   "id": "2a9df090-afc2-4f68-b8c3-d4fd9a5f3f1c",
   "metadata": {},
   "outputs": [
    {
     "name": "stdout",
     "output_type": "stream",
     "text": [
      "[2, 4, 6, 8, 10, 12, 14, 16, 18, 20, 22, 24, 26, 28, 30, 32, 34, 36, 38, 40, 42, 44, 46, 48, 50]\n"
     ]
    }
   ],
   "source": [
    "#for if condition \n",
    "even = [x for x in range(1,51) if x%2==0]         #[output(x) for x in range(1,51) condition]\n",
    "print(even)"
   ]
  },
  {
   "cell_type": "code",
   "execution_count": 30,
   "id": "676b719e-0a22-4c9c-bc99-b1ec96ace026",
   "metadata": {},
   "outputs": [
    {
     "name": "stdout",
     "output_type": "stream",
     "text": [
      "[25, 30, 40]\n"
     ]
    }
   ],
   "source": [
    "#for for condition \n",
    "l = [5,10,20]\n",
    "sum = [i+20 for i in l]\n",
    "print(sum)\n",
    "\n"
   ]
  },
  {
   "cell_type": "code",
   "execution_count": 43,
   "id": "8c476bd3-096d-40a6-8a6b-84ee6f750bc6",
   "metadata": {},
   "outputs": [
    {
     "name": "stdout",
     "output_type": "stream",
     "text": [
      "[1000, 27000, 10000, 4900, 2500, 6400, 3600]\n",
      "\n"
     ]
    }
   ],
   "source": [
    "#for if else condition \n",
    "l = [10,30,100,70,50,80,60]\n",
    "d = [i**2 if i>40 else i**3 for i in l]\n",
    "print(d)\n",
    "print()"
   ]
  },
  {
   "cell_type": "code",
   "execution_count": null,
   "id": "5c4f2af0-3090-441a-a9dc-1d88b078587a",
   "metadata": {},
   "outputs": [],
   "source": []
  },
  {
   "cell_type": "code",
   "execution_count": null,
   "id": "1d12fa43-271e-4a70-8467-df7f2175a7ac",
   "metadata": {},
   "outputs": [],
   "source": []
  },
  {
   "cell_type": "raw",
   "id": "496daf7e-137f-4527-9a91-5450db872410",
   "metadata": {},
   "source": [
    "Dictionary comprehension"
   ]
  },
  {
   "cell_type": "raw",
   "id": "06ec566d-2828-4567-8335-e64f155b4236",
   "metadata": {},
   "source": [
    "result is stored in dictionary\n"
   ]
  },
  {
   "cell_type": "code",
   "execution_count": 2,
   "id": "f4043c90-e12f-480b-90e1-ae5713aa0bd5",
   "metadata": {},
   "outputs": [
    {
     "name": "stdout",
     "output_type": "stream",
     "text": [
      "{1: 1, 2: 4, 3: 9, 4: 16}\n"
     ]
    }
   ],
   "source": [
    "l = [1,2,3,4]\n",
    "d = { k:k**2 for k in l}\n",
    "print(d)"
   ]
  },
  {
   "cell_type": "code",
   "execution_count": 7,
   "id": "da7ebed4-bffe-498e-bb43-921b618fa922",
   "metadata": {},
   "outputs": [
    {
     "name": "stdout",
     "output_type": "stream",
     "text": [
      "{'i': 'II', 'n': 'NN', 'd': 'DD', 'a': 'AA'}\n"
     ]
    }
   ],
   "source": [
    "l = \"india\"\n",
    "d = { i:i.upper()*2 for i in l }\n",
    "print(d)"
   ]
  },
  {
   "cell_type": "code",
   "execution_count": 12,
   "id": "1789f073-fed2-4692-9433-df64331ea195",
   "metadata": {},
   "outputs": [
    {
     "name": "stdout",
     "output_type": "stream",
     "text": [
      "{'abc': 3, 'hi': 2, 'hello': 5, 'Good': 4, 'Afternoon': 9}\n"
     ]
    }
   ],
   "source": [
    "l = [\"abc\", \"hi\",\"hello\",\"Good\",\"Afternoon\"]\n",
    "d = { i : len(i) for i in l}\n",
    "print(d)"
   ]
  },
  {
   "cell_type": "code",
   "execution_count": null,
   "id": "0ba2b161-fc2c-4436-a0eb-65b9f61f9a15",
   "metadata": {},
   "outputs": [],
   "source": []
  }
 ],
 "metadata": {
  "kernelspec": {
   "display_name": "Python 3 (ipykernel)",
   "language": "python",
   "name": "python3"
  },
  "language_info": {
   "codemirror_mode": {
    "name": "ipython",
    "version": 3
   },
   "file_extension": ".py",
   "mimetype": "text/x-python",
   "name": "python",
   "nbconvert_exporter": "python",
   "pygments_lexer": "ipython3",
   "version": "3.11.7"
  }
 },
 "nbformat": 4,
 "nbformat_minor": 5
}
