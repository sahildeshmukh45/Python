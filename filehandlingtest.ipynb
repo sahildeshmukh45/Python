{
 "cells": [
  {
   "cell_type": "markdown",
   "id": "5bbcd2a6-b267-4b5a-9e1d-c1b6f4455647",
   "metadata": {},
   "source": [
    "in how many modes we can open a file"
   ]
  },
  {
   "cell_type": "raw",
   "id": "efff424f-b6d6-43c0-b363-e2e87782b976",
   "metadata": {},
   "source": [
    "ans:- we can open file in 4 mode \n",
    "1>\"x\":-create\n",
    "2>\"r\":-read\n",
    "3>\"w\":-write\n",
    "4>\"a\":-append"
   ]
  },
  {
   "cell_type": "code",
   "execution_count": 67,
   "id": "70d9c76f-7269-418a-8287-444c911b88ab",
   "metadata": {},
   "outputs": [
    {
     "ename": "FileExistsError",
     "evalue": "[Errno 17] File exists: 'C:/Users/HP/Documents/project/op.txt'",
     "output_type": "error",
     "traceback": [
      "\u001b[1;31m---------------------------------------------------------------------------\u001b[0m",
      "\u001b[1;31mFileExistsError\u001b[0m                           Traceback (most recent call last)",
      "Cell \u001b[1;32mIn[67], line 2\u001b[0m\n\u001b[0;32m      1\u001b[0m \u001b[38;5;66;03m#create 3 files in differnt location\u001b[39;00m\n\u001b[1;32m----> 2\u001b[0m a\u001b[38;5;241m=\u001b[39m\u001b[38;5;28mopen\u001b[39m(\u001b[38;5;124m\"\u001b[39m\u001b[38;5;124mC:/Users/HP/Documents/project/op.txt\u001b[39m\u001b[38;5;124m\"\u001b[39m,\u001b[38;5;124m\"\u001b[39m\u001b[38;5;124mx\u001b[39m\u001b[38;5;124m\"\u001b[39m)\n",
      "File \u001b[1;32m~\\anaconda3\\Lib\\site-packages\\IPython\\core\\interactiveshell.py:310\u001b[0m, in \u001b[0;36m_modified_open\u001b[1;34m(file, *args, **kwargs)\u001b[0m\n\u001b[0;32m    303\u001b[0m \u001b[38;5;28;01mif\u001b[39;00m file \u001b[38;5;129;01min\u001b[39;00m {\u001b[38;5;241m0\u001b[39m, \u001b[38;5;241m1\u001b[39m, \u001b[38;5;241m2\u001b[39m}:\n\u001b[0;32m    304\u001b[0m     \u001b[38;5;28;01mraise\u001b[39;00m \u001b[38;5;167;01mValueError\u001b[39;00m(\n\u001b[0;32m    305\u001b[0m         \u001b[38;5;124mf\u001b[39m\u001b[38;5;124m\"\u001b[39m\u001b[38;5;124mIPython won\u001b[39m\u001b[38;5;124m'\u001b[39m\u001b[38;5;124mt let you open fd=\u001b[39m\u001b[38;5;132;01m{\u001b[39;00mfile\u001b[38;5;132;01m}\u001b[39;00m\u001b[38;5;124m by default \u001b[39m\u001b[38;5;124m\"\u001b[39m\n\u001b[0;32m    306\u001b[0m         \u001b[38;5;124m\"\u001b[39m\u001b[38;5;124mas it is likely to crash IPython. If you know what you are doing, \u001b[39m\u001b[38;5;124m\"\u001b[39m\n\u001b[0;32m    307\u001b[0m         \u001b[38;5;124m\"\u001b[39m\u001b[38;5;124myou can use builtins\u001b[39m\u001b[38;5;124m'\u001b[39m\u001b[38;5;124m open.\u001b[39m\u001b[38;5;124m\"\u001b[39m\n\u001b[0;32m    308\u001b[0m     )\n\u001b[1;32m--> 310\u001b[0m \u001b[38;5;28;01mreturn\u001b[39;00m io_open(file, \u001b[38;5;241m*\u001b[39margs, \u001b[38;5;241m*\u001b[39m\u001b[38;5;241m*\u001b[39mkwargs)\n",
      "\u001b[1;31mFileExistsError\u001b[0m: [Errno 17] File exists: 'C:/Users/HP/Documents/project/op.txt'"
     ]
    }
   ],
   "source": [
    "#create 3 files in differnt location\n",
    "a=open(\"C:/Users/HP/Documents/project/op.txt\",\"x\")"
   ]
  },
  {
   "cell_type": "code",
   "execution_count": 87,
   "id": "faffab57-ea89-4a5d-b9d2-772c173bc7ca",
   "metadata": {},
   "outputs": [],
   "source": [
    "b=open(\"C:/Users/HP/Desktop/op1.txt\",\"x\")"
   ]
  },
  {
   "cell_type": "code",
   "execution_count": 88,
   "id": "60f43bf1-49f9-42ef-9cc9-4e89a3cf530e",
   "metadata": {},
   "outputs": [],
   "source": [
    "c=open(\"C:/Users/HP/Documents/project/op2.txt\",\"x\")"
   ]
  },
  {
   "cell_type": "markdown",
   "id": "b12091e5-3885-4ec7-914c-4210f94e0d2f",
   "metadata": {},
   "source": [
    "what is the difference between read,readline and readlines explain with at least one example"
   ]
  },
  {
   "cell_type": "raw",
   "id": "fedddd34-eba5-461d-bc03-5ab3a4963da6",
   "metadata": {},
   "source": [
    "read:-read is use to print the no of character which we enter in argument after takinga no in argument handler seek the position which is next to no which we take in argument "
   ]
  },
  {
   "cell_type": "code",
   "execution_count": 90,
   "id": "e7f08f64-3b00-4cc0-9597-0bc3da6562fb",
   "metadata": {},
   "outputs": [
    {
     "name": "stdout",
     "output_type": "stream",
     "text": [
      "hello my n\n",
      "10\n"
     ]
    }
   ],
   "source": [
    "b=open(\"C:/Users/HP/Desktop/op1.txt\",\"r\")\n",
    "print(b.read(10))\n",
    "print(b.tell())"
   ]
  },
  {
   "cell_type": "raw",
   "id": "0dd96bf2-4d58-42ae-8649-36725a33eedf",
   "metadata": {},
   "source": [
    "readline:-readline is use to print lines which is at 1st position after that handler moves to 2nd line"
   ]
  },
  {
   "cell_type": "code",
   "execution_count": 91,
   "id": "5326fba3-a24d-41fe-b671-1b228d6aa2b9",
   "metadata": {},
   "outputs": [
    {
     "name": "stdout",
     "output_type": "stream",
     "text": [
      "hello my name is sahil Deshmukh\n",
      "\n"
     ]
    }
   ],
   "source": [
    "b=open(\"C:/Users/HP/Desktop/op1.txt\",\"r\")\n",
    "print(b.readline())"
   ]
  },
  {
   "cell_type": "raw",
   "id": "d90f7f7d-5239-4104-8748-4004f5f3d460",
   "metadata": {},
   "source": [
    "readlines:-readlines is use to print all the lines in the file which gives output in list"
   ]
  },
  {
   "cell_type": "code",
   "execution_count": 92,
   "id": "0f6a2fae-595f-4e67-bacd-4a061e1632c1",
   "metadata": {},
   "outputs": [
    {
     "name": "stdout",
     "output_type": "stream",
     "text": [
      "['hello my name is sahil Deshmukh\\n', 'full stack devloper']\n"
     ]
    }
   ],
   "source": [
    "b=open(\"C:/Users/HP/Desktop/op1.txt\",\"r\")\n",
    "print(b.readlines())"
   ]
  },
  {
   "cell_type": "code",
   "execution_count": 93,
   "id": "61b60dde-21f8-4799-b294-ec3767e3283d",
   "metadata": {},
   "outputs": [
    {
     "name": "stdin",
     "output_type": "stream",
     "text": [
      " sahil\n"
     ]
    },
    {
     "data": {
      "text/plain": [
       "5"
      ]
     },
     "execution_count": 93,
     "metadata": {},
     "output_type": "execute_result"
    }
   ],
   "source": [
    "#write is use for write. write function overwrite we can take only one input\n",
    "b=open(\"C:/Users/HP/Desktop/op1.txt\",\"w\")\n",
    "m=input()\n",
    "b.write(m)"
   ]
  },
  {
   "cell_type": "code",
   "execution_count": 94,
   "id": "3cb35497-52cc-46b8-8868-d57e429f0493",
   "metadata": {},
   "outputs": [
    {
     "name": "stdin",
     "output_type": "stream",
     "text": [
      " sahil\n",
      " full\n",
      " stack\n"
     ]
    }
   ],
   "source": [
    "#writelines is use for write and also can take multiple input\n",
    "b=open(\"C:/Users/HP/Desktop/op1.txt\",\"w\")\n",
    "m=input()\n",
    "n=input()\n",
    "o=input()\n",
    "z=[m,n,o]\n",
    "b.writelines(z)"
   ]
  },
  {
   "cell_type": "code",
   "execution_count": null,
   "id": "946de343-d92b-4368-a63a-125e283ae597",
   "metadata": {},
   "outputs": [],
   "source": [
    "#write difference between write and append"
   ]
  },
  {
   "cell_type": "raw",
   "id": "ebcd44a1-c1b5-464f-a4c8-e3492258600f",
   "metadata": {},
   "source": [
    "write is use for write. write function overwrite"
   ]
  },
  {
   "cell_type": "code",
   "execution_count": 95,
   "id": "a5825146-7ae5-4bb0-8ae9-f29a3b5b8a4d",
   "metadata": {},
   "outputs": [
    {
     "data": {
      "text/plain": [
       "5"
      ]
     },
     "execution_count": 95,
     "metadata": {},
     "output_type": "execute_result"
    }
   ],
   "source": [
    "b=open(\"C:/Users/HP/Desktop/op1.txt\",\"w\")\n",
    "b.write(\"Sahil\")"
   ]
  },
  {
   "cell_type": "raw",
   "id": "0d7e61a3-d4c6-4c35-92cf-03ebf9d21ef0",
   "metadata": {},
   "source": [
    "append is use for add the elements to previous elments it does't overwrite it add to previous elements"
   ]
  },
  {
   "cell_type": "code",
   "execution_count": 96,
   "id": "6c34e7e5-4ae7-4e2f-9769-b36ce6a6bb0b",
   "metadata": {},
   "outputs": [
    {
     "data": {
      "text/plain": [
       "2"
      ]
     },
     "execution_count": 96,
     "metadata": {},
     "output_type": "execute_result"
    }
   ],
   "source": [
    "b=open(\"C:/Users/HP/Desktop/op1.txt\",\"a\")\n",
    "b.write(\"45\")"
   ]
  },
  {
   "cell_type": "code",
   "execution_count": 97,
   "id": "0722d7f3-a5ef-4ada-b580-04690d81bb66",
   "metadata": {},
   "outputs": [
    {
     "data": {
      "text/plain": [
       "'Sahilfullstack45'"
      ]
     },
     "execution_count": 97,
     "metadata": {},
     "output_type": "execute_result"
    }
   ],
   "source": [
    "b=open(\"C:/Users/HP/Desktop/op1.txt\",\"r\")\n",
    "b.read()"
   ]
  },
  {
   "cell_type": "code",
   "execution_count": 98,
   "id": "55b8fcd2-78e5-4687-8c18-d58502a03f3c",
   "metadata": {},
   "outputs": [
    {
     "data": {
      "text/plain": [
       "70"
      ]
     },
     "execution_count": 98,
     "metadata": {},
     "output_type": "execute_result"
    }
   ],
   "source": [
    "b=open(\"C:/Users/HP/Desktop/op1.txt\",\"w\")\n",
    "b.write(\"hello everyone! \\ni am abc \\ni am learning full stack course in itvedant\")"
   ]
  },
  {
   "cell_type": "code",
   "execution_count": 99,
   "id": "03f7badc-c89d-4c67-aade-96e28e2b6373",
   "metadata": {},
   "outputs": [
    {
     "name": "stdout",
     "output_type": "stream",
     "text": [
      "3\n"
     ]
    }
   ],
   "source": [
    "b=open(\"C:/Users/HP/Desktop/op1.txt\",\"r\")\n",
    "print(len(b.readlines()))"
   ]
  },
  {
   "cell_type": "code",
   "execution_count": 100,
   "id": "a3bc9b45-85ba-42f8-bd53-91908cefa422",
   "metadata": {},
   "outputs": [
    {
     "name": "stdout",
     "output_type": "stream",
     "text": [
      "['hello', 'everyone!', 'i', 'am', 'abc', 'i', 'am', 'learning', 'full', 'stack', 'course', 'in', 'itvedant']\n",
      "13\n"
     ]
    }
   ],
   "source": [
    "b=open(\"C:/Users/HP/Desktop/op1.txt\",\"r\")\n",
    "a=b.read().split()\n",
    "print(a)\n",
    "print(len(a))"
   ]
  },
  {
   "cell_type": "code",
   "execution_count": 106,
   "id": "14bb7e6c-4b46-4bbf-807c-89cb89ae0312",
   "metadata": {},
   "outputs": [
    {
     "name": "stdout",
     "output_type": "stream",
     "text": [
      "['h', 'e', 'l', 'l', 'o', 'e', 'v', 'e', 'r', 'y', 'o', 'n', 'e', '!', 'i', 'a', 'm', 'a', 'b', 'c', 'i', 'a', 'm', 'l', 'e', 'a', 'r', 'n', 'i', 'n', 'g', 'f', 'u', 'l', 'l', 's', 't', 'a', 'c', 'k', 'c', 'o', 'u', 'r', 's', 'e', 'i', 'n', 'i', 't', 'v', 'e', 'd', 'a', 'n', 't']\n",
      "56\n"
     ]
    }
   ],
   "source": [
    "b=open(\"C:/Users/HP/Desktop/op1.txt\",\"r\")\n",
    "a=b.read().replace(\" \",\"\")\n",
    "m=[]\n",
    "for i in a:\n",
    "    if \"\\n\" not in i:\n",
    "        m.append(i)\n",
    "print(m)\n",
    "print(len(m))"
   ]
  },
  {
   "cell_type": "code",
   "execution_count": null,
   "id": "ef9ee4a4-7fe1-46e6-a144-cdd204c0ca9f",
   "metadata": {},
   "outputs": [],
   "source": []
  },
  {
   "cell_type": "code",
   "execution_count": 81,
   "id": "ade9b992-2a0a-40e1-a7de-d6786ee6051e",
   "metadata": {},
   "outputs": [],
   "source": [
    "c=open(\"C:/Users/HP/Documents/project/op2.txt\",\"r\")"
   ]
  },
  {
   "cell_type": "code",
   "execution_count": 83,
   "id": "0a8817ef-8339-429d-a8a2-9162697ea523",
   "metadata": {},
   "outputs": [],
   "source": [
    "\n",
    "with open(\"C:/Users/HP/Desktop/op1.txt\",\"r\") as b ,open(\"C:/Users/HP/Documents/project/op2.txt\",\"a\") as c:\n",
    "    for i in b:\n",
    "        c.write(i)\n",
    "\n",
    "b.close()\n",
    "c.close()"
   ]
  },
  {
   "cell_type": "markdown",
   "id": "4586b998-39f4-4690-99bc-2f62449024f4",
   "metadata": {},
   "source": [
    "what is seek and tell explain with example"
   ]
  },
  {
   "cell_type": "raw",
   "id": "41743b99-7dd4-4653-80ca-24ed00b9770e",
   "metadata": {},
   "source": [
    "seek is use for change the postion of file handler\n",
    "tell is use for check the postion of file handler"
   ]
  },
  {
   "cell_type": "code",
   "execution_count": 110,
   "id": "4c49cf0b-5d67-4377-930b-d99b6b4d4997",
   "metadata": {},
   "outputs": [
    {
     "name": "stdout",
     "output_type": "stream",
     "text": [
      "hello ever\n",
      "5\n",
      "5\n"
     ]
    }
   ],
   "source": [
    "b=open(\"C:/Users/HP/Desktop/op1.txt\",\"r\")\n",
    "print(b.read(10))\n",
    "print(b.seek(5))\n",
    "print(b.tell())"
   ]
  },
  {
   "cell_type": "code",
   "execution_count": 84,
   "id": "e68a390b-cb31-4934-b315-459c156daa89",
   "metadata": {},
   "outputs": [],
   "source": [
    "import os\n",
    "os.remove(\"C:/Users/HP/Documents/project/op2.txt\")"
   ]
  },
  {
   "cell_type": "code",
   "execution_count": 86,
   "id": "ff2433ad-d1a5-4a2e-b4a0-977970b8d5ab",
   "metadata": {},
   "outputs": [],
   "source": [
    "import os\n",
    "os.remove(\"C:/Users/HP/Desktop/op1.txt\")"
   ]
  },
  {
   "cell_type": "code",
   "execution_count": null,
   "id": "aec5333c-3097-4cea-bd83-47a82d4a578b",
   "metadata": {},
   "outputs": [],
   "source": []
  }
 ],
 "metadata": {
  "kernelspec": {
   "display_name": "Python 3 (ipykernel)",
   "language": "python",
   "name": "python3"
  },
  "language_info": {
   "codemirror_mode": {
    "name": "ipython",
    "version": 3
   },
   "file_extension": ".py",
   "mimetype": "text/x-python",
   "name": "python",
   "nbconvert_exporter": "python",
   "pygments_lexer": "ipython3",
   "version": "3.11.7"
  }
 },
 "nbformat": 4,
 "nbformat_minor": 5
}
