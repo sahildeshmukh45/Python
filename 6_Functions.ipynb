{
 "cells": [
  {
   "cell_type": "raw",
   "id": "4ed8f531-a6ac-4af9-958a-6b828becf296",
   "metadata": {},
   "source": [
    "Functions:\n",
    "function is a block of code which can be writeen once and used multiple times\n",
    "for using a function we have to call it\n",
    "function increases reusability and readability of a code\n",
    "it reduces the size of the program\n",
    "\n",
    "fun_name()\n",
    "\n",
    "There are two types of function \n",
    "1. Built in functions\n",
    "2. User defined functions\n",
    "\n",
    ">> examples of built in functions:\n",
    "print()\n",
    "len(l)\n",
    "round()\n",
    "min()\n",
    "max()\n",
    "replace()\n",
    "count()\n",
    "etc\n",
    "\n",
    "\n",
    ">> user defined functions \n",
    "functions created by users \n",
    "\n",
    "types of user defined functions \n",
    "1. without argument , without return\n",
    "2. without argument , with return \n",
    "3. with argument , without return\n",
    "4. with argument , with return \n",
    "\n",
    " *user defined functions declared with def keyword\n",
    "\n",
    "    syntax to write user defined function:\n",
    ">> def func_name()\n",
    "\n"
   ]
  },
  {
   "cell_type": "code",
   "execution_count": 2,
   "id": "613c7b40-40b2-4025-bc06-e2d201bb3bdd",
   "metadata": {},
   "outputs": [
    {
     "name": "stdout",
     "output_type": "stream",
     "text": [
      "GM\n"
     ]
    }
   ],
   "source": [
    "#(1) without argument , without return \n",
    "def greet():\n",
    "    print(\"GM\")\n",
    "\n",
    "greet()"
   ]
  },
  {
   "cell_type": "code",
   "execution_count": 1,
   "id": "2a8b3152-2abd-4fdd-a63c-3feb6ca1173d",
   "metadata": {},
   "outputs": [
    {
     "name": "stdin",
     "output_type": "stream",
     "text": [
      " 453\n",
      " 34\n"
     ]
    },
    {
     "name": "stdout",
     "output_type": "stream",
     "text": [
      "487\n"
     ]
    }
   ],
   "source": [
    "#write a function to add two numbers\n",
    "\n",
    "def add_two():\n",
    "    a = int(input())\n",
    "    b = int(input())\n",
    "    print(a+b)\n",
    "\n",
    "add_two()\n",
    "    \n"
   ]
  },
  {
   "cell_type": "code",
   "execution_count": 8,
   "id": "b1d97c9c-9616-4cc7-b582-e0316473b341",
   "metadata": {},
   "outputs": [
    {
     "name": "stdin",
     "output_type": "stream",
     "text": [
      "Length of rectangle: 6\n",
      "breadth of rectangle: 654\n",
      "Side of square:  23\n",
      "radius of circle:  876\n"
     ]
    },
    {
     "name": "stdout",
     "output_type": "stream",
     "text": [
      "area of circle: 2409560.64\n",
      "perimeter of circle: 5501.280000000001\n",
      "area of square: 529\n",
      "perimeter of square: 92\n",
      "perimeter of rectangle: 1320\n",
      "area of rectangle: 3924\n"
     ]
    }
   ],
   "source": [
    "# a of rect sqr  p of rect sqr\n",
    "\n",
    "def mix():\n",
    "    lr = int(input(\"Length of rectangle:\"))\n",
    "    br = int(input(\"breadth of rectangle:\"))\n",
    "    ss = int(input(\"Side of square: \"))\n",
    "    r = int(input(\"radius of circle: \"))\n",
    "    pi = 3.14\n",
    "    print(\"area of circle:\", pi*r**2)\n",
    "    print(\"perimeter of circle:\",2*pi*r)\n",
    "    print(\"area of square:\",ss**2)\n",
    "    print(\"perimeter of square:\", 4*ss)\n",
    "    print(\"perimeter of rectangle:\",2*(lr+br))\n",
    "    print(\"area of rectangle:\",lr*br)\n",
    "\n",
    "mix()\n",
    "\n",
    "    "
   ]
  },
  {
   "cell_type": "code",
   "execution_count": 32,
   "id": "90353e5c-d3f2-440e-8ad3-df979f719061",
   "metadata": {},
   "outputs": [],
   "source": [
    "#with argument without return\n",
    "def abc(x):  #x is required argument minimum one argument is required\n",
    "    if x>0:\n",
    "        print(x,\"is positive\")\n",
    "    elif x==0:\n",
    "        print(x,\"is zero\")\n",
    "    else:\n",
    "        print(x,\"is negative\")\n",
    "        "
   ]
  },
  {
   "cell_type": "code",
   "execution_count": 33,
   "id": "47efedec-4777-467d-b9d7-3408f053b18c",
   "metadata": {},
   "outputs": [
    {
     "name": "stdout",
     "output_type": "stream",
     "text": [
      "34 is positive\n"
     ]
    }
   ],
   "source": [
    "abc(34)"
   ]
  },
  {
   "cell_type": "code",
   "execution_count": 34,
   "id": "7d60aca9-8590-4c7c-a104-10dd3ec75721",
   "metadata": {},
   "outputs": [
    {
     "data": {
      "text/plain": [
       "4"
      ]
     },
     "execution_count": 34,
     "metadata": {},
     "output_type": "execute_result"
    }
   ],
   "source": [
    "l = [1,1,2,1,True,13]\n",
    "l.count(1)"
   ]
  },
  {
   "cell_type": "code",
   "execution_count": 35,
   "id": "7a978bfd-aa7e-4682-b070-4593f5b07e94",
   "metadata": {},
   "outputs": [
    {
     "ename": "TypeError",
     "evalue": "'>' not supported between instances of 'str' and 'int'",
     "output_type": "error",
     "traceback": [
      "\u001b[1;31m---------------------------------------------------------------------------\u001b[0m",
      "\u001b[1;31mTypeError\u001b[0m                                 Traceback (most recent call last)",
      "Cell \u001b[1;32mIn[35], line 1\u001b[0m\n\u001b[1;32m----> 1\u001b[0m abc(\u001b[38;5;124m\"\u001b[39m\u001b[38;5;124mx\u001b[39m\u001b[38;5;124m\"\u001b[39m)\n",
      "Cell \u001b[1;32mIn[32], line 3\u001b[0m, in \u001b[0;36mabc\u001b[1;34m(x)\u001b[0m\n\u001b[0;32m      2\u001b[0m \u001b[38;5;28;01mdef\u001b[39;00m \u001b[38;5;21mabc\u001b[39m(x):  \u001b[38;5;66;03m#x is required argument minimum one argument is required\u001b[39;00m\n\u001b[1;32m----> 3\u001b[0m     \u001b[38;5;28;01mif\u001b[39;00m x\u001b[38;5;241m>\u001b[39m\u001b[38;5;241m0\u001b[39m:\n\u001b[0;32m      4\u001b[0m         \u001b[38;5;28mprint\u001b[39m(x,\u001b[38;5;124m\"\u001b[39m\u001b[38;5;124mis positive\u001b[39m\u001b[38;5;124m\"\u001b[39m)\n\u001b[0;32m      5\u001b[0m     \u001b[38;5;28;01melif\u001b[39;00m x\u001b[38;5;241m==\u001b[39m\u001b[38;5;241m0\u001b[39m:\n",
      "\u001b[1;31mTypeError\u001b[0m: '>' not supported between instances of 'str' and 'int'"
     ]
    }
   ],
   "source": [
    "abc(\"x\")"
   ]
  },
  {
   "cell_type": "code",
   "execution_count": 36,
   "id": "d274da5b-62da-468f-a6f9-4eda04e6fa26",
   "metadata": {},
   "outputs": [
    {
     "name": "stdout",
     "output_type": "stream",
     "text": [
      "5 is positive\n"
     ]
    }
   ],
   "source": [
    "abc(2+3)"
   ]
  },
  {
   "cell_type": "raw",
   "id": "d08aee4e-4c01-4f5a-a7b6-8e94741fbdf8",
   "metadata": {},
   "source": [
    ">> types of arguments  <<\n",
    "1. required \n",
    "2. default\n",
    "3. variable length\n",
    "4. key-value pair"
   ]
  },
  {
   "cell_type": "code",
   "execution_count": 46,
   "id": "f2f0e47a-9ff7-49ff-bc5f-86b60dfd7037",
   "metadata": {},
   "outputs": [],
   "source": [
    "def con(a,b):\n",
    "    print(a,\"and\",b)\n",
    "    print(a+b)\n",
    "    "
   ]
  },
  {
   "cell_type": "code",
   "execution_count": 52,
   "id": "1287ab23-7795-4f18-8b3a-14c6946ac52b",
   "metadata": {},
   "outputs": [
    {
     "name": "stdout",
     "output_type": "stream",
     "text": [
      "hello and hie\n",
      "hellohie\n",
      "43 and 78\n",
      "121\n",
      "True and False\n",
      "1\n",
      "75.9 and 76.8\n",
      "152.7\n",
      "(1, 5, 8) and (6, 9, 8)\n",
      "(1, 5, 8, 6, 9, 8)\n",
      "1 and hgfd\n"
     ]
    },
    {
     "ename": "TypeError",
     "evalue": "unsupported operand type(s) for +: 'int' and 'str'",
     "output_type": "error",
     "traceback": [
      "\u001b[1;31m---------------------------------------------------------------------------\u001b[0m",
      "\u001b[1;31mTypeError\u001b[0m                                 Traceback (most recent call last)",
      "Cell \u001b[1;32mIn[52], line 6\u001b[0m\n\u001b[0;32m      4\u001b[0m con(\u001b[38;5;241m75.9\u001b[39m,\u001b[38;5;241m76.8\u001b[39m)\n\u001b[0;32m      5\u001b[0m con((\u001b[38;5;241m1\u001b[39m,\u001b[38;5;241m5\u001b[39m,\u001b[38;5;241m8\u001b[39m),(\u001b[38;5;241m6\u001b[39m,\u001b[38;5;241m9\u001b[39m,\u001b[38;5;241m8\u001b[39m))\n\u001b[1;32m----> 6\u001b[0m con(\u001b[38;5;241m1\u001b[39m,\u001b[38;5;124m\"\u001b[39m\u001b[38;5;124mhgfd\u001b[39m\u001b[38;5;124m\"\u001b[39m)\n\u001b[0;32m      7\u001b[0m con(\u001b[38;5;241m1\u001b[39m,\u001b[38;5;241m2\u001b[39m,\u001b[38;5;241m3\u001b[39m)\n",
      "Cell \u001b[1;32mIn[46], line 3\u001b[0m, in \u001b[0;36mcon\u001b[1;34m(a, b)\u001b[0m\n\u001b[0;32m      1\u001b[0m \u001b[38;5;28;01mdef\u001b[39;00m \u001b[38;5;21mcon\u001b[39m(a,b):\n\u001b[0;32m      2\u001b[0m     \u001b[38;5;28mprint\u001b[39m(a,\u001b[38;5;124m\"\u001b[39m\u001b[38;5;124mand\u001b[39m\u001b[38;5;124m\"\u001b[39m,b)\n\u001b[1;32m----> 3\u001b[0m     \u001b[38;5;28mprint\u001b[39m(a\u001b[38;5;241m+\u001b[39mb)\n",
      "\u001b[1;31mTypeError\u001b[0m: unsupported operand type(s) for +: 'int' and 'str'"
     ]
    }
   ],
   "source": [
    "con(\"hello\",\"hie\")\n",
    "con(43,78)\n",
    "con(True,False)\n",
    "con(75.9,76.8)\n",
    "con((1,5,8),(6,9,8))\n",
    "con(1,\"hgfd\")\n",
    "con(1,2,3)"
   ]
  },
  {
   "cell_type": "code",
   "execution_count": 14,
   "id": "238814cf-458a-4cab-a905-31de868b1c37",
   "metadata": {},
   "outputs": [],
   "source": [
    "def mno(a,b,c):\n",
    "    if a>b and a>c:\n",
    "        print(a,\"is greater\")\n",
    "    elif b>c and b>a:\n",
    "        print(b,\"is greater\")\n",
    "    else:\n",
    "        print(c,\"is greater\")\n",
    "        "
   ]
  },
  {
   "cell_type": "code",
   "execution_count": 16,
   "id": "2649fa27-fc2a-4779-918e-5e638653fe26",
   "metadata": {},
   "outputs": [
    {
     "name": "stdout",
     "output_type": "stream",
     "text": [
      "100 is greater\n"
     ]
    }
   ],
   "source": [
    "mno(99,100,98)"
   ]
  },
  {
   "cell_type": "code",
   "execution_count": 76,
   "id": "b3ed55b5-905a-4a25-9cdf-d39ec6d3c02d",
   "metadata": {},
   "outputs": [],
   "source": [
    "def sum(x):\n",
    "    sum = 0\n",
    "    for i in range(1,x+1):\n",
    "        sum = sum + i\n",
    "    print(\"summation of first\",x,\"natural numbers is: \",sum)"
   ]
  },
  {
   "cell_type": "code",
   "execution_count": 77,
   "id": "cf4fd6a2-96aa-468a-9594-545995c5e2c5",
   "metadata": {},
   "outputs": [
    {
     "name": "stdout",
     "output_type": "stream",
     "text": [
      "summation of first 10 natural numbers is:  55\n"
     ]
    }
   ],
   "source": [
    "sum(10)"
   ]
  },
  {
   "cell_type": "code",
   "execution_count": 80,
   "id": "ec06fb41-699d-42f6-8005-87d4811e5e9b",
   "metadata": {},
   "outputs": [],
   "source": [
    "def add(x = 10 , y = 20):\n",
    "    print(x+y)"
   ]
  },
  {
   "cell_type": "code",
   "execution_count": 81,
   "id": "1ded5e25-e7d8-43cb-86f1-d80f896f74db",
   "metadata": {},
   "outputs": [
    {
     "name": "stdout",
     "output_type": "stream",
     "text": [
      "30\n"
     ]
    }
   ],
   "source": [
    "add()"
   ]
  },
  {
   "cell_type": "code",
   "execution_count": 82,
   "id": "31cc332f-e016-47f0-9f06-726bf6eea383",
   "metadata": {},
   "outputs": [
    {
     "name": "stdout",
     "output_type": "stream",
     "text": [
      "100\n"
     ]
    }
   ],
   "source": [
    "add(40,60)"
   ]
  },
  {
   "cell_type": "code",
   "execution_count": 83,
   "id": "9e1dbc7f-d972-4093-a7bc-3e02a3c9d599",
   "metadata": {},
   "outputs": [
    {
     "name": "stdout",
     "output_type": "stream",
     "text": [
      "60\n"
     ]
    }
   ],
   "source": [
    "add(40)"
   ]
  },
  {
   "cell_type": "code",
   "execution_count": 85,
   "id": "a969ff2b-defc-44d5-86c7-2ca2e22bf291",
   "metadata": {},
   "outputs": [
    {
     "name": "stdout",
     "output_type": "stream",
     "text": [
      "30\n"
     ]
    }
   ],
   "source": [
    "add(y=20)"
   ]
  },
  {
   "cell_type": "raw",
   "id": "ba646463-334d-4fa5-9b21-f5840c602bd5",
   "metadata": {},
   "source": [
    "if required value is not available it will use default value "
   ]
  },
  {
   "cell_type": "code",
   "execution_count": 95,
   "id": "50888d09-f22f-481a-972f-e8f4c62f03df",
   "metadata": {},
   "outputs": [
    {
     "name": "stdout",
     "output_type": "stream",
     "text": [
      "100\n"
     ]
    }
   ],
   "source": [
    "#always place default arguments at the end only and non-default arguments at first\n",
    "def ad(y,x=10):\n",
    "    print(x+y)\n",
    "\n",
    "ad(90)"
   ]
  },
  {
   "cell_type": "code",
   "execution_count": 96,
   "id": "2ca22a10-d0a6-4b97-8ede-d632a748d402",
   "metadata": {},
   "outputs": [
    {
     "name": "stdout",
     "output_type": "stream",
     "text": [
      "110\n"
     ]
    }
   ],
   "source": [
    "add(y=50,x=60)"
   ]
  },
  {
   "cell_type": "code",
   "execution_count": 46,
   "id": "4c33aeaf-e2b7-4bf6-8623-0fda443bc020",
   "metadata": {},
   "outputs": [
    {
     "name": "stdout",
     "output_type": "stream",
     "text": [
      "100\n"
     ]
    }
   ],
   "source": [
    "def mn(a,b,c=30,d=80):\n",
    "    print(a+b+c+d)\n",
    "    \n",
    "mn(d=70,a=10,b=5,c=15)"
   ]
  },
  {
   "cell_type": "code",
   "execution_count": 49,
   "id": "27b9d61f-f882-4c3e-957b-07a54b7e8172",
   "metadata": {},
   "outputs": [
    {
     "name": "stdout",
     "output_type": "stream",
     "text": [
      "13\n"
     ]
    }
   ],
   "source": [
    "#variable length\n",
    "#write a function to add numbers entered by user \n",
    "\n",
    "def add(*x):\n",
    "    s = 0 \n",
    "    for i in x:\n",
    "        s = s + i \n",
    "    print(s)\n",
    "\n",
    "add(4,6,3)\n",
    "\n"
   ]
  },
  {
   "cell_type": "code",
   "execution_count": 35,
   "id": "b8b8d6d4-d8dc-49ce-8b52-6709180132a9",
   "metadata": {},
   "outputs": [
    {
     "name": "stdout",
     "output_type": "stream",
     "text": [
      "120\n"
     ]
    }
   ],
   "source": [
    "#write a function to fine the factorial of a given number\n",
    "\n",
    "def fact(x):\n",
    "    fact = 1\n",
    "    for i in range(1,x+1):\n",
    "        fact = fact * i\n",
    "    print(fact)\n",
    "\n",
    "fact(5)"
   ]
  },
  {
   "cell_type": "code",
   "execution_count": 40,
   "id": "d0fbf2e9-6de1-4a57-bdff-3bb1a51389f0",
   "metadata": {},
   "outputs": [
    {
     "name": "stdout",
     "output_type": "stream",
     "text": [
      "120\n"
     ]
    }
   ],
   "source": [
    "#write a function to find out multiplication of numbers given by user\n",
    "\n",
    "def mul(*x):\n",
    "    mul = 1\n",
    "    for i in x:\n",
    "        mul = mul * i\n",
    "    print(mul)\n",
    "\n",
    "mul(3,2,2,10)"
   ]
  },
  {
   "cell_type": "raw",
   "id": "e37719e3-7e24-45ee-a46d-92de15127222",
   "metadata": {},
   "source": [
    "VARIABLE LENGTH KEY-VALUE PAIR\n",
    "def abc(**x)"
   ]
  },
  {
   "cell_type": "code",
   "execution_count": 1,
   "id": "4f28a4c4-d9aa-4667-b878-af9ea6a2c493",
   "metadata": {},
   "outputs": [],
   "source": [
    "def abc(**x):\n",
    "    print(type(x))\n",
    "    print(len(x))\n",
    "    print(x.items())\n",
    "    print(x.values())\n",
    "    print(x.keys())"
   ]
  },
  {
   "cell_type": "code",
   "execution_count": 2,
   "id": "d2fe6dad-35dd-4f84-b2ae-96aa7dc68478",
   "metadata": {},
   "outputs": [
    {
     "name": "stdout",
     "output_type": "stream",
     "text": [
      "<class 'dict'>\n",
      "3\n",
      "dict_items([('b', 302), ('c', 3265), ('d', 4983)])\n",
      "dict_values([302, 3265, 4983])\n",
      "dict_keys(['b', 'c', 'd'])\n"
     ]
    }
   ],
   "source": [
    "abc(b=302,c=3265,d=4983)"
   ]
  },
  {
   "cell_type": "code",
   "execution_count": 3,
   "id": "36c9dc6f-7a97-4f56-8a2b-7865327ec387",
   "metadata": {},
   "outputs": [
    {
     "name": "stdout",
     "output_type": "stream",
     "text": [
      "[4, 2, 3, 1]\n"
     ]
    }
   ],
   "source": [
    "#interchange the first and last number\n",
    "l = [1,2,3,4]\n",
    "l1 = l.copy()\n",
    "l[0] = l1[-1]\n",
    "l[-1]=l1[0]\n",
    "print(l)"
   ]
  },
  {
   "cell_type": "code",
   "execution_count": null,
   "id": "004dc94f-0499-4e8d-899b-fea8c5398cfe",
   "metadata": {},
   "outputs": [],
   "source": []
  },
  {
   "cell_type": "markdown",
   "id": "585792a6-fb84-431e-8246-3137060e5c99",
   "metadata": {},
   "source": [
    "## Use of return statement\n",
    "\n",
    "##### print just shows output on console while return statement stores the output\n",
    "##### print statememnt can be executed multiple times return statement is executed only once in a function \n",
    "##### after reutrn statement rest of the code gets ignored not executed\n",
    "##### print can be used inside and outside the function ,return can not be executed outside the function\n",
    "##### output of return is stored in tuple by default"
   ]
  },
  {
   "cell_type": "code",
   "execution_count": 7,
   "id": "86cc9530-e1f9-4687-8c31-c064a92a01f9",
   "metadata": {},
   "outputs": [],
   "source": [
    "def abc(x,y):\n",
    "    print(x+y)"
   ]
  },
  {
   "cell_type": "code",
   "execution_count": 11,
   "id": "76ce56aa-76b9-49cd-bfa3-acb17ab99cb9",
   "metadata": {},
   "outputs": [
    {
     "name": "stdout",
     "output_type": "stream",
     "text": [
      "7\n"
     ]
    }
   ],
   "source": [
    "a = abc(3,4)"
   ]
  },
  {
   "cell_type": "code",
   "execution_count": 12,
   "id": "06132b16-c360-448d-8804-f7fba468648e",
   "metadata": {},
   "outputs": [
    {
     "name": "stdout",
     "output_type": "stream",
     "text": [
      "None\n"
     ]
    }
   ],
   "source": [
    "print(a)"
   ]
  },
  {
   "cell_type": "code",
   "execution_count": 13,
   "id": "80a215ff-c136-4a5d-8630-bf26ea1ce35d",
   "metadata": {},
   "outputs": [],
   "source": [
    "def abc(x,y):\n",
    "    return(x+y)"
   ]
  },
  {
   "cell_type": "code",
   "execution_count": 14,
   "id": "aeca711b-914a-4b30-90f0-d2409cae744d",
   "metadata": {},
   "outputs": [
    {
     "name": "stdout",
     "output_type": "stream",
     "text": [
      "7\n"
     ]
    }
   ],
   "source": [
    "c = abc(3,4)\n",
    "print(c)"
   ]
  },
  {
   "cell_type": "code",
   "execution_count": 18,
   "id": "6be73a2c-af59-457b-baf7-fd606a75547e",
   "metadata": {},
   "outputs": [
    {
     "name": "stdout",
     "output_type": "stream",
     "text": [
      "5\n"
     ]
    }
   ],
   "source": [
    "def mn(x,y):\n",
    "    return x+y\n",
    "    return x\n",
    "    return y \n",
    "d = mn(2,3)\n",
    "print(d)"
   ]
  },
  {
   "cell_type": "code",
   "execution_count": 19,
   "id": "5c88a9e1-d2d7-436e-b51a-99a9a1a760fb",
   "metadata": {},
   "outputs": [
    {
     "name": "stdout",
     "output_type": "stream",
     "text": [
      "K\n"
     ]
    }
   ],
   "source": [
    "def abc(x,y):\n",
    "    return x+y\n",
    "\n",
    "print(\"K\")"
   ]
  },
  {
   "cell_type": "code",
   "execution_count": 21,
   "id": "60acfb41-53c9-40a5-91fd-c76286c0c606",
   "metadata": {},
   "outputs": [
    {
     "ename": "SyntaxError",
     "evalue": "'return' outside function (348543673.py, line 3)",
     "output_type": "error",
     "traceback": [
      "\u001b[1;36m  Cell \u001b[1;32mIn[21], line 3\u001b[1;36m\u001b[0m\n\u001b[1;33m    return 2\u001b[0m\n\u001b[1;37m    ^\u001b[0m\n\u001b[1;31mSyntaxError\u001b[0m\u001b[1;31m:\u001b[0m 'return' outside function\n"
     ]
    }
   ],
   "source": [
    "def abc(x,y):\n",
    "    return x+y\n",
    "return 2"
   ]
  },
  {
   "cell_type": "code",
   "execution_count": 26,
   "id": "d11c1e5a-bab7-4a3c-928b-e36ec1795511",
   "metadata": {},
   "outputs": [],
   "source": [
    "def abc(x,y):\n",
    "    \n",
    "    return \"value of x is\",x,\"value of y is\",y,\"and addition is\",x+y"
   ]
  },
  {
   "cell_type": "code",
   "execution_count": 27,
   "id": "242a984e-48e7-4e03-958a-52bbda216af9",
   "metadata": {},
   "outputs": [
    {
     "data": {
      "text/plain": [
       "('value of x is', 4, 'value of y is', 2, 'and addition is', 6)"
      ]
     },
     "execution_count": 27,
     "metadata": {},
     "output_type": "execute_result"
    }
   ],
   "source": [
    "abc(4,2)"
   ]
  },
  {
   "cell_type": "code",
   "execution_count": null,
   "id": "03d7040a-d6a2-4c12-a048-bffe8756fe6c",
   "metadata": {},
   "outputs": [],
   "source": []
  }
 ],
 "metadata": {
  "kernelspec": {
   "display_name": "Python 3 (ipykernel)",
   "language": "python",
   "name": "python3"
  },
  "language_info": {
   "codemirror_mode": {
    "name": "ipython",
    "version": 3
   },
   "file_extension": ".py",
   "mimetype": "text/x-python",
   "name": "python",
   "nbconvert_exporter": "python",
   "pygments_lexer": "ipython3",
   "version": "3.11.7"
  }
 },
 "nbformat": 4,
 "nbformat_minor": 5
}
