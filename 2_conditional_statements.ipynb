{
 "cells": [
  {
   "cell_type": "raw",
   "id": "c944da48-4d8a-4aa4-94f8-337e27af814c",
   "metadata": {},
   "source": [
    "conditional statements\n",
    "if \n",
    "else\n",
    "if else \n",
    "elif"
   ]
  },
  {
   "cell_type": "code",
   "execution_count": 1,
   "id": "724a4a0a-5c1d-488b-8b42-46fcfbf283fd",
   "metadata": {},
   "outputs": [],
   "source": [
    "#if"
   ]
  },
  {
   "cell_type": "raw",
   "id": "80fd0df5-5479-4180-a291-d1d8b24236ab",
   "metadata": {},
   "source": [
    "#syntax\n",
    "if condition:\n",
    "    expression"
   ]
  },
  {
   "cell_type": "code",
   "execution_count": 4,
   "id": "8d111b0f-cefa-4b29-ae78-be1882b16af5",
   "metadata": {},
   "outputs": [
    {
     "name": "stdin",
     "output_type": "stream",
     "text": [
      "enter a number:  40\n"
     ]
    },
    {
     "name": "stdout",
     "output_type": "stream",
     "text": [
      "40 is grater than or equal to 40\n"
     ]
    }
   ],
   "source": [
    "a = int(input(\"enter a number: \"))\n",
    "if a>=40:\n",
    "    print(a , \"is grater than or equal to 40\") "
   ]
  },
  {
   "cell_type": "code",
   "execution_count": 6,
   "id": "7698ba3d-2011-47be-ab0f-e35318ed94b3",
   "metadata": {},
   "outputs": [
    {
     "name": "stdin",
     "output_type": "stream",
     "text": [
      " hello\n"
     ]
    }
   ],
   "source": [
    "#check whether the string entered by the user having more than 10 characters or not\n",
    "a = input()\n",
    "if len(a) > 10:\n",
    "    print(\"Length of your string is greater than 10\")"
   ]
  },
  {
   "cell_type": "code",
   "execution_count": 11,
   "id": "c82d2eb6-48bb-423b-96df-d55fa221d373",
   "metadata": {},
   "outputs": [
    {
     "name": "stdin",
     "output_type": "stream",
     "text": [
      "enter marks of subject 1:  92\n",
      "enter marks of subject 2:  90\n",
      "enter marks of subject 3:  95\n"
     ]
    },
    {
     "name": "stdout",
     "output_type": "stream",
     "text": [
      "Your passed with: 92.33333333333333 %\n"
     ]
    }
   ],
   "source": [
    "#ask user to enter marks of three subjects each out of 100, if the percentage is grater than 40 then display pass\n",
    "\n",
    "a = int(input(\"enter marks of subject 1: \"))\n",
    "b = int(input(\"enter marks of subject 2: \"))\n",
    "c = int(input(\"enter marks of subject 3: \"))\n",
    "\n",
    "d = (a+b+c)/3\n",
    "\n",
    "if d>=40:\n",
    "    print(\"Your passed with:\", d ,\"%\")"
   ]
  },
  {
   "cell_type": "code",
   "execution_count": 18,
   "id": "f95be5e3-8ec9-46a5-afe3-4ed1cd31b64e",
   "metadata": {},
   "outputs": [
    {
     "name": "stdin",
     "output_type": "stream",
     "text": [
      " 5\n",
      " 5\n"
     ]
    },
    {
     "name": "stdout",
     "output_type": "stream",
     "text": [
      "both numbers are equal\n"
     ]
    }
   ],
   "source": [
    "#check whether two numbers entered by user are equal or not \n",
    "\n",
    "a = int(input())\n",
    "b = int(input())\n",
    "\n",
    "if a == b:\n",
    "    print(\"both numbers are equal\")\n",
    "\n"
   ]
  },
  {
   "cell_type": "code",
   "execution_count": 30,
   "id": "e83a80d8-8263-4795-911c-74e307e291f8",
   "metadata": {},
   "outputs": [
    {
     "name": "stdin",
     "output_type": "stream",
     "text": [
      "Enter two numbers:  5,5\n"
     ]
    },
    {
     "name": "stdout",
     "output_type": "stream",
     "text": [
      "Both numbers are equal\n"
     ]
    }
   ],
   "source": [
    "#check whether two numbers entered by user are equal or not but take input from user in single variable \n",
    "a = input(\"Enter two numbers: \").split(\",\")\n",
    "\n",
    "if int(a[0]==a[1]):\n",
    "    print(\"Both numbers are equal\")\n"
   ]
  },
  {
   "cell_type": "code",
   "execution_count": 43,
   "id": "b73a9184-e144-4304-844f-363d4442e1eb",
   "metadata": {},
   "outputs": [
    {
     "name": "stdin",
     "output_type": "stream",
     "text": [
      "enter two numbers 5,2\n"
     ]
    },
    {
     "name": "stdout",
     "output_type": "stream",
     "text": [
      "3.5\n"
     ]
    }
   ],
   "source": [
    "#take two numbers from user and display the average \n",
    "\n",
    "a = input(\"enter two numbers\").split(\",\")\n",
    "c = len(a)\n",
    "b = ((int(a[0]))+(int(a[1])))/c\n",
    "print(b)"
   ]
  },
  {
   "cell_type": "code",
   "execution_count": null,
   "id": "0197bee3-d887-47fa-8cbe-be87909df458",
   "metadata": {},
   "outputs": [],
   "source": []
  },
  {
   "cell_type": "raw",
   "id": "da8520df-590a-4401-bdf1-a2f06b4b2293",
   "metadata": {},
   "source": [
    "if else"
   ]
  },
  {
   "cell_type": "raw",
   "id": "147209b2-2ac4-40a8-bf83-345496bf1d6f",
   "metadata": {},
   "source": [
    "if condition:\n",
    "    exp1\n",
    "else:\n",
    "    exp2"
   ]
  },
  {
   "cell_type": "code",
   "execution_count": 44,
   "id": "4ac005cd-958a-4af9-8601-f1a281f99058",
   "metadata": {},
   "outputs": [
    {
     "name": "stdin",
     "output_type": "stream",
     "text": [
      " 5\n",
      " 6\n"
     ]
    },
    {
     "name": "stdout",
     "output_type": "stream",
     "text": [
      "b is greatest\n"
     ]
    }
   ],
   "source": [
    "#check greatest number of two\n",
    "\n",
    "a = int(input())\n",
    "b = int(input())\n",
    "\n",
    "if a>b:\n",
    "    print(\"a is the greatest\")\n",
    "else:\n",
    "    print(\"b is greatest\")"
   ]
  },
  {
   "cell_type": "code",
   "execution_count": 45,
   "id": "7bad9152-eb50-4508-a1aa-503064925736",
   "metadata": {},
   "outputs": [
    {
     "name": "stdout",
     "output_type": "stream",
     "text": [
      "hello\n"
     ]
    }
   ],
   "source": [
    "#on datatypes\n",
    "if 1 :\n",
    "    print(\"hello\")\n",
    "else:\n",
    "    print(\"hi\")\n",
    "    \n",
    "    "
   ]
  },
  {
   "cell_type": "code",
   "execution_count": 46,
   "id": "d0329d8c-1b57-4567-8f0d-60191bdce114",
   "metadata": {},
   "outputs": [
    {
     "name": "stdout",
     "output_type": "stream",
     "text": [
      "b\n"
     ]
    }
   ],
   "source": [
    "if 0 :\n",
    "    print(\"a\")\n",
    "else:\n",
    "    print(\"b\")"
   ]
  },
  {
   "cell_type": "code",
   "execution_count": 47,
   "id": "4e45467a-35fb-41ea-850a-542179f8e8ca",
   "metadata": {},
   "outputs": [],
   "source": [
    "#in datatypes if else condition applies only for true values it will execute else condition only when output for if is false"
   ]
  },
  {
   "cell_type": "code",
   "execution_count": 48,
   "id": "2c500e55-006b-49c2-9849-91f8c88cfc29",
   "metadata": {},
   "outputs": [
    {
     "name": "stdout",
     "output_type": "stream",
     "text": [
      "B\n"
     ]
    }
   ],
   "source": [
    "if \"\":\n",
    "    print(\"a\")\n",
    "else:\n",
    "    print(\"B\")"
   ]
  },
  {
   "cell_type": "code",
   "execution_count": 49,
   "id": "129f2417-1c0e-4e4d-ae7c-0a06c23b82c5",
   "metadata": {},
   "outputs": [
    {
     "name": "stdout",
     "output_type": "stream",
     "text": [
      "a\n"
     ]
    }
   ],
   "source": [
    "if \" \":\n",
    "    print(\"a\")\n",
    "else:\n",
    "    print(\"B\")"
   ]
  },
  {
   "cell_type": "code",
   "execution_count": 1,
   "id": "ae165e10-31d2-4f9f-80ee-5754e6814049",
   "metadata": {},
   "outputs": [
    {
     "name": "stdout",
     "output_type": "stream",
     "text": [
      "B\n"
     ]
    }
   ],
   "source": [
    "if ():\n",
    "    print(\"a\")\n",
    "else:\n",
    "    print(\"B\")"
   ]
  },
  {
   "cell_type": "code",
   "execution_count": 51,
   "id": "119a35f4-1fbf-4d9b-949e-7f95774ab3ba",
   "metadata": {},
   "outputs": [
    {
     "name": "stdout",
     "output_type": "stream",
     "text": [
      "a\n"
     ]
    }
   ],
   "source": [
    "if (6):\n",
    "    print(\"a\")\n",
    "else:\n",
    "    print(\"B\")"
   ]
  },
  {
   "cell_type": "code",
   "execution_count": 52,
   "id": "5153f72d-ee90-478e-a3d2-e062c8f5d329",
   "metadata": {},
   "outputs": [
    {
     "name": "stdout",
     "output_type": "stream",
     "text": [
      "B\n"
     ]
    }
   ],
   "source": [
    "if {}:\n",
    "    print(\"a\")\n",
    "else:\n",
    "    print(\"B\")"
   ]
  },
  {
   "cell_type": "code",
   "execution_count": 53,
   "id": "cde1abe1-9b91-494f-8661-2002d7d2fb85",
   "metadata": {},
   "outputs": [
    {
     "name": "stdout",
     "output_type": "stream",
     "text": [
      "a\n"
     ]
    }
   ],
   "source": [
    "if {4,5}:\n",
    "    print(\"a\")\n",
    "else:\n",
    "    print(\"B\")"
   ]
  },
  {
   "cell_type": "code",
   "execution_count": 54,
   "id": "ff1d511a-f36d-469b-bed6-42c584671d26",
   "metadata": {},
   "outputs": [
    {
     "name": "stdout",
     "output_type": "stream",
     "text": [
      "B\n"
     ]
    }
   ],
   "source": [
    "if set():\n",
    "    print(\"a\")\n",
    "else:\n",
    "    print(\"B\")"
   ]
  },
  {
   "cell_type": "code",
   "execution_count": null,
   "id": "0baa6860-da5c-4fe0-a375-77840113f6cd",
   "metadata": {},
   "outputs": [],
   "source": []
  },
  {
   "cell_type": "code",
   "execution_count": 60,
   "id": "929468a8-9194-4f35-bed5-dd2dec9588b1",
   "metadata": {},
   "outputs": [
    {
     "name": "stdin",
     "output_type": "stream",
     "text": [
      "Enter first string hello\n",
      "enter second string hi\n"
     ]
    },
    {
     "name": "stdout",
     "output_type": "stream",
     "text": [
      "hi\n"
     ]
    }
   ],
   "source": [
    "#accept two strings from the user if the numbers of characters inside the string are equal, show first in uppercase else show second string in lower case \n",
    "\n",
    "a = input(\"Enter first string\")\n",
    "b = input(\"enter second string\")\n",
    "\n",
    "if len(a) == len(b):\n",
    "    print( a.upper())\n",
    "else:\n",
    "    print( b.lower())"
   ]
  },
  {
   "cell_type": "code",
   "execution_count": 67,
   "id": "258f2f84-206c-4ca1-bff7-1692c76fcd2a",
   "metadata": {},
   "outputs": [
    {
     "name": "stdin",
     "output_type": "stream",
     "text": [
      "enter both strings hi,hi\n"
     ]
    },
    {
     "name": "stdout",
     "output_type": "stream",
     "text": [
      "HI\n"
     ]
    }
   ],
   "source": [
    "#using single input\n",
    "\n",
    "a = input(\"enter both strings\").split(\",\")\n",
    "\n",
    "if len(a[0]) == len(a[1]):\n",
    "    print(a[0].upper())\n",
    "else:\n",
    "    print(a[1].lower())\n",
    "\n"
   ]
  },
  {
   "cell_type": "code",
   "execution_count": 70,
   "id": "52919968-9d71-4819-ae68-3d1e59b255ed",
   "metadata": {},
   "outputs": [
    {
     "name": "stdin",
     "output_type": "stream",
     "text": [
      "Enter first number:  5\n"
     ]
    },
    {
     "name": "stdout",
     "output_type": "stream",
     "text": [
      "number is odd\n"
     ]
    }
   ],
   "source": [
    "#check whether the number entered by the user iis even or odd\n",
    "\n",
    "a = int(input(\"Enter first number: \"))\n",
    "\n",
    "if a%2==0:\n",
    "    print(\"number is even\")\n",
    "\n",
    "else:\n",
    "    print(\"number is odd\")\n",
    "    "
   ]
  },
  {
   "cell_type": "code",
   "execution_count": 73,
   "id": "72693c69-8405-430c-a6c0-65116e81cd94",
   "metadata": {},
   "outputs": [
    {
     "name": "stdin",
     "output_type": "stream",
     "text": [
      "enter the number:  2\n"
     ]
    },
    {
     "name": "stdout",
     "output_type": "stream",
     "text": [
      "number is positive\n"
     ]
    }
   ],
   "source": [
    "#number entered by the user is positive or negative\n",
    "\n",
    "a = int(input(\"enter the number: \"))\n",
    "\n",
    "if a>0:\n",
    "    print(\"number is positive\")\n",
    "\n",
    "else:\n",
    "    print(\"number is negative\")"
   ]
  },
  {
   "cell_type": "code",
   "execution_count": null,
   "id": "5c2be556-bf67-4470-a816-6ecee04395c0",
   "metadata": {},
   "outputs": [],
   "source": []
  },
  {
   "cell_type": "raw",
   "id": "03203ab1-396c-418d-b6a4-8f5308a74845",
   "metadata": {},
   "source": [
    "else if"
   ]
  },
  {
   "cell_type": "raw",
   "id": "b284a012-d9ea-479b-8ac4-18832c038dc7",
   "metadata": {},
   "source": [
    "if cond1:\n",
    "    exp1\n",
    "\n",
    "elif cond2:\n",
    "    exp2\n",
    "\n",
    "elif cond3:\n",
    "    exp3\n",
    "\n",
    "elif cond4:\n",
    "    exp4"
   ]
  },
  {
   "cell_type": "code",
   "execution_count": 78,
   "id": "e175e124-bc1a-4ca4-81aa-05e6b058f62b",
   "metadata": {},
   "outputs": [
    {
     "name": "stdin",
     "output_type": "stream",
     "text": [
      " -9\n"
     ]
    },
    {
     "name": "stdout",
     "output_type": "stream",
     "text": [
      "negative\n"
     ]
    }
   ],
   "source": [
    "#no is positive or negative\n",
    "\n",
    "a = int(input())\n",
    "\n",
    "if a>0:\n",
    "    print(\"positive\")\n",
    "\n",
    "elif a==0:\n",
    "    print(\"zero\")\n",
    "\n",
    "else:\n",
    "    print(\"negative\")"
   ]
  },
  {
   "cell_type": "code",
   "execution_count": 8,
   "id": "852950ae-c870-4809-a0c3-0ec59225028a",
   "metadata": {},
   "outputs": [
    {
     "name": "stdin",
     "output_type": "stream",
     "text": [
      "Enter the first number:  99\n",
      "Enter the second number:  100\n",
      "Enter the third number:  98\n"
     ]
    },
    {
     "name": "stdout",
     "output_type": "stream",
     "text": [
      "The second number is the greatest.\n"
     ]
    }
   ],
   "source": [
    " # greatest of three\n",
    "\n",
    "a = int(input(\"Enter the first number: \"))\n",
    "b = int(input(\"Enter the second number: \"))\n",
    "c = int(input(\"Enter the third number: \"))\n",
    "\n",
    "if a >= b and a >= c:\n",
    "    print(\"The first number is the greatest.\")\n",
    "elif b >= a and b >= c:\n",
    "    print(\"The second number is the greatest.\")\n",
    "else:\n",
    "    print(\"The third number is the greatest.\")\n"
   ]
  },
  {
   "cell_type": "code",
   "execution_count": null,
   "id": "b144d86f-c650-4cd2-be3f-4d41c0df9a68",
   "metadata": {},
   "outputs": [],
   "source": [
    "\n"
   ]
  },
  {
   "cell_type": "raw",
   "id": "a15a4938-9444-4ee3-a476-025572c9f7af",
   "metadata": {},
   "source": [
    "in operator\n",
    "checks whether that given value is present in that datatype or not "
   ]
  },
  {
   "cell_type": "code",
   "execution_count": 98,
   "id": "5cf40b48-84cd-474e-b395-d4ed89d38021",
   "metadata": {},
   "outputs": [],
   "source": [
    "l = [43,4,90]"
   ]
  },
  {
   "cell_type": "code",
   "execution_count": 99,
   "id": "62130c4c-3d95-43e9-b27b-378299834089",
   "metadata": {},
   "outputs": [
    {
     "data": {
      "text/plain": [
       "True"
      ]
     },
     "execution_count": 99,
     "metadata": {},
     "output_type": "execute_result"
    }
   ],
   "source": [
    "90 in l"
   ]
  },
  {
   "cell_type": "code",
   "execution_count": 100,
   "id": "61263498-c6b3-4017-84b6-2d732af59e7d",
   "metadata": {},
   "outputs": [],
   "source": [
    "d = {\"a\", \"n\", \"d\"}"
   ]
  },
  {
   "cell_type": "code",
   "execution_count": 101,
   "id": "1efd062b-8843-47ce-b532-81c28cdc1fd7",
   "metadata": {},
   "outputs": [
    {
     "data": {
      "text/plain": [
       "True"
      ]
     },
     "execution_count": 101,
     "metadata": {},
     "output_type": "execute_result"
    }
   ],
   "source": [
    "\"a\" in d"
   ]
  },
  {
   "cell_type": "code",
   "execution_count": 102,
   "id": "860fa9f4-f73f-4ee0-ae1c-91f13d07246d",
   "metadata": {},
   "outputs": [
    {
     "data": {
      "text/plain": [
       "False"
      ]
     },
     "execution_count": 102,
     "metadata": {},
     "output_type": "execute_result"
    }
   ],
   "source": [
    "\"c\" in d"
   ]
  },
  {
   "cell_type": "code",
   "execution_count": null,
   "id": "8879d949-2b90-4082-90b3-abb46f7625de",
   "metadata": {},
   "outputs": [],
   "source": []
  },
  {
   "cell_type": "code",
   "execution_count": null,
   "id": "65d63014-bcd3-4d64-af51-d696ba92c2dc",
   "metadata": {},
   "outputs": [],
   "source": []
  },
  {
   "cell_type": "code",
   "execution_count": 103,
   "id": "fca11f82-3505-4c33-a262-a76625153f5a",
   "metadata": {},
   "outputs": [
    {
     "name": "stdout",
     "output_type": "stream",
     "text": [
      "welcome to sasta calculator\n"
     ]
    }
   ],
   "source": [
    "#calculator \n",
    "\n",
    "print(\"welcome to sasta calculator\")\n"
   ]
  },
  {
   "cell_type": "code",
   "execution_count": 110,
   "id": "548e1620-cb63-48ba-b44e-1eafccebfc9b",
   "metadata": {},
   "outputs": [
    {
     "ename": "SyntaxError",
     "evalue": "invalid non-printable character U+FEFF (800753972.py, line 1)",
     "output_type": "error",
     "traceback": [
      "\u001b[1;36m  Cell \u001b[1;32mIn[110], line 1\u001b[1;36m\u001b[0m\n\u001b[1;33m    ﻿m = int(input(\"enter sub1 marks: \"))\u001b[0m\n\u001b[1;37m    ^\u001b[0m\n\u001b[1;31mSyntaxError\u001b[0m\u001b[1;31m:\u001b[0m invalid non-printable character U+FEFF\n"
     ]
    }
   ],
   "source": [
    "﻿m = int(input(\"enter sub1 marks: \")) \n",
    "n = int(input(\"enter sub2 marks: \")) \n",
    "o = int(input(\"enter sub3 marks: \"))\n",
    "if (m+n+o) >200:\n",
    "    if (((m+n+o)/3)>=50 and ((m+n+o)/3) <70):\n",
    "        print(\"C\")\n",
    "    elif (((m+n+o)/3)>=70 and ((m+n+o)/3) <90):\n",
    "        print(\"B\")\n",
    "    elif ((m+n+o)/3)>=90:\n",
    "        print(\"A\")\n",
    "    else:\n",
    "        print(\"grade not available\")\n",
    "else:\n",
    "    print(\"total less than 200, you are fail\")\n"
   ]
  },
  {
   "cell_type": "code",
   "execution_count": 111,
   "id": "8e385158-6d7c-411a-8a17-e398dbec9e1c",
   "metadata": {},
   "outputs": [
    {
     "name": "stdin",
     "output_type": "stream",
     "text": [
      "enter sub1 marks 56\n",
      "enter sub2 marks 76\n",
      "enter sub3 marks 43\n"
     ]
    },
    {
     "name": "stdout",
     "output_type": "stream",
     "text": [
      "total less than 200, you are fail\n"
     ]
    }
   ],
   "source": [
    "a=int(input(\"enter sub1 marks\"))\n",
    "b=int(input(\"enter sub2 marks\"))\n",
    "c=int(input(\"enter sub3 marks\"))\n",
    "if (a+b+c)>200:\n",
    "    if (((a+b+c)/3)>=50 and ((a+b+c)/3)<70):\n",
    "        print(\"C\")\n",
    "    elif (((a+b+c)/3)>=70 and ((a+b+c)/3)<90):\n",
    "        print(\"B\")\n",
    "    elif ((a+b+c)/3)>=90:\n",
    "          print(\"A\")\n",
    "    else:\n",
    "          print(\"grade not available\")\n",
    "          \n",
    "else:\n",
    "          print(\"total less than 200, you are fail\")\n"
   ]
  },
  {
   "cell_type": "code",
   "execution_count": null,
   "id": "78ac01f2-1dc2-4264-aad7-13fa2afc4534",
   "metadata": {},
   "outputs": [],
   "source": [
    "\n",
    "\n"
   ]
  },
  {
   "cell_type": "code",
   "execution_count": 27,
   "id": "28c04fbf-f5ef-4b10-9a10-77e2e4eae8b0",
   "metadata": {},
   "outputs": [
    {
     "name": "stdout",
     "output_type": "stream",
     "text": [
      "welcome to sasta calculator\n",
      "---------------------------------\n",
      "Please select your choice\n",
      "---------------------------------\n",
      "1.Addition\n",
      "2.Subtraction\n",
      "3.Multiplication\n",
      "4.Division\n",
      "5.Remainder\n",
      "---------------------------------\n"
     ]
    },
    {
     "name": "stdin",
     "output_type": "stream",
     "text": [
      "Enter First Number:  500\n",
      "Enter Second Number:  54\n"
     ]
    },
    {
     "name": "stdout",
     "output_type": "stream",
     "text": [
      "---------------------------------\n"
     ]
    },
    {
     "name": "stdin",
     "output_type": "stream",
     "text": [
      "Enter your choice:  9\n"
     ]
    },
    {
     "name": "stdout",
     "output_type": "stream",
     "text": [
      " \n",
      "Please Enter Valid Choice\n"
     ]
    }
   ],
   "source": [
    "print(\"welcome to sasta calculator\")\n",
    "print(\"---------------------------------\")\n",
    "print(\"Please select your choice\")\n",
    "print(\"---------------------------------\")\n",
    "print(\"1.Addition\")\n",
    "print(\"2.Subtraction\")\n",
    "print(\"3.Multiplication\")\n",
    "print(\"4.Division\")\n",
    "print(\"5.Remainder\")\n",
    "print(\"---------------------------------\")\n",
    "a = int(input(\"Enter First Number: \"))\n",
    "b = int(input(\"Enter Second Number: \"))\n",
    "\n",
    "print(\"---------------------------------\")\n",
    "\n",
    "choice = int(input(\"Enter your choice: \"))\n",
    "\n",
    "print(\" \")\n",
    "\n",
    "if choice < 1 or choice > 5:\n",
    "    print(\"Please Enter Valid Choice\")\n",
    "else:\n",
    "    if choice == 1:\n",
    "        print(\"Sum of\", a, \"and\", b, \"is:\", a + b)\n",
    "    elif choice == 2:\n",
    "        print(\"Difference of\", a, \"and\", b, \"is:\", a - b)\n",
    "    elif choice == 3:\n",
    "        print(\"Product of\", a, \"and\", b, \"is:\", a * b)\n",
    "    elif choice == 4:\n",
    "        if b != 0:\n",
    "            print(\"Division of\", a, \"by\", b, \"is:\", a / b)\n",
    "        else:\n",
    "            print(\"Cannot divide by zero\")\n",
    "    elif choice == 5:\n",
    "        print(\"Remainder of\", a, \"divided by\", b, \"is:\", a%b)\n"
   ]
  },
  {
   "cell_type": "code",
   "execution_count": null,
   "id": "8dc3b75d-a5bb-47ff-8422-b6e83afcc294",
   "metadata": {},
   "outputs": [],
   "source": []
  },
  {
   "cell_type": "code",
   "execution_count": 1,
   "id": "25e5c6ff-6d8d-4720-b4a6-b61175b312bf",
   "metadata": {},
   "outputs": [
    {
     "ename": "SyntaxError",
     "evalue": "invalid syntax (3539664940.py, line 4)",
     "output_type": "error",
     "traceback": [
      "\u001b[1;36m  Cell \u001b[1;32mIn[1], line 4\u001b[1;36m\u001b[0m\n\u001b[1;33m    elif user_input ==\u001b[0m\n\u001b[1;37m                      ^\u001b[0m\n\u001b[1;31mSyntaxError\u001b[0m\u001b[1;31m:\u001b[0m invalid syntax\n"
     ]
    }
   ],
   "source": [
    "user_input = input(\"Enter your city:\")\n",
    "if user_input == \"Delhi\":\n",
    "    print(\"Monument of\" , user_input , \"is Red Fort\")\n",
    "elif user_input =="
   ]
  },
  {
   "cell_type": "code",
   "execution_count": null,
   "id": "c1bdace2-4f63-4aff-b12e-dac5fda56593",
   "metadata": {},
   "outputs": [],
   "source": []
  },
  {
   "cell_type": "code",
   "execution_count": 37,
   "id": "f383af10-9130-486d-b193-81a2ab2c6a81",
   "metadata": {},
   "outputs": [
    {
     "name": "stdin",
     "output_type": "stream",
     "text": [
      " u\n"
     ]
    },
    {
     "name": "stdout",
     "output_type": "stream",
     "text": [
      "ok\n"
     ]
    }
   ],
   "source": [
    "a = input()\n",
    "\n",
    "l = [ \"a\" , \"e\" , \"i\" , \"o\" , \"u\"]\n",
    "\n",
    "if a in l:\n",
    "    print(\"ok\")\n",
    "else:\n",
    "    print(\"not present\")"
   ]
  },
  {
   "cell_type": "code",
   "execution_count": null,
   "id": "080c7d6d-b24a-4559-b4a3-2dea4a781306",
   "metadata": {},
   "outputs": [],
   "source": []
  },
  {
   "cell_type": "code",
   "execution_count": 55,
   "id": "480ad228-b75e-4ffa-b5ac-0f635426eb26",
   "metadata": {},
   "outputs": [
    {
     "name": "stdin",
     "output_type": "stream",
     "text": [
      " 11\n",
      " 12\n"
     ]
    },
    {
     "name": "stdout",
     "output_type": "stream",
     "text": [
      "Floor div:  0\n"
     ]
    }
   ],
   "source": [
    "#take two numbers from user check whether second number is zero or not\n",
    "#if number is zero denominatior should not be zero\n",
    "# if not then both numbers > 10 \n",
    "# if no print msg\n",
    "#if yes check >5 or not \n",
    "#if not print msg\n",
    "#if yes check >7 or not\n",
    "# if yes do // \n",
    "#if not %\n",
    "\n",
    "\n",
    "a = int(input())\n",
    "b = int(input())\n",
    "\n",
    "l = [a,b]\n",
    "if b != 0:\n",
    "    if a > 10 and b > 10:\n",
    "        if a > 5 and b > 5:\n",
    "            if a > 7:\n",
    "                print(\"Floor div: \" , a//b)\n",
    "            else:\n",
    "                print(\"Remainder: \" , a%b)\n",
    "        else:\n",
    "            print(\"number is smaller than 5\")\n",
    "    else:\n",
    "        print(\"both numbers are smaller than 10\")\n",
    "            \n",
    "else:\n",
    "    print(\"Second number should not be zero\")\n",
    "\n",
    "\n"
   ]
  },
  {
   "cell_type": "code",
   "execution_count": 78,
   "id": "2cb8dd0b-4d7e-4d9f-a473-54d2377660cc",
   "metadata": {},
   "outputs": [
    {
     "name": "stdin",
     "output_type": "stream",
     "text": [
      " sahil ok minimum\n"
     ]
    },
    {
     "name": "stdout",
     "output_type": "stream",
     "text": [
      "['sahil', 'ok', 'minimum']\n",
      "3\n"
     ]
    }
   ],
   "source": [
    "#take text input from the user \n",
    "#check length of the text\n",
    "#if len > 10 \n",
    "#no = msg\n",
    "#yes check len < 20\n",
    "#no = msg\n",
    "#yes check len < 15 & > 18 \n",
    "#yes split string after split display no of words\n",
    "#no reverse string\n",
    "\n",
    "a = input()\n",
    "len(a)\n",
    "\n",
    "if len(a) > 10:\n",
    "    if len(a) < 20:\n",
    "        if len(a) > 15 and len(a) < 18:\n",
    "            print(a.split(\" \"))\n",
    "            print(len(a.split(\" \")))\n",
    "        else:\n",
    "            print(a[::-1])\n",
    "    else:\n",
    "        print(\"msg2\")\n",
    "else:\n",
    "    print(\"msg1\")"
   ]
  },
  {
   "cell_type": "code",
   "execution_count": 3,
   "id": "bb72820c-24a1-4677-9076-8a4114a180f5",
   "metadata": {},
   "outputs": [
    {
     "name": "stdin",
     "output_type": "stream",
     "text": [
      " ele\n"
     ]
    },
    {
     "name": "stdout",
     "output_type": "stream",
     "text": [
      "String is palindrome\n"
     ]
    }
   ],
   "source": [
    "# check whether entered string is plaindrome or not\n",
    "\n",
    "a = input()\n",
    "b = a[::-1]\n",
    "\n",
    "if a == b:\n",
    "    print(\"String is palindrome\")\n",
    "else:\n",
    "    print(\"Not palindrome\")"
   ]
  },
  {
   "cell_type": "code",
   "execution_count": null,
   "id": "36d0e314-5122-453d-9f68-46f732afe279",
   "metadata": {},
   "outputs": [],
   "source": []
  },
  {
   "cell_type": "code",
   "execution_count": null,
   "id": "fbf90e13-2ed2-4390-bdfa-09216b9c6f43",
   "metadata": {},
   "outputs": [],
   "source": []
  }
 ],
 "metadata": {
  "kernelspec": {
   "display_name": "Python 3 (ipykernel)",
   "language": "python",
   "name": "python3"
  },
  "language_info": {
   "codemirror_mode": {
    "name": "ipython",
    "version": 3
   },
   "file_extension": ".py",
   "mimetype": "text/x-python",
   "name": "python",
   "nbconvert_exporter": "python",
   "pygments_lexer": "ipython3",
   "version": "3.11.7"
  }
 },
 "nbformat": 4,
 "nbformat_minor": 5
}
